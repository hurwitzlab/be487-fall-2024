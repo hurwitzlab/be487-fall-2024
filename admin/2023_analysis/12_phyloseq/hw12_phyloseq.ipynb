{
 "cells": [
  {
   "cell_type": "markdown",
   "id": "cb0eb65e",
   "metadata": {},
   "source": [
    "# Creating biom files from Kraken results files\n",
    "\n",
    "This notebook will go through the workflow for creating biom files\n",
    "that we can use in R and specifically the phyloseq and microViz packages for\n",
    "data analysis \n",
    "\n",
    "Step 1: Create biom files from Kraken/Braken results for your cohort\n"
   ]
  },
  {
   "cell_type": "markdown",
   "id": "07ebed36",
   "metadata": {},
   "source": [
    "## Getting Started\n",
    "\n",
    "You will need to rerun this section each time you come back to this notebook to reset all directories and variables."
   ]
  },
  {
   "cell_type": "code",
   "execution_count": null,
   "id": "e7a46521",
   "metadata": {},
   "outputs": [],
   "source": [
    "# set the variables for your netid\n",
    "netid = \"YOUR_NETID\""
   ]
  },
  {
   "cell_type": "code",
   "execution_count": null,
   "id": "75d388ce",
   "metadata": {},
   "outputs": [],
   "source": [
    "# Go into the working directory\n",
    "work_dir = \"/xdisk/bhurwitz/bh_class/\" + netid + \"/assignments/12_phyloseq\"\n",
    "%cd $work_dir"
   ]
  },
  {
   "cell_type": "code",
   "execution_count": null,
   "id": "62405a06",
   "metadata": {},
   "outputs": [],
   "source": [
    "# Check which set you have\n",
    "!ls $work_dir/data"
   ]
  },
  {
   "cell_type": "code",
   "execution_count": null,
   "id": "a71ddb2f",
   "metadata": {},
   "outputs": [],
   "source": [
    "# Set the variable for your set id based on the info above\n",
    "# This should be something like setid = \"set21\"\n",
    "setid = \"YOUR_SET\""
   ]
  },
  {
   "cell_type": "markdown",
   "id": "380dffed",
   "metadata": {},
   "source": [
    "## Creating a config file\n",
    "Let's create a config file with all of the variables we will need in the scripts below. Then when we want to use these variables in the script, we will \"source\" the config file to set the variables."
   ]
  },
  {
   "cell_type": "code",
   "execution_count": null,
   "id": "049cf341",
   "metadata": {},
   "outputs": [],
   "source": [
    "# create a config file with all of the variables you need\n",
    "!echo \"export NETID=$netid\" > config.sh\n",
    "!echo \"export SETID=$setid\" >> config.sh\n",
    "!echo \"export WORK_DIR=/xdisk/bhurwitz/bh_class/$netid/assignments/12_phyloseq\" >> config.sh\n",
    "!echo \"export DATA_DIR=/xdisk/bhurwitz/bh_class/$netid/assignments/12_phyloseq/data\" >> config.sh\n",
    "!echo \"export KRAKENBIOM=/contrib/singularity/shared/bhurwitz/kraken-biom:1.2.0--pyh5e36f6f_0.sif\" >> config.sh"
   ]
  },
  {
   "cell_type": "code",
   "execution_count": null,
   "id": "1996dcc0",
   "metadata": {},
   "outputs": [],
   "source": [
    "# check the config file to be sure it is correct\n",
    "# Is your netid and xfile correct? Do you have the right directories?\n",
    "!cat config.sh"
   ]
  },
  {
   "cell_type": "markdown",
   "id": "bfeaabfe",
   "metadata": {},
   "source": [
    "## Step 1: Creating biom files for kraken results files\n",
    "\n",
    "In this step, we will convert kraken results files into biom files that we can use in R with the phyloseq package. Note that we will also be adding in metadata for your samples.\n"
   ]
  },
  {
   "cell_type": "code",
   "execution_count": null,
   "id": "df7e3021",
   "metadata": {},
   "outputs": [],
   "source": [
    "# Create a script to create biom files from kraken output\n",
    "my_code = '''#!/bin/bash\n",
    "#SBATCH --ntasks=1\n",
    "#SBATCH --nodes=1             \n",
    "#SBATCH --time=01:00:00   \n",
    "#SBATCH --partition=standard\n",
    "#SBATCH --account=bhurwitz                       \n",
    "#SBATCH --output=Job-biom.out\n",
    "#SBATCH --cpus-per-task=1\n",
    "#SBATCH --mem-per-cpu=1G  \n",
    "\n",
    "pwd; hostname; date\n",
    "\n",
    "source $SLURM_SUBMIT_DIR/config.sh\n",
    "\n",
    "cd ${WORK_DIR}/data\n",
    "REPORTS=${SETID}_reports\n",
    "METADATA=${SETID}.samples.meta.txt\n",
    "\n",
    "apptainer run ${KRAKENBIOM} kraken-biom \\\n",
    "-k $REPORTS \\\n",
    "--fmt json \\\n",
    "-m $METADATA \\\n",
    "-o ${WORK_DIR}/${SETID}.biom\n",
    "\n",
    "echo \"Finished `date`\"\n",
    "\n",
    "'''\n",
    "\n",
    "with open('run_kraken_biom.sh', mode='w') as file:\n",
    "    file.write(my_code)"
   ]
  },
  {
   "cell_type": "code",
   "execution_count": null,
   "id": "231b9374",
   "metadata": {},
   "outputs": [],
   "source": [
    "# Check the code and make sure your script above was created.\n",
    "!cat run_kraken_biom.sh"
   ]
  },
  {
   "cell_type": "code",
   "execution_count": null,
   "id": "e9e42306",
   "metadata": {},
   "outputs": [],
   "source": [
    "# you should be in your working directory when you run this script\n",
    "# do you see your config.sh file, and the run_kraken_biom_parallel.sh script?\n",
    "!pwd\n",
    "!ls"
   ]
  },
  {
   "cell_type": "code",
   "execution_count": null,
   "id": "fe884278",
   "metadata": {},
   "outputs": [],
   "source": [
    "# Let's run sbatch to run kraken-biom\n",
    "!sbatch run_kraken_biom.sh"
   ]
  },
  {
   "cell_type": "code",
   "execution_count": null,
   "id": "3699608e",
   "metadata": {},
   "outputs": [],
   "source": [
    "# Welcome back\n",
    "# You can check if it is running using the squeue command\n",
    "# Check for all jobs under your netid\n",
    "!squeue --user=$netid"
   ]
  },
  {
   "cell_type": "code",
   "execution_count": null,
   "id": "36e70ffc",
   "metadata": {},
   "outputs": [],
   "source": [
    "# You can check to see if there are any errors by looking at one of the job output files\n",
    "!cat Job-biom.out"
   ]
  },
  {
   "cell_type": "code",
   "execution_count": null,
   "id": "688ab204",
   "metadata": {},
   "outputs": [],
   "source": [
    "# check to make sure you have a .biom file\n",
    "!ls -l *.biom"
   ]
  },
  {
   "cell_type": "markdown",
   "id": "83501ab5",
   "metadata": {},
   "source": [
    "## Final Step\n",
    "Copy your notebook to the current working directory"
   ]
  },
  {
   "cell_type": "code",
   "execution_count": null,
   "id": "b5b6190d",
   "metadata": {},
   "outputs": [],
   "source": [
    "cp ~/hw12_phyloseq.ipynb $work_dir"
   ]
  }
 ],
 "metadata": {
  "kernelspec": {
   "display_name": "Python 3 (ipykernel)",
   "language": "python",
   "name": "python3"
  },
  "language_info": {
   "codemirror_mode": {
    "name": "ipython",
    "version": 3
   },
   "file_extension": ".py",
   "mimetype": "text/x-python",
   "name": "python",
   "nbconvert_exporter": "python",
   "pygments_lexer": "ipython3",
   "version": "3.8.12"
  }
 },
 "nbformat": 4,
 "nbformat_minor": 5
}
