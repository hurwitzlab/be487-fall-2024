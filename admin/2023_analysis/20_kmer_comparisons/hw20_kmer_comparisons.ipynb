{
 "cells": [
  {
   "cell_type": "markdown",
   "id": "cb0eb65e",
   "metadata": {},
   "source": [
    "# Comparative metagenomics using SIMKA\n",
    "\n",
    "This notebook will walk you through how to run a de novo comparative metagenomics analysis using SIMKA\n",
    "\n",
    "Step 1: Run SIMKA on the read files for your set & create visualizations\n"
   ]
  },
  {
   "cell_type": "markdown",
   "id": "07ebed36",
   "metadata": {},
   "source": [
    "## Getting Started\n",
    "\n",
    "You will need to rerun this section each time you come back to this notebook to reset all directories and variables."
   ]
  },
  {
   "cell_type": "code",
   "execution_count": null,
   "id": "e7a46521",
   "metadata": {},
   "outputs": [],
   "source": [
    "# set the variables for your netid\n",
    "netid = \"YOUR_NETID\"\n",
    "setid = \"YOUR_SETID\""
   ]
  },
  {
   "cell_type": "code",
   "execution_count": null,
   "id": "75d388ce",
   "metadata": {},
   "outputs": [],
   "source": [
    "# Go into the working directory\n",
    "work_dir = \"/xdisk/bhurwitz/bh_class/\" + netid + \"/assignments/20_kmer_comparisons\"\n",
    "%cd $work_dir"
   ]
  },
  {
   "cell_type": "markdown",
   "id": "380dffed",
   "metadata": {},
   "source": [
    "## Creating a config file\n",
    "Let's create a config file with all of the variables we will need in the scripts below. Then when we want to use these variables in the script, we will \"source\" the config file to set the variables."
   ]
  },
  {
   "cell_type": "code",
   "execution_count": null,
   "id": "049cf341",
   "metadata": {},
   "outputs": [],
   "source": [
    "# create a config file with all of the variables you need\n",
    "!echo \"export NETID=$netid\" > config.sh\n",
    "!echo \"export SETID=$setid\" >> config.sh\n",
    "!echo \"export WORK_DIR=/xdisk/bhurwitz/bh_class/$netid/assignments/20_kmer_comparisons\" >> config.sh\n",
    "!echo \"export SIMKA=/contrib/singularity/shared/bhurwitz/simka:1.5.3--hdcf5f25_4.sif\" >> config.sh\n",
    "!echo \"export KMER=31\" >> config.sh"
   ]
  },
  {
   "cell_type": "code",
   "execution_count": null,
   "id": "1996dcc0",
   "metadata": {},
   "outputs": [],
   "source": [
    "# check the config file to be sure it is correct\n",
    "# Is your netid and xfile correct? Do you have the right directories?\n",
    "!cat config.sh"
   ]
  },
  {
   "cell_type": "markdown",
   "id": "bfeaabfe",
   "metadata": {},
   "source": [
    "## Step 1: Running SIMKA on the fastq files for all of the samples in your set\n",
    "\n",
    "In this step, we will run SIMKA to do an all-vs-all sequence comparsion of all of the read files in your set.\n"
   ]
  },
  {
   "cell_type": "code",
   "execution_count": null,
   "id": "df7e3021",
   "metadata": {},
   "outputs": [],
   "source": [
    "# Create a run script to run simka on all fastq files\n",
    "my_code = '''#!/bin/bash\n",
    "#SBATCH --nodes=1\n",
    "#SBATCH --ntasks=4        \n",
    "#SBATCH --partition=standard\n",
    "#SBATCH --account=bhurwitz                       \n",
    "#SBATCH --output=Job-simka.out\n",
    "#SBATCH --mem=24gb\n",
    "#SBATCH --time=48:00:00 \n",
    "\n",
    "pwd; hostname; date\n",
    "\n",
    "module load python/3.9/3.9.10\n",
    "module load R/4.2.2\n",
    "\n",
    "# load environment\n",
    "CONDA=\"/groups/bhurwitz/miniconda3\"\n",
    "source $CONDA/etc/profile.d/conda.sh\n",
    "conda activate simka\n",
    "\n",
    "source $SLURM_SUBMIT_DIR/config.sh\n",
    "\n",
    "cd ${WORK_DIR}\n",
    "FILE_LIST=${SETID}_simka_list\n",
    "TEMP=${SETID}_simka_temp\n",
    "META=${SETID}_simka_meta\n",
    "\n",
    "mkdir simka_${KMER}_results\n",
    "\n",
    "### run simka\n",
    "\n",
    "simka \\\n",
    "-kmer-size ${KMER} \\\n",
    "-in ${FILE_LIST} \\\n",
    "-out simka_${KMER}_results \\\n",
    "-out-tmp ${TEMP} \\\n",
    "-nb-cores 128 \\\n",
    "-count-file ./simka_count.sh \\\n",
    "-merge-file ./simka_merge.sh \\\n",
    "-count-cmd 'sbatch' \\\n",
    "-merge-cmd 'sbatch' \\\n",
    "-max-count 28 \\\n",
    "-max-merge 28 \\\n",
    "-max-memory 768000\n",
    "\n",
    "### run visualization\n",
    "\n",
    "python /groups/bhurwitz/tools/simka/visualization/run-visualization.py \\\n",
    "-in simka_${KMER}_results \\\n",
    "-out simka_${KMER}_figures \\\n",
    "-metadata-in ${META} \\\n",
    "-metadata-variable type \\\n",
    "-pca -heatmap -tree\n",
    "\n",
    "echo \"Finished `date`\"\n",
    "\n",
    "'''\n",
    "\n",
    "with open('run_simka.sh', mode='w') as file:\n",
    "    file.write(my_code)"
   ]
  },
  {
   "cell_type": "code",
   "execution_count": null,
   "id": "231b9374",
   "metadata": {},
   "outputs": [],
   "source": [
    "# Create a script to make simka count kmers in parallel on the HPC\n",
    "my_code = '''#!/bin/bash\n",
    "#SBATCH --nodes=1\n",
    "#SBATCH --ntasks=4        \n",
    "#SBATCH --partition=standard\n",
    "#SBATCH --account=bhurwitz                       \n",
    "#SBATCH --output=Job-ct-simka.out\n",
    "#SBATCH --mem=24gb\n",
    "#SBATCH --time=12:00:00 \n",
    "\n",
    "'''\n",
    "\n",
    "with open('simka_count.sh', mode='w') as file:\n",
    "    file.write(my_code)"
   ]
  },
  {
   "cell_type": "code",
   "execution_count": null,
   "id": "5627c558",
   "metadata": {},
   "outputs": [],
   "source": [
    "# Create a script to make simka count kmers in parallel on the HPC\n",
    "my_code = '''#!/bin/bash\n",
    "#SBATCH --nodes=1\n",
    "#SBATCH --ntasks=4        \n",
    "#SBATCH --partition=standard\n",
    "#SBATCH --account=bhurwitz                       \n",
    "#SBATCH --output=Job-merge-simka.out\n",
    "#SBATCH --mem=24gb\n",
    "#SBATCH --time=12:00:00 \n",
    "\n",
    "'''\n",
    "\n",
    "with open('simka_merge.sh', mode='w') as file:\n",
    "    file.write(my_code)"
   ]
  },
  {
   "cell_type": "code",
   "execution_count": null,
   "id": "e9e42306",
   "metadata": {},
   "outputs": [],
   "source": [
    "# you should be in your working directory when you run this script\n",
    "# do you see your config.sh file, and the run_simka.sh, simka_merge.sh, and simka_count.sh scripts?\n",
    "!pwd\n",
    "!ls"
   ]
  },
  {
   "cell_type": "code",
   "execution_count": 36,
   "id": "fe884278",
   "metadata": {},
   "outputs": [
    {
     "name": "stdout",
     "output_type": "stream",
     "text": [
      "Submitted batch job 8598784\r\n"
     ]
    }
   ],
   "source": [
    "# Let's run sbatch to run kraken-biom\n",
    "!sbatch run_simka.sh"
   ]
  },
  {
   "cell_type": "code",
   "execution_count": null,
   "id": "3699608e",
   "metadata": {},
   "outputs": [],
   "source": [
    "# Welcome back\n",
    "# You can check if it is running using the squeue command\n",
    "# Check for all jobs under your netid\n",
    "!squeue --user=$netid"
   ]
  },
  {
   "cell_type": "code",
   "execution_count": null,
   "id": "36e70ffc",
   "metadata": {},
   "outputs": [],
   "source": [
    "# You can check to see if there are any errors by looking at one of the job output files\n",
    "!cat Job-simka.out"
   ]
  },
  {
   "cell_type": "code",
   "execution_count": null,
   "id": "688ab204",
   "metadata": {},
   "outputs": [],
   "source": [
    "# copy the visualizations over to your home directory to check them out in jupyter\n",
    "!cp -r ./simka_31_figures ~"
   ]
  },
  {
   "cell_type": "markdown",
   "id": "83501ab5",
   "metadata": {},
   "source": [
    "## Final Step\n",
    "Copy your notebook to the current working directory"
   ]
  },
  {
   "cell_type": "code",
   "execution_count": null,
   "id": "b5b6190d",
   "metadata": {},
   "outputs": [],
   "source": [
    "cp ~/hw20_kmer_comparisons.ipynb $work_dir"
   ]
  }
 ],
 "metadata": {
  "kernelspec": {
   "display_name": "Python 3 (ipykernel)",
   "language": "python",
   "name": "python3"
  },
  "language_info": {
   "codemirror_mode": {
    "name": "ipython",
    "version": 3
   },
   "file_extension": ".py",
   "mimetype": "text/x-python",
   "name": "python",
   "nbconvert_exporter": "python",
   "pygments_lexer": "ipython3",
   "version": "3.8.12"
  }
 },
 "nbformat": 4,
 "nbformat_minor": 5
}
