{
 "cells": [
  {
   "cell_type": "markdown",
   "metadata": {},
   "source": [
    "# Getting New Jupyter Notebooks\n",
    "\n",
    "Author: Bonnie Hurwitz"
   ]
  },
  {
   "cell_type": "markdown",
   "metadata": {},
   "source": [
    "## Overview\n",
    "\n",
    "Over the course of the semester, I will add new Jupyter notebooks to our GitHub Repository for each module. You can use the steps below to get the latest notebooks without overwriting the changes you have made to previous notebooks.\n",
    "\n",
    "Here is an overview of the steps we will use below:\n",
    "\n",
    "1. Stash Your Changes: First, we will use `git stash` to save your current changes in your copy of the class repository. This action temporarily hides your modifications, but rest assured, they are safely stored.\n",
    "\n",
    "2. Update Your Repository: Next, we will run `git pull` to fetch and integrate the latest updates from the remote class repository into your local repository.\n",
    "\n",
    "3. Reapply Your Changes: Once your branch is up-to-date, use `git stash pop` to reapply your stashed changes and restore your working state. This will restore all of the jupyter notebooks you previously ran. \n",
    "\n",
    "Now your repository will be up to date with new notebooks for the next module, but your changes to the old notebooks will be maintained!\n",
    "\n",
    "-----\n"
   ]
  },
  {
   "cell_type": "code",
   "execution_count": null,
   "metadata": {
    "vscode": {
     "languageId": "shellscript"
    }
   },
   "outputs": [],
   "source": [
    "# Get the New Jupyter Notebooks\n",
    "%cd ~/be487-fall-2024\n",
    "!git stash\n",
    "!git pull\n",
    "!git stash pop"
   ]
  },
  {
   "cell_type": "markdown",
   "metadata": {},
   "source": [
    "### The End!"
   ]
  },
  {
   "cell_type": "markdown",
   "metadata": {},
   "source": [
    "#### Merge conflict?\n",
    "\n",
    "If you get an error saying that there is a \"merge conflict\"...\n",
    "\n",
    "Be aware that conflicts may arise during the git stash pop step, for example if I made a change to a notebook you already started working on. \n",
    "\n",
    "Typically, as developers we would walk through the merge conflict and look at the differences to resolve them. But, in our case, you will just want to copy the new assignment to the  \n",
    "\n",
    "\n",
    "To fix this, you can copy the assignment directly over from the class repository in /xdisk/bhurwitz/bh_class/be487-fall-2024.\n",
    "\n"
   ]
  },
  {
   "cell_type": "code",
   "execution_count": null,
   "metadata": {
    "vscode": {
     "languageId": "shellscript"
    }
   },
   "outputs": [],
   "source": [
    "# set the variables for your netid\n",
    "netid = \"MY_NETID\""
   ]
  },
  {
   "cell_type": "markdown",
   "metadata": {},
   "source": [
    "# Here is a list of the assignments you can select from to add to the command below:\n",
    "\n",
    "01_getting_started\n",
    "02_intro_unix\n",
    "03_bash_scripting\n",
    "04_metadata\n",
    "05_getting_data\n",
    "06_qc_trimming\n",
    "07_contam_removal\n",
    "08_assembly\n",
    "09_binning_quality\n",
    "10_taxonomy\n",
    "11_data_filter\n",
    "12_taxa_profiles\n",
    "13_diversity\n",
    "14_clustering\n",
    "15_comparisons\n",
    "16_function\n",
    "17_pathways\n",
    "18_func_profiles\n",
    "19_func_biomarkers\n",
    "20_taxon_set"
   ]
  },
  {
   "cell_type": "code",
   "execution_count": null,
   "metadata": {
    "vscode": {
     "languageId": "shellscript"
    }
   },
   "outputs": [],
   "source": [
    "# set the variables for the name of the assignment\n",
    "# select from the list above\n",
    "assignment = \"MY_ASSIGNMENT\""
   ]
  },
  {
   "cell_type": "code",
   "execution_count": null,
   "metadata": {
    "vscode": {
     "languageId": "shellscript"
    }
   },
   "outputs": [],
   "source": [
    "# If you need to get a new version of a notebook run a command like the following:\n",
    "!cp -r /xdisk/bhurwitz/bh_class/be487-fall-2024/exercises/$assignment ~/be487-fall-2024/exercises/$assignment\n",
    "!cp -r /xdisk/bhurwitz/bh_class/be487-fall-2024/assignments/$assignment ~/be487-fall-2024/assignments/$assignment"
   ]
  }
 ],
 "metadata": {
  "kernelspec": {
   "display_name": "Python 3 (ipykernel)",
   "language": "python",
   "name": "python3"
  },
  "language_info": {
   "codemirror_mode": {
    "name": "ipython",
    "version": 3
   },
   "file_extension": ".py",
   "mimetype": "text/x-python",
   "name": "python",
   "nbconvert_exporter": "python",
   "pygments_lexer": "ipython3",
   "version": "3.9.6"
  },
  "vscode": {
   "interpreter": {
    "hash": "1a1af0ee75eeea9e2e1ee996c87e7a2b11a0bebd85af04bb136d915cefc0abce"
   }
  }
 },
 "nbformat": 4,
 "nbformat_minor": 2
}
