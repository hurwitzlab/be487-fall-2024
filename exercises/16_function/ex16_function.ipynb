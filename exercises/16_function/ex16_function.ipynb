{
 "cells": [
  {
   "cell_type": "markdown",
   "metadata": {},
   "source": [
    "---\n",
    "# Functional Analyses\n",
    "\n",
    "### Questions:\n",
    "- What is HUMAnN 3?\n",
    "- What is the difference between a taxonomic profiler and classifier?\n",
    "- What is a pangenome?\n",
    "- Why do we used marker genes to identify taxa?\n",
    "- How does HUMAnN 3 convert marker genes into gene and pathway abundance?\n",
    "\n",
    "### Objectives:\n",
    "- Show how HUMAnN 3 can be used to quantify gene abundance to identify a parsimonious set of pathways.\n",
    "\n",
    "### Keypoints:\n",
    "\n",
    "- We can quantify pathway abundance and coverage by species using HUMAnN 3\n",
    "- HUMAnN 3 is mostly trained on human microbiome datasets.\n",
    "---"
   ]
  },
  {
   "cell_type": "markdown",
   "metadata": {},
   "source": [
    "## Getting Started"
   ]
  },
  {
   "cell_type": "code",
   "execution_count": null,
   "metadata": {
    "vscode": {
     "languageId": "plaintext"
    }
   },
   "outputs": [],
   "source": [
    "# set the variables for your netid\n",
    "netid = \"NETID\""
   ]
  },
  {
   "cell_type": "code",
   "execution_count": null,
   "metadata": {
    "vscode": {
     "languageId": "plaintext"
    }
   },
   "outputs": [],
   "source": [
    "# make a variable for the working directory\n",
    "work_dir = \"/xdisk/bhurwitz/bh_class/\" + netid + \"/exercises/16_function\""
   ]
  },
  {
   "cell_type": "markdown",
   "metadata": {},
   "source": [
    "### Functional analyses with HUMAnN 3\n",
    "\n",
    "HUMAnN 3 (Huttenhower’s Unified Metabolic Analysis Network version 3) is an advanced bioinformatics tool designed for profiling microbial functional and metabolic pathways in metagenomic sequencing data. It is part of the broader HUMAnN suite of tools, which are widely used in microbiome research to interpret complex microbial communities by linking sequencing data to biological functions, rather than just microbial taxonomic identification."
   ]
  },
  {
   "cell_type": "markdown",
   "metadata": {},
   "source": [
    "### Overview\n",
    "\n",
    "Here’s an overview of HUMAnN 3, its main features, and how it fits into microbiome research:\n",
    "\n",
    "Key Features of HUMAnN 3\n",
    "Functional Profiling: HUMAnN 3 focuses on functional analysis of microbial communities rather than just taxonomic identification. It aims to provide insight into the metabolic potential of the microbiome by identifying and quantifying genes, pathways, and metabolites that microbes in a given sample may produce.\n",
    "\n",
    "Comprehensive Pathway Mapping: HUMAnN 3 can identify and map microbial genes to known metabolic pathways and predict the functional capacities of microbial communities based on genomic or metagenomic sequencing data.\n",
    "\n",
    "Expanded Databases: HUMAnN 3 uses large databases, such as MetaCyc, KEGG, and UniProt, which contain detailed information on metabolic pathways, enzymes, and gene families. This allows for more accurate and comprehensive functional annotations than earlier versions.\n",
    "\n",
    "Improved Database Integration: It integrates several different databases and functional annotations into one unified framework. This includes integrating microbial genomes, pathways, and microbial gene families with metabolic and biosynthetic capabilities.\n",
    "\n",
    "Microbial Community Functionality: HUMAnN 3 identifies functional categories, such as carbohydrate metabolism, amino acid metabolism, and more, helping researchers understand the ecological and metabolic functions of microbiomes in different environments (e.g., human gut, skin, environmental samples).\n",
    "\n",
    "Strain-Level Profiling: Unlike some other tools that only analyze community-level functions, HUMAnN 3 can also provide strain-level resolution for microbial functional capabilities, offering insights into the diversity of functional traits even among closely related organisms."
   ]
  },
  {
   "cell_type": "markdown",
   "metadata": {},
   "source": [
    "#### How HUMAnN 3 Works\n",
    "\n",
    "Input Data:\n",
    "\n",
    "Metagenomic sequence data is the primary input. HUMAnN 3 can work with raw sequencing reads (e.g., from Illumina sequencing) or with assembled contigs from metagenomic sequencing projects.\n",
    "The tool takes as input FASTQ, FASTA, or SAM/BAM files, which are the standard formats for metagenomic sequence data.\n",
    "Preprocessing (Optional):\n",
    "\n",
    "The sequence data may undergo pre-processing steps like quality filtering, read trimming, or adapter removal using other tools before feeding it into HUMAnN 3.\n",
    "The tool can also optionally include a host DNA filtering step if working with human samples to remove contaminating host sequences (important for metagenomic datasets derived from human microbiomes).\n",
    "Taxonomic and Functional Annotation:\n",
    "\n",
    "HUMAnN 3 first maps sequence reads to a curated database of microbial genes and proteins using sequence alignment tools like DIAMOND or BLAST.\n",
    "It then uses the resulting gene matches to assign functional annotations (e.g., linking genes to metabolic pathways or enzymes). This step utilizes functional databases such as MetaCyc (pathways), KEGG (enzymes), and UniProt (protein sequences).\n",
    "Pathway Mapping:\n",
    "\n",
    "HUMAnN 3 performs pathway-level mapping by aggregating gene-level annotations into higher-level pathways, allowing for the identification of which metabolic pathways are present and their relative abundance in a sample.\n",
    "Pathways are categorized into different metabolic classes (e.g., carbohydrate metabolism, amino acid biosynthesis, or lipid metabolism).\n",
    "Output:\n",
    "\n",
    "The main output of HUMAnN 3 is a table of functional abundances, which can be used to compare microbial metabolic profiles across samples.\n",
    "The output includes several levels of information:\n",
    "Gene-level annotations (e.g., specific genes detected in the metagenomic data).\n",
    "Pathway-level abundances (e.g., relative abundance of specific metabolic pathways).\n",
    "Module-level information (e.g., a higher-level aggregation of related pathways).\n",
    "Protein family-level information.\n",
    "\n",
    "The output can be formatted for use with standard bioinformatics tools for statistical analysis, such as R or Python.\n",
    "\n",
    "Key Advantages of HUMAnN 3\n",
    "Comprehensive Functional Insight: HUMAnN 3 is designed to go beyond taxonomic composition to provide a deeper understanding of functional capacity and metabolic diversity within microbial communities. This is particularly important for microbiome research, where function often matters more than the identity of individual microbes."
   ]
  },
  {
   "cell_type": "markdown",
   "metadata": {},
   "source": [
    "### Flexibility and Customization:\n",
    "\n",
    "HUMAnN 3 is highly customizable, allowing users to select specific databases, taxonomic groups, or functional pathways to focus on.\n",
    "It also provides options for filtering out certain taxa or pathways, depending on the research question.\n",
    "Scalability:\n",
    "\n",
    "HUMAnN 3 is built to handle large metagenomic datasets, making it suitable for high-throughput microbiome studies and longitudinal analysis of microbiome function across different environments or conditions.\n",
    "It can process data from diverse sources, from human microbiomes to environmental samples.\n",
    "Integration with Other Tools: HUMAnN 3 can be integrated with other microbiome analysis tools and pipelines, such as QIIME 2 or Mothur, allowing users to combine taxonomic and functional data for more complete microbiome profiles."
   ]
  },
  {
   "cell_type": "markdown",
   "metadata": {},
   "source": [
    "### Applications of HUMAnN 3 in Microbiome Research\n",
    "Functional Microbiome Characterization:\n",
    "\n",
    "HUMAnN 3 is widely used to study the functional potential of microbial communities in the human gut, oral cavity, skin, and other environments. It helps identify key microbial pathways involved in digestion, metabolism, and immune modulation.\n",
    "Disease Associations:\n",
    "\n",
    "Researchers can use HUMAnN 3 to investigate how the functional profiles of microbiomes differ in disease states, such as inflammatory bowel disease (IBD), obesity, type 2 diabetes, and other conditions where microbial function plays a key role.\n",
    "Therapeutic Target Discovery:\n",
    "\n",
    "HUMAnN 3 can be used to identify microbial pathways that might be targeted for therapeutic interventions, such as probiotics, dietary changes, or antibiotics.\n",
    "By profiling the metabolic capabilities of microbiomes, HUMAnN 3 can help identify biomarkers associated with different diseases or therapeutic responses.\n",
    "Environmental Microbiomes:\n",
    "\n",
    "In addition to human microbiomes, HUMAnN 3 is also useful for profiling environmental microbiomes (e.g., soil, water, and air) to assess microbial activity and its role in ecological processes.\n",
    "Comparative Microbiome Analysis:\n",
    "\n",
    "HUMAnN 3 enables the comparison of microbial communities across different groups, conditions, or time points, to understand how microbiomes evolve or respond to treatments or environmental changes."
   ]
  },
  {
   "cell_type": "markdown",
   "metadata": {},
   "source": [
    "### Limitations of HUMAnN 3\n",
    "Database Dependency:\n",
    "\n",
    "While HUMAnN 3 integrates multiple databases, its performance and accuracy depend heavily on the completeness and quality of the underlying databases. Gaps in the databases can lead to incomplete or inaccurate functional annotations.\n",
    "Reference Bias:\n",
    "\n",
    "As with most functional annotation tools, HUMAnN 3 may exhibit reference bias, particularly when dealing with microbiomes from less-characterized or rare organisms. Some taxa or pathways may not be well-represented in the available reference databases.\n",
    "Computational Demands:\n",
    "\n",
    "Running HUMAnN 3 on large metagenomic datasets can be computationally intensive, requiring substantial memory and processing power, especially for complex microbial communities with high diversity."
   ]
  },
  {
   "cell_type": "markdown",
   "metadata": {},
   "source": [
    "#### Conclusion\n",
    "\n",
    "HUMAnN 3 is a powerful tool for microbiome researchers who want to explore microbial functionality in addition to taxonomic composition. By providing detailed profiles of microbial metabolic pathways, functional genes, and protein families, HUMAnN 3 enables deeper insights into the biological roles that microbiomes play in health and disease. It is a key tool for studying complex microbial systems and discovering how microbial communities contribute to human health, disease states, and environmental interactions."
   ]
  },
  {
   "cell_type": "markdown",
   "metadata": {},
   "source": [
    "# Check out the slides for the workshop on HUMAnN 3"
   ]
  },
  {
   "cell_type": "markdown",
   "metadata": {},
   "source": [
    "## The End\n",
    "\n",
    "Copy your notebook for future reference..."
   ]
  },
  {
   "cell_type": "code",
   "execution_count": null,
   "metadata": {
    "vscode": {
     "languageId": "plaintext"
    }
   },
   "outputs": [],
   "source": [
    "!cp ~/be487-fall-2024/exercises/16_function/ex16_function.ipynb $work_dir"
   ]
  }
 ],
 "metadata": {
  "kernelspec": {
   "display_name": "Python 3 (ipykernel)",
   "language": "python",
   "name": "python3"
  },
  "language_info": {
   "codemirror_mode": {
    "name": "ipython",
    "version": 3
   },
   "file_extension": ".py",
   "mimetype": "text/x-python",
   "name": "python",
   "nbconvert_exporter": "python",
   "pygments_lexer": "ipython3",
   "version": "3.8.12"
  }
 },
 "nbformat": 4,
 "nbformat_minor": 2
}
