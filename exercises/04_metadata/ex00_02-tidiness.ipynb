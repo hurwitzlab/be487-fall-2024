{
 "cells": [
  {
   "cell_type": "markdown",
   "metadata": {},
   "source": [
    "# Data Tidiness\n",
    "\n",
    "### Questions:\n",
    "- What metadata should I collect?\n",
    "- How should I structure my sequencing data and metadata?\n",
    "- Which ethical considerations involve microbiome data and metadata?\n",
    "\n",
    "### Objectives:\n",
    "- Think about and understand the types of metadata a sequencing experiment will generate.\n",
    "- Understand the importance of metadata and potential metadata standards.\n",
    "- Explore common formatting challenges in spreadsheet data.\n",
    "- Consider confidentiality issues that may arise from storing and sharing the metadata.\n",
    "\n",
    "### Keypoints:\n",
    "- Assigning and keeping track of appropriate unique ID identifiers must be a well-thought process.\n",
    "- Metadata is key for you and others to work with your data.\n",
    "- Tabular data needs to be structured to work with it effectively.\n",
    "- Human microbiome data requires informed consent and confidentiality.\n"
   ]
  },
  {
   "cell_type": "markdown",
   "metadata": {},
   "source": [
    "### Data Tidiness\n",
    "\n",
    "When we think about the data for a sequencing project, we often start by thinking about \n",
    "the sequencing data that we get back from the sequencing center, but just as important, \n",
    "if not more so, is the data you have generated about the sequences before they ever go to \n",
    "the sequencing center. Data about the data are often called the metadata. \n",
    "The sequence data itself is useless without the information about what you sequenced.  "
   ]
  },
  {
   "cell_type": "markdown",
   "metadata": {},
   "source": [
    "> ## Discussion 1\n",
    "> Think/Pair/Share: With the person next to you, discuss:\n",
    "> What kinds of data and information should you generate before you send your DNA/RNA off for sequencing?\n",
    ">\n",
    "<details>\n",
    "  <summary markdown=\"span\">Solution</summary>\n",
    "Types of files and information you have generated:  \n",
    "<ul>\n",
    "<li>Spreadsheet or tabular data with the data from your experiment and \n",
    "whatever you were measuring for your study.</li>\n",
    "<li>Lab notebook notes about how you conducted those experiments.</li>\n",
    "<li>Spreadsheet or tabular data about the samples you sent for sequencing.Sequencing centers often have a particular format they need \n",
    "with the name of the sample, DNA concentration, and other information.</li>\n",
    "<li>Lab notebook notes about how you prepared the DNA/RNA for sequencing and what type of sequencing you are doing, e.g., paired-end Illumina HiSeq.</li>\n",
    "<br>\n",
    "There likely will be other ideas here too.\n",
    "Was this more information and data than you were expecting?\n",
    "</details>\n",
    "<br>"
   ]
  },
  {
   "cell_type": "markdown",
   "metadata": {},
   "source": [
    "### What are Metadata?\n",
    "\n",
    "All the data and information discussed can be considered metadata, \n",
    "i.e., data about the data. We want to follow a few guidelines for metadata.\n",
    "\n",
    "#### Notes about your experiment\n",
    "\n",
    "Notes about your experiment, including how you prepared your samples for sequencing, should be in your lab notebook, whether a physical lab notebook or an electronic one. For guidelines on good lab notebooks, see the Howard Hughes Medical Institute \"Making the Right Moves: A Practical Guide to Scientifıc Management for Postdocs and New Faculty\" the section on [Data Management and Laboratory Notebooks](http://www.hhmi.org/sites/default/files/Educational%20Materials/Lab%20Management/Making%20the%20Right%20Moves/moves2_ch8.pdf).\n",
    "\n",
    "Including dates on your lab notebook pages, the samples themselves, and in any records about those samples help you associate everything with each other later. Using dates also helps create unique identifiers because even if you process the same sample twice, you do not usually do it on the same\n",
    "day, or if you do, you are aware of it and give them names like A and B.\n",
    "\n",
    "#### Unique identifiers\n",
    "Unique identifiers are unique names for a sample or set of sequencing data. They are names for that data that only exist for that data. Having these unique names makes them much easier to track later."
   ]
  },
  {
   "cell_type": "markdown",
   "metadata": {},
   "source": [
    "### Metadata: Data about the experiment\n",
    "\n",
    "Data about the experiment is usually collected in **spreadsheets**, like Excel. Alongside the spreadsheet, creating a text file called **README** is convenient. This file holds information about the research project, how the samples were generated, and how to read the metadata spreadsheet. \n",
    "This information is very convenient when working on a team, and more people join the project even at different experiment steps. This order may help better your collaborators to easily understand \n",
    "what the data is about.\n",
    "\n",
    "### Metadata standards\n",
    "The kind of data you would collect depends on your experiment; often, there are guidelines from metadata standards. Many fields have particular ways that they structure their metadata, so it is consistent and can be used across the area. The Digital Curation Center maintains [a list of metadata standards](http://www.dcc.ac.uk/resources/metadata-standards/list) and some that are particularly relevant for genomics data are available from the [Genomics Standards Consortium](http://gensc.org/projects/). In particular, assembly quality and an estimate of genome completeness and contamination are [standards for Metagenome-Assambled-Genomes](https://www.nature.com/articles/nbt.3893) (MAGs).  \n",
    "\n",
    "Cornell University gives us a useful [guide](https://data.research.cornell.edu/content/readme) and template [file](https://github.com/nselem/organization-metagenomics/blob/master/files/AUTHOR_DATASET_ReadmeTemplate.txt) to write README-style metadata."
   ]
  },
  {
   "cell_type": "markdown",
   "metadata": {},
   "source": [
    "> ### Discussion 2. What information would you write in your README file? \n",
    "> Propose a solution: Suppose that in your field, there are no metadata standards yet. Think about the \n",
    "> minimum amount of information that someone would need to be able to work with your data without talking to you. \n",
    "> What type of information would you put in your README file? \n",
    ">\n",
    "<details>\n",
    "  <summary markdown=\"span\">Solution</summary>\n",
    "Some examples of clarifications that need to be written in the README are:\n",
    "<ul>\n",
    "<li>Date format (mm-dd-yyyy or dd-mm-yyyy, for example).</li>\n",
    "<li>Meaning of abbreviations.</li>\n",
    "<li>Meaning or pattern followed to construct the unique IDs of samples.</li>\n",
    "<li>Details about the methodology.</li>\n",
    "<li>Contact information about the persons who performed the collection and/or experiments.</li>\n",
    "<li>Meaning of each variable name.</li>\n",
    "</ul>\n",
    "</details>"
   ]
  },
  {
   "cell_type": "markdown",
   "metadata": {},
   "source": [
    "> ### Discussion 3: Ethical considerations in microbiome studies\n",
    "> Case Study: The microbiomes knowledge is human's global heritage and must be ruled by ethical principles such as do good, do not harm, respect, and act justly.\n",
    "> While studying the human microbiome, there are particular concerns. For example, if you discover an infection such as HIV in the blood microbiome, would you inform the participants? What If they did not want to know? Following these principles, what other ethical considerations can you think about human microbiomes? \n",
    "<details>\n",
    "  <summary markdown=\"span\">Solution</summary>\n",
    "  <ul>\n",
    "<li>Respect: Ask participants to sign explicit prior informed consent.</li>  \n",
    "<li>Do good: Share the data but protect participant's privacy</li>\n",
    "<li>Do no harm: establish a policy about results communications.</li>\n",
    "<li>Do no harm: Consider the Invasiveness of sampling and minimize the risk</li>\n",
    "<li>Act justly: Favor diversity of subjects and justice</li> \n",
    "</ul>\n",
    "</details>\n"
   ]
  },
  {
   "cell_type": "markdown",
   "metadata": {},
   "source": [
    "### Structuring data in spreadsheets\n",
    "\n",
    "Independent of the type of data you are collecting, there are standard ways to enter that data \n",
    "into the spreadsheet to make it easier to analyze later. We often enter data that makes it easy \n",
    "for us as humans to read and work with it because we are human! Computers need data structured in \n",
    "a way that they can use it. So to use this data in a computational workflow, we need to think \n",
    "like computers when we use spreadsheets.\n",
    "\n",
    "The cardinal rules of using spreadsheet programs for data:\n",
    "\n",
    "- Leave the raw data raw - do not change it!\n",
    "- Put each observation in its own row. An observation is each of our samples, \n",
    "the subjects for which we store information in the spreadsheet. \n",
    "- Put all your variables in columns. The variables are the different pieces of information \n",
    "that we have about our sample (its genotype, phenotype, treatment, etc.). \n",
    "- Have column names explanatory but without spaces. Use '-', '_' or \n",
    "[camel case](https://en.wikipedia.org/wiki/Camel_case) instead of a space. \n",
    "For instance, 'library-prep-method' or 'LibraryPrep'is better than 'library preparation method' \n",
    "or 'prep', because computers interpret spaces in particular ways.\n",
    "- Do not combine multiple pieces of information in one cell. Sometimes it just seems \n",
    "like one thing, but think if that is the only way you will want to be able to use or sort that data. \n",
    "For example, instead of having a column with species and strain name (e.g., *E. coli* \n",
    "K12) you would have one column with the species name (*E. coli*) and another with \n",
    "the strain name (K12). Depending on the type of analysis you want to do, you may\n",
    "even separate the genus and species names into distinct columns.\n",
    "- Export the cleaned data to a text-based format like CSV (comma-separated values). \n",
    "This format ensures that anyone can use the data required by most data repositories."
   ]
  },
  {
   "cell_type": "markdown",
   "metadata": {},
   "source": [
    "> ## Discussion 4. Spreadsheet organization.\n",
    "> Think/Pair/Share: This is a potential spreadsheet data generated about a sequencing experiment. With the person next to you, for about 2 minutes, discuss some problems with the spreadsheet data shown below. You can look at the image or download the file to your computer via this [link](https://github.com/datacarpentry/organization-genomics/raw/gh-pages/files/Ecoli_metadata_composite_messy.xlsx) and open it in a spreadsheet reader like Excel. \n",
    "> [![Messy spreadsheet](../fig/01_tidiness_datasheet_example_messy.png)](https://github.com/datacarpentry/organization-genomics/raw/gh-pages/files/Ecoli_metadata_composite_messy.xlsx)\n",
    ">\n",
    "<details>\n",
    "  <summary markdown=\"span\">Solution</summary>\n",
    "  <ul>\n",
    "There are a few potential errors to be on the lookout for in your own data and data from collaborators or the Internet. Suppose you are aware of the errors and the possible negative effect on downstream data analysis and result interpretation. In that case, it might motivate you and your project members to try and avoid them. Making small changes to how you format your data in spreadsheets can greatly impact efficiency and reliability when it comes to data cleaning and analysis.\n",
    "</ul>\n",
    "\n",
    "<li>Using multiple tables\n",
    "<li>Using multiple tabs\n",
    "<li>Not filling in zeros\n",
    "<li>Using problematic null values\n",
    "<li>Using formatting to convey information\n",
    "<li>Using formatting to make the datasheet look pretty\n",
    "<li>Placing comments or units in cells\n",
    "<li>Entering more than one piece of information in a cell\n",
    "<li>Using problematic field names\n",
    "<li>Using special characters in data\n",
    "<li>Inclusion of metadata in the data table\n",
    "<li>Date formatting\n",
    "</details>\n",
    "<br>\n",
    "\n",
    "You can keep exploring issues on the metadata file in the [Data Carpentry Ecology spreadsheet lesson](http://www.datacarpentry.org/spreadsheet-ecology-lesson/02-common-mistakes/). Not all are present in this example. Discuss with the group what they found. Some problems include not all data sets having the same columns, datasets split into their own tables, color to encode information, different column names, and spaces in some columns names. Here is a \"clean\" version of the same spreadsheet:\n",
    "[Cleaned spreadsheet](https://raw.githubusercontent.com/datacarpentry/wrangling-genomics/gh-pages/files/Ecoli_metadata_composite.tsv)\n",
    "Download the file using right-click (PC)/command-click (Mac). "
   ]
  },
  {
   "cell_type": "markdown",
   "metadata": {},
   "source": [
    "### Further notes on data tidiness\n",
    "\n",
    "Data organization at this point of your experiment will help facilitate your analysis later, as well as prepare your data and notes for data deposition now often required by journals and funding agencies. If this is a collaborative the project, as most projects are now, it is also information that collaborators will need to interpret your data and results and is very useful for communication and efficiency.\n",
    "\n",
    "Fear not! If you have already started your project and it is not set up this way, there are still opportunities to make updates. One of the biggest challenges is tabular data that is not formatted so computers can use it or has inconsistencies that make it hard to analyze.\n",
    "\n",
    "When working in the command line, it is problematic to put spaces in the names of directories and files. \n",
    "\n",
    "More practice on how to structure data is outlined in the [Data Carpentry Ecology spreadsheet lesson](http://www.datacarpentry.org/spreadsheet-ecology-lesson/02-common-mistakes/)\n",
    "\n",
    "Tools like [OpenRefine](http://www.datacarpentry.org/OpenRefine-ecology-lesson/) can help you clean your data."
   ]
  }
 ],
 "metadata": {
  "kernelspec": {
   "display_name": "Python 3 (ipykernel)",
   "language": "python",
   "name": "python3"
  },
  "language_info": {
   "codemirror_mode": {
    "name": "ipython",
    "version": 3
   },
   "file_extension": ".py",
   "mimetype": "text/x-python",
   "name": "python",
   "nbconvert_exporter": "python",
   "pygments_lexer": "ipython3",
   "version": "3.8.12"
  },
  "vscode": {
   "interpreter": {
    "hash": "df955ce39d0f31d56d4bb2fe0a613e5326ba60723fd33d8303a3aede8f65715c"
   }
  }
 },
 "nbformat": 4,
 "nbformat_minor": 2
}
