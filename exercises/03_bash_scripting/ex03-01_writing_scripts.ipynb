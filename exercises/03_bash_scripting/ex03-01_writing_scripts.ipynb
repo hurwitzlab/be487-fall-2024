{
 "cells": [
  {
   "cell_type": "markdown",
   "metadata": {},
   "source": [
    "# Writing Scripts and Working with Data\n",
    "\n",
    "### Questions:\n",
    "- What is a for loop and how can iterate through many files?\n",
    "- What is basename, and why is it useful?\n",
    "- How can we automate a commonly used set of commands?\n",
    "- How can we transfer files between local and remote computers?\n",
    "\n",
    "### Objectives:\n",
    "- Write a for loop to iterate through datasets.\n",
    "- Use basename to quickly get the name of the file without an extension.\n",
    "- Write a basic shell script.\n",
    "- Use the `bash` command to execute a shell script.\n",
    "- Use `chmod` to make a script an executable program.\n",
    "\n",
    "### Keypoints:\n",
    "- Loops are great for automating tasks and iterating through many files.\n",
    "- basename is a great way to create new files with different extensions after processing them.\n",
    "- Scripts are a collection of commands executed together.\n",
    "- Scripts are executable text files.\n",
    "- In a terminal, `scp` transfers information to and from virtual and local computers\n"
   ]
  },
  {
   "cell_type": "markdown",
   "metadata": {},
   "source": [
    "### Getting Started"
   ]
  },
  {
   "cell_type": "code",
   "execution_count": null,
   "metadata": {},
   "outputs": [],
   "source": [
    "'''\n",
    "Set a variable for your netid\n",
    "Replace \"MY_NETID\" with your actual netid\n",
    "'''\n",
    "netid = \"MY_NETID\"\n",
    "work_dir = \"/xdisk/bhurwitz/bh_class/\" + netid + \"/exercises/03_bash_scripting\"\n",
    "%cd $work_dir"
   ]
  },
  {
   "cell_type": "markdown",
   "metadata": {},
   "source": [
    "### Section 1: Writing \"for loops\"\n",
    "\n",
    "Loops are key to productivity improvements through automation as they allow us to execute commands repeatedly. Similar to wildcards and tab completion, using loops also reduces the amount of typing (and typing mistakes). \n",
    "\n",
    "Loops are helpful when performing operations on groups of sequencing files, such as unzipping or trimming multiple files. We will use loops for these purposes in subsequent analyses, but will cover the basics of them for now.\n",
    "\n",
    "When the shell sees the keyword `for`, it knows to repeat a command (or group of commands) once for each item in a list. Each time the loop runs (called an iteration), an item in the list is assigned in sequence to the **variable**, and the commands inside the loop are executed, before moving on to  the next item in the list. Inside the loop, we call for the variable's value by putting `$` in front of it. The `$` tells the shell interpreter to treat the **variable** as a variable name and substitute its value in its place, rather than treat it as text or an external command. In shell programming, this is usually called \"expanding\" the variable.\n",
    "\n",
    "Let's write a for loop to show us the first two lines of the fastq files in the untrimmed_fastq directory. A semicolon, `;`, can be used to separate two commands written on a single line.\n",
    "\n",
    "The for loop begins with the formula `for <variable> in <group to iterate over>`. In this case, the word `filename` is designated as the variable to be used over each iteration. In our case `JC1A_R1.fastq` and `JC1A_R2.fastq` will be substituted for `filename` because they fit the pattern of ending with .fastq in directory we've specified. The next line of the for loop is `do`. The next line is \n",
    "the code that we want to execute. We are telling the loop to print the first two lines of each variable we iterate over and save the information to a file. Finally, the word `done` ends the loop.\n",
    "\n",
    "Note that we are using `>>` to append the text to our `seq_info.txt` file. If we used `>`, the `seq_info.txt` file would be rewritten every time the loop iterates, so it would only have text from the last variable used. Instead, `>>` adds to the end of the file."
   ]
  },
  {
   "cell_type": "code",
   "execution_count": null,
   "metadata": {},
   "outputs": [],
   "source": [
    "'''\n",
    "Type the commands below, and run the cell\n",
    "%cd /xdisk/bhurwitz/bh_class/$netid/exercises/data/untrimmed_fastq\n",
    "'''"
   ]
  },
  {
   "cell_type": "code",
   "execution_count": null,
   "metadata": {},
   "outputs": [],
   "source": [
    "'''\n",
    "Type the command below, and run the cell\n",
    "!for filename in *.fastq; do head -n 2 $filename >> seq_info.txt; done\n",
    "'''"
   ]
  },
  {
   "cell_type": "markdown",
   "metadata": {},
   "source": [
    "#### Let's check out the resulting file we created\n",
    "\n",
    "To see the content of the little file we just made it is useful to use the `cat` command."
   ]
  },
  {
   "cell_type": "code",
   "execution_count": null,
   "metadata": {},
   "outputs": [],
   "source": [
    "'''\n",
    "Type the command below, and run the cell\n",
    "!cat seq_info.txt\n",
    "'''"
   ]
  },
  {
   "cell_type": "markdown",
   "metadata": {},
   "source": [
    "#### You should see something like this...\n",
    "\n",
    "```\n",
    "@MISEQ-LAB244-W7:91:000000000-A5C7L:1:1101:13417:1998 1:N:0:TCGNAG\n",
    "CTACGGCGCCATCGGCGNCCCCGGACGGTAGGAGACGGCGATGCTGGCCCTCGGCGCGGTCGCGTTCCTGAACCCCTGGCTGCTGGCGGCGCTCGCGGCGCTGCCGGTGCTCTGGGTGCTGCTGCGGGCGACGCCGCCGAGCCCGCGGCGGGTCGGATTCCCCGGCGTGCGCCCCCCGCTCCGGCTCGAGGACGCCGCACCGACGCCCCACCCCCCCCCCCGGTGGCTCCTCCTGCCGCCCTGCCTGATCC\n",
    "@MISEQ-LAB244-W7:91:000000000-A5C7L:1:1101:13417:1998 2:N:0:TCGNAG\n",
    "CGCGATCAGCAGCGGCCCGGAACCGGTCAGCCGCGCCNTGGGGTTCAGCACCGGCNNGGCGAAGGCCGCGATCGCGGCGGCGGCGATCAGGCAGCGCAGCAGCAGGAGCCACCAGGGCGTGCGGTCGGGCGTCCGTTCGGCGTCCTCGCGCCCCAGCAGCAGGCGCACGCCAGGGAATCCGACCCGCCGCCGGCTCGGCCGCGTCNCCCGCNCCCGCCCCCCGAGCACCCGNAGCCNCNCCACCGCCGCCC\n",
    "@MISEQ-LAB244-W7:156:000000000-A80CV:1:1101:12622:2006 1:N:0:CTCAGA\n",
    "CCCGTTCCTCGGGCGTGCAGTCGGGCTTGCGGTCTGCCATGTCGTGTTCGGCGTCGGTGGTGCCGATCAGGGTGAAATCCGTCTCGTAGGGGATCGCGAAGATGATCCGCCCGTCCGTGCCCTGAAAGAAATAGCACTTGTCAGATCGGAAGAGCACACGTCTGAACTCCAGTCACCTCAGAATCTCGTATGCCGTCTTCTGCTTGAAAAAAAAAAAAGCAAACCTCTCACTCCCTCTACTCTACTCCCTT\n",
    "@MISEQ-LAB244-W7:156:000000000-A80CV:1:1101:12622:2006 2:N:0:CTCAGA\n",
    "GACAAGTGCTATTTCTTTCAGGGCACGGACGGGCGGATCATCTTCGCGATCCCCTACGAGACGGATTTCACCCTGATCGGCACCACCGACGCCGAACACGACATGGCAGACCGCAAGCCCGACTGCACGCCCGAGGAACGGGAGATCGGAAGAGCGTCGTGTAGGAAAGAGTGTAGATCTCGGTGGTCGCCGTATCATTAAAAAAAAAAAGCGATCAACTCGACCGACCTGTCTTATTATATCTCACGTAA\n",
    "```"
   ]
  },
  {
   "cell_type": "markdown",
   "metadata": {},
   "source": [
    "### Section 2: Using Basename\n",
    "\n",
    "Basename is a function in UNIX that is helpful for removing a uniform part of a name from a list of files. In this case, we will use basename to remove the `.fastq` extension from the files that we’ve been working with. "
   ]
  },
  {
   "cell_type": "code",
   "execution_count": null,
   "metadata": {},
   "outputs": [],
   "source": [
    "'''\n",
    "Type the command below, and run the cell\n",
    "!basename JC1A_R2.fastq .fastq\n",
    "'''"
   ]
  },
  {
   "cell_type": "markdown",
   "metadata": {},
   "source": [
    "We see that this returns just the SRR accession, and no longer has the .fastq file extension on it.\n",
    "\n",
    "```\n",
    "JC1A_R2\n",
    "```\n",
    "\n",
    "If we try the same thing but use `.fasta` as the file extension instead, nothing happens. This is because basename only works when it exactly matches a string in the file.\n",
    "\n",
    "```\n",
    "$ basename JC1A_R2.fastq .fasta\n",
    "```\n",
    "\n",
    "```\n",
    "JC1A_R2.fastq\n",
    "```\n",
    "\n",
    "Basename is really powerful when used in a for loop. It allows to access just the file prefix, which you can use to name things. Let's try this.\n",
    "\n",
    "Inside our for loop, we create a new name variable. We call the basename function inside the parenthesis, then give our variable name from the for loop, in this case `${filename}`, and finally state that `.fastq` should be removed from the file name. It’s important to note that we’re not changing the actual files, we’re creating a new variable called name. The line \"> echo $name\" will print to the terminal the variable name each time the for loop runs. Because we are iterating over two files, we expect to see two lines of output."
   ]
  },
  {
   "cell_type": "code",
   "execution_count": null,
   "metadata": {},
   "outputs": [],
   "source": [
    "'''\n",
    "Type the command below, and run the cell\n",
    "!for filename in *.fastq; do name=$(basename $filename .fastq); echo ${name}; done\n",
    "'''"
   ]
  },
  {
   "cell_type": "markdown",
   "metadata": {},
   "source": [
    "#### You should get something like this...\n",
    "\n",
    "```\n",
    "JC1A_R1\n",
    "JC1A_R2\n",
    "JP4D_R1\n",
    "JP4D_R2\n",
    "```"
   ]
  },
  {
   "cell_type": "markdown",
   "metadata": {},
   "source": [
    "#### Exercise 3: Using `basename`\n",
    "\n",
    "Print the file prefix of all of the `.txt` files in our current directory."
   ]
  },
  {
   "cell_type": "code",
   "execution_count": null,
   "metadata": {},
   "outputs": [],
   "source": [
    "'''\n",
    "Type the commands below, and run the cell\n",
    "'''"
   ]
  },
  {
   "cell_type": "markdown",
   "metadata": {},
   "source": [
    "#### Solution\n",
    "\n",
    "```\n",
    "!for filename in *.txt; do name=$(basename $filename .txt); echo ${name}; done\n",
    "```"
   ]
  },
  {
   "cell_type": "markdown",
   "metadata": {},
   "source": [
    "#### What else can we do?\n",
    "\n",
    "One way this is really useful is to move files. Let's rename all of our .txt files using `mv` so that they have the years on them, which will document when we created them. "
   ]
  },
  {
   "cell_type": "code",
   "execution_count": null,
   "metadata": {},
   "outputs": [],
   "source": [
    "'''\n",
    "Type the commands below, and run the cell\n",
    "!for filename in *.txt; do name=$(basename $filename .txt); mv ${filename} ${name}_2024.txt; done\n",
    "!ls -l\n",
    "'''"
   ]
  },
  {
   "cell_type": "markdown",
   "metadata": {},
   "source": [
    "### Section 3: Writing Scripts\n",
    "\n",
    "A really powerful thing about the command line is that you can write scripts. Scripts let you save commands to run them and also lets you put multiple commands together. Though writing scripts may require an additional time investment initially, this can save you time as you run them repeatedly. Scripts can also address the challenge of reproducibility: if you need to repeat analysis, you retain a record of your command history within the script.\n",
    "\n",
    "One thing we will commonly want to do with sequencing results is pull out bad reads and write them to a file to see if we can figure out what is going on with them. We are going to look for reads with long sequences of N's like we did before, but now we are going to write a script, so we can run it each time we get new sequences rather than type the code in by hand each time.\n",
    "\n",
    "Bad reads have a lot of N's, so we are going to look for  `NNNNNNNNNN` with `grep`. We want the whole FASTQ record, so we are also going to get the one line above the sequence and the two lines below. We also want to look at all the files that end with `.fastq`, so we will use the `*` wildcard."
   ]
  },
  {
   "cell_type": "code",
   "execution_count": null,
   "metadata": {},
   "outputs": [],
   "source": [
    "'''\n",
    "Type the command below, and run the cell\n",
    "!grep -B1 -A2 NNNNNNNNNN *.fastq > bad_reads.txt\n",
    "'''"
   ]
  },
  {
   "cell_type": "markdown",
   "metadata": {},
   "source": [
    "#### How can we create a script?\n",
    "\n",
    "If we were on the HPC and we were using the shell, we would use a text editor like `nano` or `vim` to create and edit a file. But, because we are inside a Jupyter Notebook, we are going to Python, a programming language to help write the script for us.We will call it `bad-reads-script.sh`. The `sh` is not required, but using that extension tells us it is a shell script."
   ]
  },
  {
   "cell_type": "code",
   "execution_count": null,
   "metadata": {},
   "outputs": [],
   "source": [
    "my_code = '''grep -B1 -A2 NNNNNNNNNN *.fastq > bad_reads_from_script.txt'''\n",
    "\n",
    "with open('bad-reads-script.sh', mode='w') as file:\n",
    "    file.write(my_code)"
   ]
  },
  {
   "cell_type": "markdown",
   "metadata": {},
   "source": [
    "#### We can run this script!\n",
    "\n",
    "Now comes the neat part. We can run this script. Type:"
   ]
  },
  {
   "cell_type": "code",
   "execution_count": null,
   "metadata": {},
   "outputs": [],
   "source": [
    "'''\n",
    "Type the command below, and run the cell\n",
    "!bash bad-reads-script.sh\n",
    "'''"
   ]
  },
  {
   "cell_type": "markdown",
   "metadata": {},
   "source": [
    "#### What happened?\n",
    "\n",
    "It will look like nothing happened, but now if you look at `scripted_bad_reads.txt`, you can see that there are now reads in the file."
   ]
  },
  {
   "cell_type": "code",
   "execution_count": null,
   "metadata": {},
   "outputs": [],
   "source": [
    "'''\n",
    "Type the command below, and run the cell\n",
    "!ls -l bad_reads*\n",
    "'''"
   ]
  },
  {
   "cell_type": "markdown",
   "metadata": {},
   "source": [
    "#### Exercise 2: Edit a script\n",
    "\n",
    "We want the script to tell us when it is done. Try using the `echo` command to let the user know the script is done.  \n",
    "\n",
    "```\n",
    "1. Create a new script called `bad-reads-script.sh` and add the line `echo \"Script finished!\"` after the `grep` command.\n",
    "2. Run the updated script.\n",
    "```\n"
   ]
  },
  {
   "cell_type": "code",
   "execution_count": null,
   "metadata": {},
   "outputs": [],
   "source": [
    "my_code = '''grep -B1 -A2 NNNNNNNNNN *.fastq > bad_reads_from_script.txt\n",
    "# add a unix command here to say \"Script finished!\"\n",
    "'''\n",
    "\n",
    "with open('bad-reads-script.sh', mode='w') as file:\n",
    "    file.write(my_code)"
   ]
  },
  {
   "cell_type": "code",
   "execution_count": null,
   "metadata": {},
   "outputs": [],
   "source": [
    "'''\n",
    "Write a command below to run the bad-reads-script.sh script, and run the cell\n",
    "'''"
   ]
  },
  {
   "cell_type": "markdown",
   "metadata": {},
   "source": [
    "### Section 4: Making the script into a program\n",
    "\n",
    "We had to type `bash` because we needed to tell the computer what program to use to run this script. Instead, we can turn this script into its own program. We need to tell it that it is a program by making it executable. We can do this by changing the file permissions. We talked about permissions in an earlier class.\n",
    "\n",
    "First, let us look at the current permissions."
   ]
  },
  {
   "cell_type": "code",
   "execution_count": null,
   "metadata": {},
   "outputs": [],
   "source": [
    "'''\n",
    "Type the command below, and run the cell\n",
    "!ls -l bad-reads-script.sh\n",
    "'''"
   ]
  },
  {
   "cell_type": "markdown",
   "metadata": {},
   "source": [
    "#### what do you see?\n",
    "\n",
    "```\n",
    "-rw-rw-r-- 1 user user 0 Aug 25 21:46 bad-reads-script.sh\n",
    "```\n",
    "\n",
    "We see that it says `-rw-r--r--`. This combination shows that the file can be read by any user and written to by the file owner (you). We want to change these permissions so the file can be executed as a program. We use the command `chmod` as we did earlier when we removed write permissions. Here we are adding (`+`) executable permissions (`+x`)."
   ]
  },
  {
   "cell_type": "code",
   "execution_count": null,
   "metadata": {},
   "outputs": [],
   "source": [
    "'''\n",
    "Let's change the file permissions to executable\n",
    "Type the command below, and run the cell\n",
    "!chmod +x bad-reads-script.sh\n",
    "'''\n"
   ]
  },
  {
   "cell_type": "code",
   "execution_count": null,
   "metadata": {},
   "outputs": [],
   "source": [
    "'''\n",
    "What do you see now?\n",
    "Type the command below, and run the cell\n",
    "!ls -l bad-reads-script.sh\n",
    "'''"
   ]
  },
  {
   "cell_type": "markdown",
   "metadata": {},
   "source": [
    "#### You should get something like this...\n",
    "\n",
    "```\n",
    "-rwxrwxr-x 1 user user 0 Aug 25 21:46 bad-reads-script.sh\n",
    "```\n",
    "\n",
    "Now we see that it says `-rwxr-xr-x`. The `x`'s there now tell us we can run it as a program. So, let us try it! We will need to put `./` at the beginning, so the computer knows to look here in this directory for the program."
   ]
  },
  {
   "cell_type": "code",
   "execution_count": null,
   "metadata": {},
   "outputs": [],
   "source": [
    "'''\n",
    "Type the command below, and run the cell\n",
    "!./bad-reads-script.sh\n",
    "'''"
   ]
  },
  {
   "cell_type": "markdown",
   "metadata": {},
   "source": [
    "#### what next?\n",
    "\n",
    "The script should run the same way as before, but now we have created our own computer program!\n",
    "\n",
    "You can also add in a line to the script to let it know you are using bash shell to run the commands..."
   ]
  },
  {
   "cell_type": "code",
   "execution_count": null,
   "metadata": {},
   "outputs": [],
   "source": [
    "my_code = '''#!/bin/bash\n",
    "grep -B1 -A2 NNNNNNNNNN *.fastq > bad_reads_from_script.txt\n",
    "# add a unix command here to say \"Script finished!\"\n",
    "'''\n",
    "\n",
    "with open('bad-reads-script.sh', mode='w') as file:\n",
    "    file.write(my_code)"
   ]
  },
  {
   "cell_type": "code",
   "execution_count": null,
   "metadata": {},
   "outputs": [],
   "source": [
    "'''\n",
    "Type the command below, and run the cell\n",
    "!./bad-reads-script.sh\n",
    "'''"
   ]
  },
  {
   "cell_type": "markdown",
   "metadata": {},
   "source": [
    "#### Section 4: Compressing large files with gzip\n",
    "\n",
    "It is good practice to keep any large files compressed while not using them. In this way, you save storage space; you will see that you will appreciate it when you advance your analysis. So, since we will not use the FASTQ files for now, let us compress them. Moreover, run `ls -lh` to confirm that they are compressed. \n",
    "\n",
    "Warning, it will take a few minutes to run the command below."
   ]
  },
  {
   "cell_type": "code",
   "execution_count": null,
   "metadata": {},
   "outputs": [],
   "source": [
    "'''\n",
    "Type the command below, and run the cell\n",
    "%cd /xdisk/bhurwitz/bh_class/$netid/exercises/data/untrimmed_fastq\n",
    "!gzip *.fastq\n",
    "!ls -lh  *.fastq.gz\n",
    "'''"
   ]
  },
  {
   "cell_type": "markdown",
   "metadata": {},
   "source": [
    "#### What do your zipped files look like?\n",
    "\n",
    "```\n",
    "total 428M\n",
    "-rw-r--r-- 1 user user  24M Aug 26 12:36 JC1A_R1.fastq.gz\n",
    "-rw-r--r-- 1 user user  24M Aug 26 12:37 JC1A_R2.fastq.gz\n",
    "-rw-r--r-- 1 user user 179M Aug 26 12:44 JP4D_R1.fastq.gz\n",
    "-rw-r--r-- 1 user user 203M NAug 26 12:51 JP4D_R2.fastq.gz\n",
    "```"
   ]
  },
  {
   "cell_type": "markdown",
   "metadata": {},
   "source": [
    "### Section 6: Moving and downloading data\n",
    "\n",
    "So far, we have worked with pre-loaded data on the hpc. Usually, however, most analyses begin with moving data onto the HPC. Below we will show you some commands to download data onto the hpc or to move data between your computer and the HPC.\n",
    "\n",
    "#### Getting data to/from the HPC\n",
    "\n",
    "Two programs will download data from a remote server to your local\n",
    "(or remote) machine: ``wget`` and ``curl``. They were designed to do slightly different tasks by default, so you will need to give the programs somewhat different options to get the same behavior, but they are mostly interchangeable.\n",
    "\n",
    " - ``wget`` is short for \"world wide web get\", and its basic function is to *download*\n",
    "\n",
    " - ``cURL`` is a pun. It is supposed to be read as \"see URL\", so its primary function is\n",
    " to *display* webpages or data at a web address.\n",
    "\n",
    "Which one you need to use mainly depends on your operating system, as most computers will\n",
    "only have one or the other installed by default.\n",
    "\n",
    "Let us say you want to download some data from Ensembl. We will download a tiny\n",
    "tab-delimited file that tells us what data is available on the Ensembl bacteria server.\n",
    "Before starting our download, we need to know whether we are using ``curl`` or ``wget``.\n",
    "\n",
    "To see which program you have, type:"
   ]
  },
  {
   "cell_type": "code",
   "execution_count": null,
   "metadata": {},
   "outputs": [],
   "source": [
    "'''\n",
    "Type the command below, and run the cell\n",
    "!which curl\n",
    "!which wget\n",
    "'''"
   ]
  },
  {
   "cell_type": "markdown",
   "metadata": {},
   "source": [
    "#### Which which?\n",
    "\n",
    "``which`` is a BASH program that looks through everything you have\n",
    "installed and tells you what folder it is installed to. If it cannot\n",
    "find the program you asked for, it returns nothing, i.e., it gives you no\n",
    "results.\n",
    "\n",
    "On the hpc, you will likely get the following output:\n",
    "\n",
    "```\n",
    "$ which curl\n",
    "```\n",
    "\n",
    "```\n",
    "/usr/bin/curl\n",
    "```\n",
    "\n",
    "\n",
    "```\n",
    "$ which wget\n",
    "```\n",
    "\n",
    "```\n",
    "/usr/bin/wget\n",
    "```\n",
    "\n",
    "This output means that you have both ``curl`` and ``wget`` installed.\n",
    "\n",
    "Now we can use one of the following commands to download the file to your home directory:"
   ]
  },
  {
   "cell_type": "code",
   "execution_count": null,
   "metadata": {},
   "outputs": [],
   "source": [
    "'''\n",
    "Type the command below, and run the cell\n",
    "%cd\n",
    "!wget ftp://ftp.ensemblgenomes.org/pub/release-37/bacteria/species_EnsemblBacteria.txt\n",
    "\n",
    "or\n",
    "\n",
    "%cd\n",
    "!curl -O ftp://ftp.ensemblgenomes.org/pub/release-37/bacteria/species_EnsemblBacteria.txt\n",
    "\n",
    "'''"
   ]
  },
  {
   "cell_type": "markdown",
   "metadata": {},
   "source": [
    "#### What just happened?\n",
    "\n",
    "Since we wanted to *download* the file rather than view it, we used ``wget`` without any modifiers. With ``curl`` however, we had to use the -O flag, which simultaneously tells ``curl`` to download the page instead of showing it to us **and** specifies that it should save the file using the same name it had on the server: species_EnsemblBacteria.txt\n",
    "\n",
    "It's important to note that both ``curl`` and ``wget`` download to the computer that the command line belongs to. So, if you are logged into HPC on the command line and execute the ``curl`` command above in the terminal, the file will be downloaded to the HPC, not your local one. Also, note that we used `cd` to change into your home directory.\n",
    "\n",
    "#### Moving files between your laptop and the HPC\n",
    "\n",
    "What if the data you need is on your local computer, but you need to get it *onto* the HPC? Or, what if you need to download files from the HPC to your laptop. Here is how you can do it!\n",
    "       \n",
    "#### Upload/Download small files between the HPC and your laptop.  \n",
    "    \n",
    "If your files are small, you can use the online [HPC portal](https://ood.hpc.arizona.edu/) and select the file browser from the top menu to get easy access for transferring files to/from your /home, /xdisk, and /groups directories. You can also view, edit, copy, and rename your files. \n",
    "    \n",
    "#### Transferring larger data files between your local machine and the HPC with `scp`  \n",
    "    \n",
    "`scp` stands for 'secure copy protocol' and is a widely used UNIX tool for moving files between computers. The simplest way to use `scp` is to run it in your local terminal and use it to copy a single file. \n",
    "\n",
    "You will need to use an SSH v2 compliant terminal to move files to/from HPC. For more information on using SCP, use man scp.\n",
    "\n",
    "Moving a File or Directory to the HPC:\n",
    "\n",
    "<details>\n",
    "  <summary markdown=\"span\">Mac OS</summary>\n",
    "  <ul>\n",
    "In your terminal, navigate to the desired working directory on your local machine (laptop or desktop usually). To move a file or directory to a designated subdirectory in your account on HPC:\n",
    "\n",
    "```\n",
    "$ scp -rp filenameordirectory NetId@filexfer.hpc.arizona.edu:subdirectory\n",
    "Getting a File or Directory From the HPC:\n",
    "```\n",
    "\n",
    "In your terminal, navigate to the desired working directory on your local machine. The copy a remote file from HPC to your current directory:\n",
    "\n",
    "```\n",
    "$ scp -rp NetId@filexfer.hpc.arizona.edu:filenameordirectory .\n",
    "** the space folllowed by a period at the end means the destination is the current directory** \n",
    "```\n",
    "\n",
    "</details>\n",
    "\n",
    "<details>\n",
    "  <summary markdown=\"span\">PC</summary>\n",
    "  <ul>\n",
    "Windows users can use software like WinSCP to make SCP transfers. To use WinSCP, first download/install the software from: https://winscp.net/eng/download.php\n",
    "\n",
    "To connect, enter filexfer.hpc.arizona.edu in the Host Name field, enter your NetID under User name, and enter your password. Accept by clicking Login. You'll be prompted to Duo Authenticate.\n",
    "\n",
    "</details>\n",
    "\n",
    "Wildcards can be used for multiple file transfers (e.g. all files with .dat extension). Note the backslash \" \\ \" preceeding *\n",
    "\n",
    "$ scp YOUR_NETID@filexfer.hpc.arizona.edu:subdirectory/\\*.fastq ~/Downloads"
   ]
  },
  {
   "cell_type": "markdown",
   "metadata": {},
   "source": [
    "> #### Exercise 4: Downloading data with `scp`  \n",
    "> Let's say we want to download a text file `/xdisk/bhurwitz/bh_class/your_netid/exercises/data/untrimmed_fastq/scripted_bad_reads.txt` from the hpc to your local computer. Note you will perform this action from a shell on your local computer.\n",
    "\n",
    "> Which of the following commands would download the file?  \n",
    "> A)  \n",
    "> ```\n",
    "> $  scp local_file.txt your_netid@filexfer.hpc.arizona.edu:/xdisk/bhurwitz/bh_class/your_netid/exercises/data/untrimmed_fastq/\n",
    "> ```\n",
    "\n",
    "> B)  \n",
    "> ```\n",
    "> $ scp your_netid@filexfer.hpc.arizona.edu:/xdisk/bhurwitz/bh_class/your_netid/exercises/data/untrimmed_fastq/scripted_bad_reads.txt ~/Downloads\n",
    "> ```\n",
    "\n",
    "<details>\n",
    "  <summary markdown=\"span\">Solution</summary>\n",
    "  <ul>\n",
    "<li>A) False. This command will upload the file `local_file.txt` to the /xdisk/bhurwitz/bh_class/your_netid/exercises/data/untrimmed_fastq/ directory.</li>\n",
    "<li>B) True. This option downloads the bad reads file in `/xdisk/bhurwitz/bh_class/your_netid/exercises/data/untrimmed_fastq/` to your local `~/Downloads` directory. Be sure to execute this from your local machine.</li>\n",
    "  \n",
    "</details>"
   ]
  },
  {
   "cell_type": "code",
   "execution_count": null,
   "metadata": {},
   "outputs": [],
   "source": [
    "# The End!\n",
    "!cp ~/be487-fall-2024/exercises/03_bash_scripting/ex03-01_writing_scripts.ipynb  /xdisk/bhurwitz/bh_class/$netid/exercises/03_bash_scripting/ex03-01_writing_scripts.ipynb"
   ]
  }
 ],
 "metadata": {
  "kernelspec": {
   "display_name": "Python 3 (ipykernel)",
   "language": "python",
   "name": "python3"
  },
  "language_info": {
   "codemirror_mode": {
    "name": "ipython",
    "version": 3
   },
   "file_extension": ".py",
   "mimetype": "text/x-python",
   "name": "python",
   "nbconvert_exporter": "python",
   "pygments_lexer": "ipython3",
   "version": "3.9.6"
  },
  "vscode": {
   "interpreter": {
    "hash": "df955ce39d0f31d56d4bb2fe0a613e5326ba60723fd33d8303a3aede8f65715c"
   }
  }
 },
 "nbformat": 4,
 "nbformat_minor": 2
}
