{
 "cells": [
  {
   "cell_type": "markdown",
   "metadata": {},
   "source": [
    "# Connecting Commands in Unix\n",
    "\n",
    "### Questions:\n",
    "- How can you use pipes to connect commands and perfrom powerful functions in Unix?\n",
    "\n",
    "### Objectives:\n",
    "- Learn how to connect Unix commands to analyze and refine data.\n",
    "\n",
    "### Keypoints:\n",
    "\n",
    "- Unix commands can be put together in powerful ways.\n"
   ]
  },
  {
   "cell_type": "code",
   "execution_count": null,
   "metadata": {},
   "outputs": [],
   "source": [
    "# Make sure you have the most up to date code\n",
    "%cd ~/be487-fall-2024\n",
    "!git stash\n",
    "!git pull"
   ]
  },
  {
   "cell_type": "markdown",
   "metadata": {},
   "source": [
    "### Section 1: Finding the Number of Unique Users\n",
    "\n",
    "Find the number of unique users on a shared system\n",
    "\n",
    "We know that \"w\" will tell us the users logged in.  Try it now on a system that has many users \\(i.e., the HPC\\) and see the output.  We'll connect the output of \"w\" to \"head\" using a pipe \"\\|\", but we only want the first five lines:"
   ]
  },
  {
   "cell_type": "code",
   "execution_count": null,
   "metadata": {},
   "outputs": [],
   "source": [
    "'''\n",
    "Type the commands below, and run the cell\n",
    "!w | head -5\n",
    "'''"
   ]
  },
  {
   "cell_type": "markdown",
   "metadata": {},
   "source": [
    "#### What do you get?\n",
    "\n",
    "You should get something that looks like this...\n",
    "\n",
    "```\n",
    "$ w | head -5\n",
    " 14:36:01 up 21 days, 21:51, 176 users,  load average: 3.83, 4.31, 4.47\n",
    "USER     TTY      FROM              LOGIN@   IDLE   JCPU   PCPU WHAT\n",
    "antontre pts/1    149.165.156.129  Sat14    3days  0.10s  0.10s /bin/sh -i\n",
    "huddack  pts/3    128.4.131.189    09:38    4:56m  0.15s  0.15s -bash\n",
    "```\n",
    "\n",
    "What if we want to see the first five _users_, not the first five lines of output.  To skip the first two lines of headers from \"w,\" we first pipe \"w\" into \"awk\" and tell it we only want to see output when the Number of Records \\(NR\\) is greater than 2:"
   ]
  },
  {
   "cell_type": "code",
   "execution_count": null,
   "metadata": {},
   "outputs": [],
   "source": [
    "'''\n",
    "Type the commands below, and run the cell\n",
    "!w | awk 'NR>2' | head -5\n",
    "'''"
   ]
  },
  {
   "cell_type": "markdown",
   "metadata": {},
   "source": [
    "#### You should see this...\n",
    "\n",
    "```\n",
    "antontre pts/1    149.165.156.129  Sat14    4days  0.10s  0.10s /bin/sh -i\n",
    "huddack  pts/3    128.4.131.189    09:38    5:13m  0.15s  0.15s -bash\n",
    "antontre pts/5    149.165.156.129  Sun19    2days  0.14s  0.14s /bin/sh -i\n",
    "minyard  pts/8    129.114.64.18    29Jul16  4:24m  3:46m  3:46m top\n",
    "antontre pts/11   149.165.156.129  Sun23    2days  0.24s  0.24s /bin/sh -i\n",
    "```\n",
    "\n",
    "Let's \"cut\" out just the first column of data.  The manpage for \"cut\" says that it defaults to using the tab character to determine columns, so we'll need to tell it to use spaces:"
   ]
  },
  {
   "cell_type": "code",
   "execution_count": null,
   "metadata": {},
   "outputs": [],
   "source": [
    "'''\n",
    "Type the commands below, and run the cell\n",
    "!w | awk 'NR>2' | head -5 | cut -d ' ' -f 1\n",
    "'''"
   ]
  },
  {
   "cell_type": "markdown",
   "metadata": {},
   "source": [
    "#### You should see this...\n",
    "\n",
    "```\n",
    "antontre\n",
    "huddack\n",
    "antontre\n",
    "minyard\n",
    "antontre\n",
    "```\n",
    "\n",
    "We can see right away that the some users like \"antontre\" are logged in multiple times, so let's \"uniq\" that output:"
   ]
  },
  {
   "cell_type": "code",
   "execution_count": null,
   "metadata": {},
   "outputs": [],
   "source": [
    "'''\n",
    "Type the commands below, and run the cell\n",
    "!w | awk 'NR>2' | head -5 | cut -d ' ' -f 1 | uniq\n",
    "'''"
   ]
  },
  {
   "cell_type": "markdown",
   "metadata": {},
   "source": [
    "#### You should see something like this\n",
    "\n",
    "```\n",
    "antontre\n",
    "huddack\n",
    "antontre\n",
    "minyard\n",
    "antontre\n",
    "```\n",
    "\n",
    "Hmm, that's not right.  Remember I said earlier that \"uniq\" only works _on sorted input_?  So let's sort those names first:"
   ]
  },
  {
   "cell_type": "code",
   "execution_count": null,
   "metadata": {},
   "outputs": [],
   "source": [
    "'''\n",
    "Type the commands below, and run the cell\n",
    "!w | awk 'NR>2' | head -5 | cut -d ' ' -f 1 | sort | uniq\n",
    "'''"
   ]
  },
  {
   "cell_type": "markdown",
   "metadata": {},
   "source": [
    "#### Now you should just see a uniq list of names, nothing repeated...\n",
    "\n",
    "```\n",
    "antontre\n",
    "huddack\n",
    "minyard\n",
    "```\n",
    "\n",
    "OK, that is correct.  Now let's remove the \"head -5\" and use \"wc\" to count all the lines \\(-l\\) of input:"
   ]
  },
  {
   "cell_type": "code",
   "execution_count": null,
   "metadata": {},
   "outputs": [],
   "source": [
    "'''\n",
    "Type the commands below, and run the cell\n",
    "!w | awk 'NR>2' | cut -d ' ' -f 1 | sort | uniq | wc -l\n",
    "'''"
   ]
  },
  {
   "cell_type": "markdown",
   "metadata": {},
   "source": [
    "So what you see is that we're connecting small, well-defined programs together using pipes to connect the \"standard input\" \\(STDIN\\) and \"standard output \\(STDOUT\\) streams.  There's a third basic file handle in Unix called \"standard error\" \\(STDERR\\) that we'll come across later.  It's a way for programs to report problems without simply dying.  You can redirect errors into a file like so:\n",
    "\n",
    "```\n",
    "$ program 2>err\n",
    "$ program 1>out 2>err\n",
    "```\n",
    "\n",
    "The first example puts STDERR into a file called \"err\" and lets STDOUT print to the terminal.  The second example captures STDOUT into a file called \"out\" while STDERR goes to \"err.\"\n",
    "\n",
    "> Protip: Sometimes a program will complain about things that you cannot fix, e.g., \"find\" may complain about file permissions that you don't care about.  In those cases, you can redirect STDERR to a special filehandle called \"/dev/null\" where they are forgotten forever.  Kind of like the \"memory hole\" in 1984.\n",
    "\n",
    "```\n",
    "find / -name my-file.txt 2>/dev/null\n",
    "```"
   ]
  },
  {
   "cell_type": "markdown",
   "metadata": {},
   "source": [
    "## Count \"oo\" words\n",
    "\n",
    "On almost every Unix system, you can find \"/usr/share/dict/words.\"  Let's use \"grep\" to find how many have the \"oo\" vowel combination.  It's a long list, so I'll pipe it into \"head\" to see just the first five:"
   ]
  },
  {
   "cell_type": "code",
   "execution_count": null,
   "metadata": {},
   "outputs": [],
   "source": [
    "'''\n",
    "Type the commands below, and run the cell\n",
    "!grep 'oo' /usr/share/dict/words | head -5\n",
    "'''"
   ]
  },
  {
   "cell_type": "markdown",
   "metadata": {},
   "source": [
    "#### You should see something like this\n",
    "\n",
    "```\n",
    "abloom\n",
    "aboon\n",
    "aboveproof\n",
    "abrood\n",
    "abrook\n",
    "```\n",
    "\n",
    "Yes, that works, so redirect those words into a file and count them:"
   ]
  },
  {
   "cell_type": "code",
   "execution_count": null,
   "metadata": {},
   "outputs": [],
   "source": [
    "'''\n",
    "Type the commands below, and run the cell\n",
    "!grep 'oo' /usr/share/dict/words > oo-words\n",
    "!wc -l !$\n",
    "'''"
   ]
  },
  {
   "cell_type": "markdown",
   "metadata": {},
   "source": [
    "# you should get\n",
    "10460 oo-words\n",
    "\n",
    "Let's count them directly out of \"grep\":"
   ]
  },
  {
   "cell_type": "code",
   "execution_count": null,
   "metadata": {},
   "outputs": [],
   "source": [
    "'''\n",
    "Type the commands below, and run the cell\n",
    "!grep 'oo' /usr/share/dict/words | wc -l\n",
    "'''"
   ]
  },
  {
   "cell_type": "markdown",
   "metadata": {},
   "source": [
    "#### How many of those words additionally contain the \"ow\" sequence?"
   ]
  },
  {
   "cell_type": "code",
   "execution_count": null,
   "metadata": {},
   "outputs": [],
   "source": [
    "'''\n",
    "Type the commands below, and run the cell\n",
    "!grep 'ow' /usr/share/dict/words | wc -l\n",
    "'''"
   ]
  },
  {
   "cell_type": "markdown",
   "metadata": {},
   "source": [
    "#### How many _do not_ contain the \"ow\" sequence?"
   ]
  },
  {
   "cell_type": "code",
   "execution_count": null,
   "metadata": {},
   "outputs": [],
   "source": [
    "'''\n",
    "Type the commands below, and run the cell\n",
    "!grep 'oo' /usr/share/dict/words | grep -v 'ow' | wc -l\n",
    "'''"
   ]
  },
  {
   "cell_type": "code",
   "execution_count": null,
   "metadata": {},
   "outputs": [],
   "source": [
    "'''\n",
    "Do those numbers add up?\n",
    "Type the commands below, and run the cell\n",
    "!bc <<< 158+10302\n",
    "'''"
   ]
  },
  {
   "cell_type": "code",
   "execution_count": null,
   "metadata": {},
   "outputs": [],
   "source": [
    "# The End\n",
    "!cp ~/be487-fall-2024/exercises/02_intro_unix/ex02-04_connecting_commands.ipynb  /xdisk/bhurwitz/bh_class/$netid/exercises/02_intro_unix/ex02-04_connecting_commands.ipynb"
   ]
  }
 ],
 "metadata": {
  "kernelspec": {
   "display_name": "Python 3 (ipykernel)",
   "language": "python",
   "name": "python3"
  },
  "language_info": {
   "codemirror_mode": {
    "name": "ipython",
    "version": 3
   },
   "file_extension": ".py",
   "mimetype": "text/x-python",
   "name": "python",
   "nbconvert_exporter": "python",
   "pygments_lexer": "ipython3",
   "version": "3.9.6"
  },
  "vscode": {
   "interpreter": {
    "hash": "df955ce39d0f31d56d4bb2fe0a613e5326ba60723fd33d8303a3aede8f65715c"
   }
  }
 },
 "nbformat": 4,
 "nbformat_minor": 2
}
