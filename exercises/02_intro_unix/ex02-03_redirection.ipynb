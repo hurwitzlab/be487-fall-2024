{
 "cells": [
  {
   "cell_type": "markdown",
   "metadata": {},
   "source": [
    "# Redirection\n",
    "\n",
    "### Questions:\n",
    "- How can I search within files?\n",
    "- How can I combine existing commands to do new things?\n",
    "\n",
    "### Objectives:\n",
    "- Employ the `grep` command to search for information within files.\n",
    "- Print the results of a command to a file.\n",
    "- Construct command pipelines with two or more stages.\n",
    "\n",
    "### Keypoints:\n",
    "- `grep` is a powerful search tool with many options for customization.\n",
    "- `>`, `>>`, and `|` are different ways of redirecting output.\n",
    "- `command > file` redirects a command's output to a file.\n",
    "- `command >> file` redirects a command's output to a file without overwriting the existing contents of the file.\n",
    "- `command_1 | command_2` redirects the output of the first command as input to the second command.\"\n",
    "- `basename` gets rid of repetitive parts of names\n"
   ]
  },
  {
   "cell_type": "markdown",
   "metadata": {},
   "source": [
    "#### Getting Started"
   ]
  },
  {
   "cell_type": "code",
   "execution_count": null,
   "metadata": {},
   "outputs": [],
   "source": [
    "# Make sure you have the most up to date code\n",
    "%cd ~/be487-fall-2024\n",
    "!git stash\n",
    "!git pull"
   ]
  },
  {
   "cell_type": "code",
   "execution_count": null,
   "metadata": {},
   "outputs": [],
   "source": [
    "'''\n",
    "Set a variable for your netid\n",
    "Replace \"MY_NETID\" with your actual netid\n",
    "Notice that the `cd` command is a magic command in Jupyter Notebooks and starts with %.\n",
    "Run this cell to set your netid\n",
    "'''\n",
    "netid = \"MY_NETID\"\n",
    "work_dir = \"/xdisk/bhurwitz/bh_class/\" + netid\n",
    "%cd $work_dir"
   ]
  },
  {
   "cell_type": "markdown",
   "metadata": {},
   "source": [
    "### Section 1: Searching files\n",
    "\n",
    "We discussed in a previous exercise how to search within a file using `less`. We can also search within files without even opening them, using `grep`. `grep` is a command-line utility for searching plain-text files for lines matching a specific set of characters (sometimes called a string) or a particular pattern (which can be specified using something called regular expressions). We're not going to work with regular expressions in this lesson, and are instead going to specify the strings we are searching for. Let's give it a try!"
   ]
  },
  {
   "cell_type": "markdown",
   "metadata": {},
   "source": [
    "#### Nucleotide abbreviations\n",
    "\n",
    "The four nucleotides that appear in DNA are abbreviated `A`, `C`, `T` and `G`. \n",
    "Unknown nucleotides are represented with the letter `N`. An `N` appearing\n",
    "in a sequencing file represents a position where the sequencing machine was not able to \n",
    "confidently determine the nucleotide in that position. You can think of an `N` as being any nucleotide at that position in the DNA sequence. \n",
    "\n",
    "We'll search for strings inside of our fastq files. Let's first make sure we are in the correct directory."
   ]
  },
  {
   "cell_type": "code",
   "execution_count": null,
   "metadata": {},
   "outputs": [],
   "source": [
    "'''\n",
    "Type the commands below, and run the cell\n",
    "%cd /xdisk/bhurwitz/bh_class/$netid/exercises/data/untrimmed_fastq\n",
    "!ls\n",
    "'''"
   ]
  },
  {
   "cell_type": "markdown",
   "metadata": {},
   "source": [
    "#### What do you get?\n",
    "\n",
    "```\n",
    "JC1A_R1.fastq   JC1A_R2.fastq     JP4D_R1.fastq     JP4D_R2.fastq  TruSeq3-PE.fa\n",
    "```\n",
    "\n",
    "Great! Now, suppose we want to see how many reads in our file have really bad segments containing 10 consecutive unknown nucleotides (Ns)."
   ]
  },
  {
   "cell_type": "markdown",
   "metadata": {},
   "source": [
    "#### Determining quality\n",
    "\n",
    "In this lesson, we're going to be manually searching for strings of `N`s within our sequence\n",
    "results to illustrate some principles of file searching. It can be really useful to do this\n",
    "type of searching to get a feel for the quality of your sequencing results, however, in your \n",
    "research you will most likely use a bioinformatics tool that has a built-in program for\n",
    "filtering out low-quality reads. You'll learn how to use one such tool in a later lesson when we look at read quality. \n",
    "\n",
    "Let's search for the string NNNNNNNNNN in the JC1A_R2.fastq file."
   ]
  },
  {
   "cell_type": "code",
   "execution_count": null,
   "metadata": {},
   "outputs": [],
   "source": [
    "'''\n",
    "Type the commands below, and run the cell\n",
    "!grep NNNNNNNNNN JC1A_R2.fastq\n",
    "'''"
   ]
  },
  {
   "cell_type": "markdown",
   "metadata": {},
   "source": [
    "#### Yikes we get a ton of output\n",
    "\n",
    "This command returns a lot of output to the terminal. Every single line in the JC1A_R2.fastq file that contains at least 10 consecutive Ns is printed to the terminal, regardless of how long or short the file is. We may be interested not only in the actual sequence which contains this string, but in the name (or identifier) of that sequence. We discussed in a previous lesson that the identifier line immediately precedes the nucleotide sequence for each read in a FASTQ file. We may also want to inspect the quality scores associated with each of these reads. To get all of this information, we will return the line immediately before each match and the two lines immediately after each match.\n",
    "\n",
    "We can use the `-B` argument for grep to return a specific number of lines before each match. The `-A` argument returns a specific number of lines after each matching line. Here we want the line *before* and the two lines *after* each matching line, so we add `-B1 -A2` to our grep command."
   ]
  },
  {
   "cell_type": "code",
   "execution_count": null,
   "metadata": {},
   "outputs": [],
   "source": [
    "'''\n",
    "Type the commands below, and run the cell\n",
    "!grep -B1 -A2 NNNNNNNNNN JC1A_R2.fastq\n",
    "'''"
   ]
  },
  {
   "cell_type": "markdown",
   "metadata": {},
   "source": [
    "#### That's better, we just get one set of lines\n",
    "\n",
    "One of the sets of lines returned by this command is: \n",
    "\n",
    "```\n",
    "@MISEQ-LAB244-W7:91:000000000-A5C7L:1:2111:5300:24013 2:N:0:TCGAAG\n",
    "NNNNNNNNNNNCNANNANNNNNCGCCGGTGTTCTNCTGGGGNACGGANACCGAGTAGATCGGAACAGCGTCGTGGAGNGAAAGAGTGTAGATCCCGGTGGGCGGCGTATCATTAAAAAAAAAACCTGCTGGTCCTTGTCTC\n",
    "+\n",
    "AAA11BB3333BGG1GGEC1E?0E0B0BFDGFHD2FBH110A1BEE?A/BAFBDGH///>FEGGG><@/#//?#?/#//????########################################################################################################################################################################\n",
    "```"
   ]
  },
  {
   "cell_type": "markdown",
   "metadata": {},
   "source": [
    "#### Exercise 1: Using grep\n",
    "\n",
    "1. Search for the sequence `GATCGAGAGGGGATAGGCG` in the `JC1A_R2.fastq` file.\n",
    "Have your search return all matching lines and the name (or identifier) for each sequence that contains a match.\n"
   ]
  },
  {
   "cell_type": "code",
   "execution_count": null,
   "metadata": {},
   "outputs": [],
   "source": [
    "'''\n",
    "Type the commands below for the exercise, and run the cell\n",
    "'''"
   ]
  },
  {
   "cell_type": "markdown",
   "metadata": {},
   "source": [
    "#### Solution \n",
    "\n",
    "1. To search for the GATCGAGAGGGGATAGGCG sequence in the file JC1A_R2.fastq:\n",
    "\n",
    "```\n",
    "$ grep -B1 GATCGAGAGGGGATAGGCG JC1A_R2.fastq\n",
    "```\n",
    "\n",
    "The output shows all of the lines that contain the sequence GATCGAGAGGGGATAGGCG. As the flag -B1 is used, it also shows the previous line to each occurence. In a FastQ file the identifier of each sequence is one line avobe the sequence itself, therefore in this example you can see the names and the sequences that match your query."
   ]
  },
  {
   "cell_type": "markdown",
   "metadata": {},
   "source": [
    "## Finding what you need!\n",
    "\n",
    "`grep` allowed us to identify sequences in our FASTQ files that match a particular pattern. All of these sequences were printed to our terminal screen, but in order to work with these sequences and perform other operations on them, we will need to capture that output in some\n",
    "way. \n",
    "\n",
    "We can do this with something called \"redirection\". The idea is that\n",
    "we are taking what would ordinarily be printed to the terminal screen and redirecting it to another location. In our case, we want to print this information to a file so that we can look at it later and \n",
    "use other commands to analyze this data.\n",
    "\n",
    "The command for redirecting output to a file is `>`.\n",
    "\n",
    "Let's try out this command and copy all the records (including all four lines of each record) in our FASTQ files that contain \n",
    "'NNNNNNNNNN' to another file called `bad_reads.txt`."
   ]
  },
  {
   "cell_type": "code",
   "execution_count": null,
   "metadata": {},
   "outputs": [],
   "source": [
    "'''\n",
    "Type the commands below, and run the cell\n",
    "!grep -B1 -A2 NNNNNNNNNN JC1A_R2.fastq > bad_reads.txt\n",
    "'''"
   ]
  },
  {
   "cell_type": "markdown",
   "metadata": {},
   "source": [
    "#### So what happened? Let's count the lines in our new file.\n",
    "\n",
    "The prompt should sit there a little bit, and then it should look like nothing happened. But type `ls`. You should see a new file called `bad_reads.txt`. \n",
    "\n",
    "We can check the number of lines in our new file using a command called `wc`. `wc` stands for **word count**. This command counts the number of words, lines, and characters in a file. "
   ]
  },
  {
   "cell_type": "code",
   "execution_count": null,
   "metadata": {},
   "outputs": [],
   "source": [
    "'''\n",
    "Type the commands below, and run the cell\n",
    "!wc bad_reads.txt\n",
    "'''"
   ]
  },
  {
   "cell_type": "markdown",
   "metadata": {},
   "source": [
    "#### You should see something like this:\n",
    "\n",
    "```\n",
    "  402 489 50076 bad_reads.txt\n",
    "```\n",
    "\n",
    "This will tell us the number of lines, words and characters in the file. If we want only the number of lines, we can use the `-l` flag for `lines`."
   ]
  },
  {
   "cell_type": "code",
   "execution_count": null,
   "metadata": {},
   "outputs": [],
   "source": [
    "'''\n",
    "Type the commands below, and run the cell\n",
    "!wc -l bad_reads.txt\n",
    "'''"
   ]
  },
  {
   "cell_type": "markdown",
   "metadata": {},
   "source": [
    "#### what do we get?\n",
    "\n",
    "```\n",
    "402 bad_reads.txt\n",
    "```\n",
    "\n",
    "Because we asked `grep` for all four lines of each FASTQ record, we need to divide the output by four to get the number of sequences that match our search pattern."
   ]
  },
  {
   "cell_type": "markdown",
   "metadata": {},
   "source": [
    "#### Exercise 2: Using `wc`\n",
    "\n",
    "How many sequences in `JC1A_R2.fastq` contain at least 3 consecutive Ns?"
   ]
  },
  {
   "cell_type": "code",
   "execution_count": null,
   "metadata": {},
   "outputs": [],
   "source": [
    "'''\n",
    "Type the commands below, and run the cell\n",
    "'''"
   ]
  },
  {
   "cell_type": "markdown",
   "metadata": {},
   "source": [
    "#### Solution\n",
    "\n",
    "```\n",
    "$ grep NNN JC1A_R2.fastq > bad_reads.txt\n",
    "$ wc -l bad_reads.txt\n",
    "```\n",
    "\n",
    "```\n",
    "596 bad_reads.txt\n",
    "```"
   ]
  },
  {
   "cell_type": "markdown",
   "metadata": {},
   "source": [
    "#### Redirecting output\n",
    "\n",
    "We might want to search multiple FASTQ files for sequences that match our search pattern. However, we need to be careful, because each time we use the `>` command to redirect output to a file, the new output will replace the output that was already present in the file. \n",
    "\n",
    "This is called \"overwriting\" and, just like you don't want to overwrite your video recording of your kid's first birthday party, you also want to avoid overwriting your data files."
   ]
  },
  {
   "cell_type": "code",
   "execution_count": null,
   "metadata": {},
   "outputs": [],
   "source": [
    "'''\n",
    "Type the commands below, and run the cell\n",
    "!grep -B1 -A2 NNNNNNNNNN JC1A_R1.fastq > bad_reads.txt\n",
    "!wc -l bad_reads.txt\n",
    "'''"
   ]
  },
  {
   "cell_type": "markdown",
   "metadata": {},
   "source": [
    "#### What do you get?\n",
    "\n",
    "```\n",
    "24 bad_reads.txt\n",
    "```\n",
    "\n",
    "The old `bad_reads.txt` that counts bad quality reads from file `JC1A_R2.fastq` with 402 lines has been erased.\n",
    "\n",
    "Instead a new `bad_reads.txt` that contain 24 lines from bad reads from `JC1A_R1.fastq` has been created. We can avoid overwriting our files by using the command `>>`. `>>` is known as the \"append redirect\" and will append new output to the end of a file, rather than overwriting it.\n",
    "\n",
    "```\n",
    "$ grep -B1 -A2 NNNNNNNNNN JC1A_R2.fastq > bad_reads.txt\n",
    "$ wc -l bad_reads.txt\n",
    "```\n",
    "\n",
    "```\n",
    "402 bad_reads.txt\n",
    "```\n",
    "\n",
    "```\n",
    "$ grep -B1 -A2 NNNNNNNNNN JC1A_R1.fastq >> bad_reads.txt\n",
    "$ wc -l bad_reads.txt\n",
    "```\n",
    "\n",
    "```\n",
    "426 bad_reads.txt\n",
    "```\n",
    "\n",
    "The output of our second call to `wc` shows that we have not overwritten our original data. The final number of 426 lines results from the adition of 402 reads from `JC1A_R2.fastq` file + 24 reads from  `JC1A_R1.fastq` file. We can also do this for more files with a single line of code by using a wildcard. \n",
    "\n",
    "```\n",
    "$ rm bad_reads.txt\n",
    "```\n",
    "\n",
    "```\n",
    "$ grep -B1 -A2 NNNNNNNNNN *.fastq >> bad_reads.txt\n",
    "$ wc -l bad_reads.txt\n",
    "```\n",
    "\n",
    "```\n",
    "427 bad_reads.txt\n",
    "```   "
   ]
  },
  {
   "cell_type": "code",
   "execution_count": null,
   "metadata": {},
   "outputs": [],
   "source": [
    "# Use the commands above to create a larger \"bad_reads.txt\" file that contains all of the bad reads for all files"
   ]
  },
  {
   "cell_type": "markdown",
   "metadata": {},
   "source": [
    "#### Pipes\n",
    "\n",
    "Since we might have multiple different criteria we want to search for, \n",
    "creating a new output file each time has the potential to clutter up our workspace. We also so far haven't been interested in the actual contents of those files, only in the number of reads that we've found. We created the files to store the reads and then counted the lines in \n",
    "the file to see how many reads matched our criteria. There's a way to do this, however, that doesn't require us to create these intermediate files - the pipe command (`|`).\n",
    "\n",
    "This is probably not a key on your keyboard you use very much, so let's all take a minute to find that key. What `|` does is take the output that is scrolling by on the terminal and uses that output as input to another command. \n",
    "When our output was scrolling by, we might have wished we could look at it. Well it turns out that we can! We can redirect our output from our `grep` call through the `head` command."
   ]
  },
  {
   "cell_type": "code",
   "execution_count": null,
   "metadata": {},
   "outputs": [],
   "source": [
    "'''\n",
    "Type the command below, and run the cell\n",
    "!grep -B1 -A2 NNNNNNNNNN JC1A_R2.fastq | head -20\n",
    "'''"
   ]
  },
  {
   "cell_type": "code",
   "execution_count": null,
   "metadata": {},
   "outputs": [],
   "source": [
    "# The End\n",
    "!cp ~/be487-fall-2024/exercises/02_intro_unix/ex02-03_redirection.ipynb  /xdisk/bhurwitz/bh_class/$netid/exercises/02_intro_unix/ex02-03_redirection.ipynb"
   ]
  }
 ],
 "metadata": {
  "kernelspec": {
   "display_name": "Python 3 (ipykernel)",
   "language": "python",
   "name": "python3"
  },
  "language_info": {
   "codemirror_mode": {
    "name": "ipython",
    "version": 3
   },
   "file_extension": ".py",
   "mimetype": "text/x-python",
   "name": "python",
   "nbconvert_exporter": "python",
   "pygments_lexer": "ipython3",
   "version": "3.9.6"
  },
  "vscode": {
   "interpreter": {
    "hash": "df955ce39d0f31d56d4bb2fe0a613e5326ba60723fd33d8303a3aede8f65715c"
   }
  }
 },
 "nbformat": 4,
 "nbformat_minor": 2
}
