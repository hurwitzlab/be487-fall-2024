{
 "cells": [
  {
   "cell_type": "markdown",
   "metadata": {},
   "source": [
    "## Introduction to Unix: Working with Files and Directories\n",
    "\n",
    "### Questions:\n",
    "- How can I view and search file contents?\n",
    "- How can I create, copy and delete files and directories?\n",
    "- How can I control who has permission to modify a file?\n",
    "- How can I repeat recently used commands?\n",
    "### Objectives:\n",
    "- View, search within, copy, move, and rename files. Create new directories.\n",
    "- Use wildcards (`*`) to perform operations on multiple files.\n",
    "- Use the `history` command to view recently used commands."
   ]
  },
  {
   "cell_type": "code",
   "execution_count": null,
   "metadata": {},
   "outputs": [],
   "source": [
    "# Make sure you have the most up to date code\n",
    "%cd ~/be487-fall-2024\n",
    "!git stash\n",
    "!git pull"
   ]
  },
  {
   "cell_type": "code",
   "execution_count": null,
   "metadata": {},
   "outputs": [],
   "source": [
    "'''\n",
    "Set a variable for your netid\n",
    "Replace \"MY_NETID\" with your actual netid\n",
    "Notice that the `cd` command is a magic command in Jupyter Notebooks and starts with %.\n",
    "Run this cell to set your netid\n",
    "'''\n",
    "netid = \"MY_NETID\"\n",
    "work_dir = \"/xdisk/bhurwitz/bh_class/\" + netid\n",
    "%cd $work_dir"
   ]
  },
  {
   "cell_type": "markdown",
   "metadata": {},
   "source": [
    "### Section 1: Working with Files\n",
    "\n",
    "### Wildcards\n",
    "\n",
    "Now that we know how to navigate around our directory structure, let's\n",
    "start working with **our sequencing files**. We did a sequencing experiment and have four result files, which are stored in our `untrimmed_fastq` directory. \n",
    "\n",
    "Navigate to your `untrimmed_fastq` directory."
   ]
  },
  {
   "cell_type": "code",
   "execution_count": null,
   "metadata": {},
   "outputs": [],
   "source": [
    "'''\n",
    "Type the commands below, and run the cell\n",
    "%cd /xdisk/bhurwitz/bh_class/$netid/exercises/data/untrimmed_fastq\n",
    "'''"
   ]
  },
  {
   "cell_type": "markdown",
   "metadata": {},
   "source": [
    "#### What is a fastq file? \n",
    "\n",
    "We are interested in looking at the FASTQ files in this directory. We can list all files with the `.fastq` extension using the command:\n",
    "\n",
    "```\n",
    "$ ls *.fastq\n",
    "```"
   ]
  },
  {
   "cell_type": "code",
   "execution_count": null,
   "metadata": {},
   "outputs": [],
   "source": [
    "'''\n",
    "Type the command below, and run the cell\n",
    "!ls *.fastq\n",
    "'''"
   ]
  },
  {
   "cell_type": "markdown",
   "metadata": {},
   "source": [
    "#### Wow, that was wild! What is wildcard?\n",
    "\n",
    "You should see something like this:\n",
    "\n",
    "```\n",
    "JC1A_R1.fastq JC1A_R2.fastq JP4D_R1.fastq JP4D_R2.fastq\n",
    "```\n",
    "\n",
    "The `*` character is a special type of character called a wildcard, which can be used to represent any number of any type of character. \n",
    "Thus, `*.fastq` matches every file that ends with `.fastq`. \n",
    "\n",
    "This command: \n",
    "\n",
    "```\n",
    "$ ls *R1.fastq\n",
    "```\n",
    "\n",
    "```\n",
    "JC1A_R1.fastq JP4D_R1.fastq\n",
    "```\n",
    "\n",
    "lists only the file that ends with `R1.fastq`."
   ]
  },
  {
   "cell_type": "markdown",
   "metadata": {},
   "source": [
    "### Section 2: Command History\n",
    "\n",
    "If you want to repeat a command that you've run recently, you can access previous commands using the up arrow on your keyboard to go back to the most recent command. Likewise, the down arrow takes you forward in the command history.\n",
    "\n",
    "A few more useful shortcuts: \n",
    "\n",
    "- <kbd>Ctrl</kbd>+<kbd>C</kbd> will cancel the command you are writing, and give you a \n",
    "fresh prompt.\n",
    "- <kbd>Ctrl</kbd>+<kbd>R</kbd> will do a reverse-search through your command history.  This\n",
    "is very useful.\n",
    "- <kbd>Ctrl</kbd>+<kbd>L</kbd> or the `clear` command will clear your screen.\n",
    "\n",
    "You can also review your recent commands with the `history` command, by entering:\n",
    "\n",
    "```\n",
    "$ history\n",
    "```"
   ]
  },
  {
   "cell_type": "code",
   "execution_count": null,
   "metadata": {},
   "outputs": [],
   "source": [
    "'''\n",
    "Type the command below, and run the cell\n",
    "%history\n",
    "'''"
   ]
  },
  {
   "cell_type": "markdown",
   "metadata": {},
   "source": [
    "### Section 3: Examining Files\n",
    "\n",
    "We now know how to switch directories, and look at the contents of directories, but how do we look at the contents of files?\n",
    "\n",
    "One way to examine a file is to print out on the screen all of the\n",
    "contents using the program `cat`.\n",
    "```\n",
    "$ cat JC1A_R2.fastq\n",
    "```\n",
    "\n",
    "We aren't going to run this here, because Jupyter may freeze on you given that the file contents are too large."
   ]
  },
  {
   "cell_type": "markdown",
   "metadata": {},
   "source": [
    "#### I love my cat, but is less more...\n",
    "\n",
    "`cat` is a terrific program, but, as you just saw if your ran the command, when the file is really big (as the files we have), it can be annoying to use. You can always use Ctrl+C to stop the command.  \n",
    "\n",
    "The program, `less`, is useful for this case. `less` opens the file as read only, and lets you navigate through it. The navigation commands are identical to the `man` program.\n",
    "\n",
    "Enter the following command:\n",
    "\n",
    "```\n",
    "$ less JC1A_R2.fastq\n",
    "```\n",
    "\n",
    "Some navigation commands in `less`\n",
    "\n",
    "| key     | action |\n",
    "| ------- | ---------- |\n",
    "| <kbd>Space</kbd> | to go forward |\n",
    "|  <kbd>b</kbd>    | to go backward |\n",
    "|  <kbd>g</kbd>    | to go to the beginning |\n",
    "|  <kbd>G</kbd>    | to go to the end |\n",
    "|  <kbd>q</kbd>    | to quit |\n",
    "\n",
    "`less` also gives you a way of searching through files. Use the\n",
    "\"/\" key to begin a search. Enter the word you would like\n",
    "to search for and press `enter`. The screen will jump to the next location where that word is found. \n",
    "\n",
    "**Shortcut:** If you hit \"/\" then \"enter\", `less` will  repeat\n",
    "the previous search. `less` searches from the current location and\n",
    "works its way forward. Note, if you are at the end of the file and search for the sequence \"CAA\", `less` will not find it. You either need to go to the beginning of the file (by typing `g`) and search again using `/` or you can use `?` to search backwards in the same way you used `/` previously.\n",
    "\n",
    "Note that we are not going to use less in the Jupyter notebook, given that it is an interactive command and can only be run on the command line. But, this is useful to know once you move into the real-world and the command line!"
   ]
  },
  {
   "cell_type": "markdown",
   "metadata": {},
   "source": [
    "#### Head and tail! Another way to explore files is to use the head and tail commands\n",
    "\n",
    "Using head we can see the top (10 lines of a file by default), or use flags like -n to set the number of lines you want to look at."
   ]
  },
  {
   "cell_type": "code",
   "execution_count": null,
   "metadata": {},
   "outputs": [],
   "source": [
    "'''\n",
    "Type the command below, and run the cell\n",
    "!head -1 JC1A_R2.fastq\n",
    "''' "
   ]
  },
  {
   "cell_type": "code",
   "execution_count": null,
   "metadata": {},
   "outputs": [],
   "source": [
    "'''\n",
    "Type the command below, and run the cell\n",
    "!tail -5 JC1A_R2.fastq\n",
    "''' "
   ]
  },
  {
   "cell_type": "markdown",
   "metadata": {},
   "source": [
    "### Section 4: Details on the FASTQ format\n",
    "\n",
    "Since we are learning while using FASTQ files, let's understand what they are. Although it looks complicated (and it is), it's easy to understand the [fastq](https://en.wikipedia.org/wiki/FASTQ_format) format with a little decoding. Some rules about the format include...\n",
    "\n",
    "|Line|Description|\n",
    "|----|-----------|\n",
    "|1|Always begins with '@' and then information about the read|\n",
    "|2|The actual DNA sequence|\n",
    "|3|Always begins with a '+' and sometimes the same info in line 1|\n",
    "|4|Has a string of characters which represent the quality scores; must have same number of characters as line 2|\n",
    "\n",
    "We can view the first complete read in one of the files our dataset by using `head` to look at the first four lines.\n",
    "\n",
    "```\n",
    "$ head -n 4 JC1A_R2.fastq\n",
    "```\n",
    "\n",
    "```\n",
    "@MISEQ-LAB244-W7:91:000000000-A5C7L:1:1101:13417:1998 2:N:0:TCGNAG\n",
    "CGCGATCAGCAGCGGCCCGGAACCGGTCAGCCGCGCCNTGGGGTTCAGCACCGGCNNGGCGAAGGCCGCGATCGCGGCGGCGGCGATCAGGCAGCGCAGCAGCAGGAGCCACCAGGGCGTGCGGTCGGGCGTCCGTTCGGCGTCCTCGCGCCCCAGCAGCAGGCGCACGCCAGGGAATCCGACCCGCCGCCGGCTCGGCCGCGTCNCCCGCNCCCGCCCCCCGAGCACCCGNAGCCNCNCCACCGCCGCCC\n",
    "+\n",
    "1>AAADAAFFF1G11AA0000AAFE/AAE0FBAEGGG#B/>EF/EGHHHHHHG?C##???/FE/ECHCE?C<FGGGGCCCGGGG@?AE.BFFEAB-9@@@FFFFFEEEEFBFF--99A-;@B=@A@@?@@>-@@--/B--@--@@-F----;@--:F---9-AB9=-@-9E-99A-;:BF-9-@@-;@-@#############################################################\n",
    "```\n",
    " \n",
    "Most of the nucleotides are correct, although we have some unknown bases (N). This is actually a good sequence read!\n",
    " \n",
    "Line 4 shows the quality for each nucleotide in the read. Quality is interpreted as the probability of an incorrect base call (e.g. 1 in 10) or, equivalently, the base call accuracy (e.g. 90%). To make it possible to line up each individual nucleotide with its quality score, the numerical score is converted into a code where each individual character represents the numerical quality score for an individual nucleotide. For example, in the line above, the quality score line is: \n",
    "\n",
    "```\n",
    "!!!!!!!!!!!!!!!!#!!!!!!!!!!!!!!!!!!\n",
    "```\n",
    "\n",
    "The `#` character and each of the `!` characters represent the encoded quality for an individual nucleotide. The numerical value assigned to each of these characters depends on the sequencing platform that generated the reads. The sequencing machine used to generate our data uses the standard Sanger quality PHRED score encoding, Illumina version 1.8 onwards. Each character is assigned a quality score between 0 and 42 as shown in the chart below.\n",
    "\n",
    "```\n",
    "Quality encoding: !\"#$%&'()\\*+,-./0123456789:;<=>?@ABCDEFGHIJK                   |         |         |         |         |\n",
    "Quality score:    0........10........20........30........40..                          \n",
    "```\n",
    " \n",
    "Each quality score represents the probability that the corresponding nucleotide call is incorrect. This quality score is logarithmically based, so a quality score of 10 reflects a base call accuracy of 90%, but a quality score of 20 reflects a base call accuracy of 99%. These probability values are the results from the base calling algorithm and dependent on how much signal was captured for the base incorporation.  \n",
    "\n",
    "Looking back at our read: \n",
    "\n",
    "```\n",
    "@MISEQ-LAB244-W7:91:000000000-A5C7L:1:1101:13417:1998 2:N:0:TCGNAG\n",
    "CGCGATCAGCAGCGGCCCGGAACCGGTCAGCCGCGCCNT\n",
    "+\n",
    "1>AAADAAFFF1G11AA0000AAFE/AAE0FBAEGGG#B\n",
    "```\n",
    "\n",
    "We can now see that the quality of each of the `N`s is 0 and the quality of the only nucleotide call (`C`) is also very poor (`#` = a quality score of 2). This is indeed a very bad read."
   ]
  },
  {
   "cell_type": "markdown",
   "metadata": {},
   "source": [
    "### Section 5: Creating, moving, copying, and removing files\n",
    "\n",
    "Now we can move around in the file structure, look at files, and search files. But what if we want to copy files or move them around or get rid of them? Most of the time, you can do these sorts of file manipulations without the command line,but there will be some cases (like when you're working with a remote computer like we are for this lesson) where it will be impossible. You'll also find that you may be working with hundreds of files and want to do similar manipulations to all of those files. In cases like this, it's much faster to do these operations at the command line."
   ]
  },
  {
   "cell_type": "markdown",
   "metadata": {},
   "source": [
    "#### Copying Files\n",
    "\n",
    "When working with computational data, it's important to keep a safe copy of that data that can't be accidentally overwritten or deleted. For this lesson, our raw data is our FASTQ files.  We don't want to accidentally change the original files, so we'll make a copy of them and change the file permissions so that we can read from, but not write to, the files.\n",
    "\n",
    "First, let's make a copy of one of our FASTQ files using the `cp` command."
   ]
  },
  {
   "cell_type": "code",
   "execution_count": null,
   "metadata": {},
   "outputs": [],
   "source": [
    "'''\n",
    "Run the commands below:\n",
    "%cd /xdisk/bhurwitz/bh_class/$netid/exercises/data/untrimmed_fastq\n",
    "!cp JC1A_R2.fastq JC1A_R2-copy.fastq\n",
    "!ls -F\n",
    "'''"
   ]
  },
  {
   "cell_type": "markdown",
   "metadata": {},
   "source": [
    "#### So what happened?\n",
    "\n",
    "We now have two copies of the `JC1A_R2.fastq` file, one of them named `JC1A_R2-copy.fastq`. We'll move this file to a new directory called `backup` where we'll store our backup data files."
   ]
  },
  {
   "cell_type": "markdown",
   "metadata": {},
   "source": [
    "#### Creating Directories\n",
    "\n",
    "The `mkdir` command is used to make a directory. Enter `mkdir`\n",
    "followed by a space, then the directory name you want to create."
   ]
  },
  {
   "cell_type": "code",
   "execution_count": null,
   "metadata": {},
   "outputs": [],
   "source": [
    "'''\n",
    "Run the command below:\n",
    "!mkdir backup\n",
    "'''"
   ]
  },
  {
   "cell_type": "markdown",
   "metadata": {},
   "source": [
    "#### Moving / Renaming \n",
    "\n",
    "We can now move our backup file to this backup directory. We can\n",
    "move files around using the command `mv`. "
   ]
  },
  {
   "cell_type": "code",
   "execution_count": null,
   "metadata": {},
   "outputs": [],
   "source": [
    "'''\n",
    "Run the commands below:\n",
    "!mv JC1A_R2-copy.fastq backup\n",
    "!ls backup\n",
    "'''"
   ]
  },
  {
   "cell_type": "markdown",
   "metadata": {},
   "source": [
    "#### What just happened?\n",
    "\n",
    "You should see something like this:\n",
    "\n",
    "```\n",
    "JC1A_R2-copy.fastq\n",
    "```\n",
    "\n",
    "The `mv` command moved your JC1A_R2-copy.fastq file into the backup directory.\n",
    "\n",
    "The `mv` command is also how you rename files. Let's rename this file to make it clear that this is a backup."
   ]
  },
  {
   "cell_type": "code",
   "execution_count": null,
   "metadata": {},
   "outputs": [],
   "source": [
    "'''\n",
    "Run the commands below:\n",
    "%cd backup\n",
    "!mv JC1A_R2-copy.fastq JC1A_R2-backup.fastq\n",
    "!ls\n",
    "'''"
   ]
  },
  {
   "cell_type": "markdown",
   "metadata": {},
   "source": [
    "#### What am I left with?\n",
    "\n",
    "You should see this:\n",
    "\n",
    "```\n",
    "JC1A_R2-backup.fastq\n",
    "```\n",
    "\n",
    "We renamed the file in the backup directory!"
   ]
  },
  {
   "cell_type": "markdown",
   "metadata": {},
   "source": [
    "#### Removing files and directories\n",
    "\n",
    "When we want to remove a file or a directory we use the `rm` command. By default, `rm` will not delete directories. You can tell `rm` to delete a directory using the `-r` (recursive) option. Or, you can `rmdir` if the directory is empty. \n",
    "\n",
    "Let's delete the backup directory we just made. "
   ]
  },
  {
   "cell_type": "code",
   "execution_count": null,
   "metadata": {},
   "outputs": [],
   "source": [
    "'''\n",
    "Run the commands below:\n",
    "%cd ..\n",
    "!rm -r backup\n",
    "'''"
   ]
  },
  {
   "cell_type": "markdown",
   "metadata": {},
   "source": [
    "#### Proceed with Caution!\n",
    "\n",
    "**Important**: The `rm` command permanently removes the file. Be careful with this command. It doesn't just nicely put the files in the Trash. They're really gone. The command above will delete not only the directory, but all files within the directory. \n",
    "\n",
    "If you have write-protected files in the directory, you will be asked whether you want to override your permission settings. If we want to modify a file without all the permissions you'll be asked if you want to override your file permissions. For example:\n",
    "\n",
    "```\n",
    "rm: remove write-protected regular file ‘example.fastq’? \n",
    "```\n",
    "\n",
    "If you enter `n` (for no), the file will not be deleted. If you enter `y`, you will delete the file. This gives us an extra measure of security, as there is one more step between us and deleting our data files."
   ]
  },
  {
   "cell_type": "markdown",
   "metadata": {},
   "source": [
    "#### Exercise 1: Make a backup folder with write-protected permissions\n",
    "\n",
    "Starting in the `/xdisk/bhurwitz/bh_class/your_netid/exercises/data/untrimmed_fastq` directory, do the following:\n",
    "1. Go into the /xdisk/bhurwitz/bh_class/$netid/exercises/data/untrimmed_fastq directory\n",
    "1. Create a copy of each of your FASTQ files.   \n",
    "2. Use a wildcard to move all of your backup files to a new backup directory.   \n",
    "3. Change the permissions on all of your backup files to be write-protected.  "
   ]
  },
  {
   "cell_type": "code",
   "execution_count": null,
   "metadata": {},
   "outputs": [],
   "source": [
    "'''\n",
    "Write your commands below:\n",
    "'''"
   ]
  },
  {
   "cell_type": "markdown",
   "metadata": {},
   "source": [
    "### Summary\n",
    "\n",
    "Unix is a great way to quickly work with and modify files programmatically.\n",
    "\n",
    "### Keypoints:\n",
    "- You can view file contents using `less`, `cat`, `head` or `tail`.\n",
    "- The commands `cp`, `mv`, and `mkdir` are useful for manipulating existing files and creating new directories.\n",
    "- You can view file permissions using `ls -l`.\n",
    "- The `history` command and the up arrow on your keyboard can be used to repeat recently used commands.\n"
   ]
  },
  {
   "cell_type": "markdown",
   "metadata": {},
   "source": [
    "-----"
   ]
  },
  {
   "cell_type": "code",
   "execution_count": null,
   "metadata": {},
   "outputs": [],
   "source": [
    "# The End\n",
    "!cp ~/be487-fall-2024/exercises/02_intro_unix/ex02-02_working_with_files.ipynb  /xdisk/bhurwitz/bh_class/$netid/exercises/02_intro_unix/ex02-02_working_with_files.ipynb"
   ]
  }
 ],
 "metadata": {
  "kernelspec": {
   "display_name": "Python 3 (ipykernel)",
   "language": "python",
   "name": "python3"
  },
  "language_info": {
   "codemirror_mode": {
    "name": "ipython",
    "version": 3
   },
   "file_extension": ".py",
   "mimetype": "text/x-python",
   "name": "python",
   "nbconvert_exporter": "python",
   "pygments_lexer": "ipython3",
   "version": "3.9.6"
  },
  "vscode": {
   "interpreter": {
    "hash": "df955ce39d0f31d56d4bb2fe0a613e5326ba60723fd33d8303a3aede8f65715c"
   }
  }
 },
 "nbformat": 4,
 "nbformat_minor": 2
}
