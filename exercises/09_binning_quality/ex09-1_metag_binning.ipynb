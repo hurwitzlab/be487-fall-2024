{
 "cells": [
  {
   "cell_type": "markdown",
   "metadata": {},
   "source": [
    "---\n",
    "# Metagenome Binning\n",
    "\n",
    "### Questions:\n",
    "- How can we obtain the original genomes from a metagenome?\n",
    "\n",
    "### Objectives: \n",
    "- Obtain Metagenome-Assembled Genomes from the metagenomic assembly. \n",
    "\n",
    "### Keypoints:\n",
    "- Metagenome-Assembled Genomes (MAGs) sometimes are obtained from curated contigs grouped into bins.\n",
    "- Use MAXBIN to assign the contigs to bins of different taxa (we will use concoct for the HW)\n",
    "\n",
    "---"
   ]
  },
  {
   "cell_type": "markdown",
   "metadata": {},
   "source": [
    "## Getting Started"
   ]
  },
  {
   "cell_type": "markdown",
   "metadata": {},
   "source": [
    "#### Before starting\n",
    "\n",
    "Make sure you are running this notebook from a Jupyter Notebook session with 24GB of memory on bh_class."
   ]
  },
  {
   "cell_type": "code",
   "execution_count": null,
   "metadata": {
    "vscode": {
     "languageId": "plaintext"
    }
   },
   "outputs": [],
   "source": [
    "# set the variables for your netid\n",
    "netid = \"NETID\""
   ]
  },
  {
   "cell_type": "code",
   "execution_count": null,
   "metadata": {
    "vscode": {
     "languageId": "plaintext"
    }
   },
   "outputs": [],
   "source": [
    "# Go into the working directory\n",
    "work_dir = \"/xdisk/bhurwitz/bh_class/\" + netid + \"/exercises/09_binning_quality\"\n",
    "%cd $work_dir"
   ]
  },
  {
   "cell_type": "markdown",
   "metadata": {},
   "source": [
    "## Metagenomic binning  \n",
    "Contigs in the assembly can be separated into bins with a process called binning. This process allows for a separate analysis of each species contained in the metagenome with enough reads to reconstruct a genome. Genomes reconstructed from metagenomic assemblies are called MAGs (Metagenome-Assembled Genomes).\n",
    "\n",
    "In this process, the assembled contigs from the metagenome will be assigned to different bins (FASTA files that contain certain contigs). Ideally, each bin corresponds to only one original genome (a MAG).\n",
    "\n",
    "![alt text](image.png)\n",
    "\n",
    "Diagram depicts the DNA sequences in the original sample as circular chromosomes of three different taxa. After sequencing, the DNA sequences of the three different taxa are mixed as small linear reads; after the assembly, we have contigs, each corresponding to a single taxon, except for the ones with a bad assembly that has sequences of different taxa in the same contig, after the binning taxa separate the contigs.\n",
    "\n",
    "An obvious way to separate contigs that correspond to a different species is by their taxonomic assignation, but \n",
    "there are more reliable methods that do the binning using \n",
    "characteristics of the contigs, such as their GC content, the use of tetranucleotides (composition), or their coverage (abundance).\n",
    "\n",
    "[Maxbin](https://sourceforge.net/projects/maxbin/files/) is a binning algorithm \n",
    "that distinguishes between contigs that belong to different bins according to their \n",
    "coverage levels and the tetranucleotide frequencies they have."
   ]
  },
  {
   "cell_type": "markdown",
   "metadata": {},
   "source": [
    "> ## Discussion 1: Relation between MAGs and depth \n",
    "> The sequencing center has returned a file to you with 18,412 reads. Given that the bacterial genome size range\n",
    ">  between 4Mbp and 13Mbp (Mb=10^6 bp) and that the size of the reads in this run is 150bp. With these data, \n",
    ">  how many complete bacterial genomes can you reconstruct?\n",
    "\n",
    "<details>\n",
    "  <summary markdown=\"span\">Solution</summary>\n",
    "  <ul> \n",
    "None, because 18,412 reads of 150bp gives a total count of 2,761,800 bp (~2Mbp). Even if no read maps to the same region, the amount of base pairs is less than the size of a bacterial genome. A “typical” bacterial genome is around 5 million bp.\n",
    "</details>"
   ]
  },
  {
   "cell_type": "markdown",
   "metadata": {},
   "source": [
    "Let's bin the samples we assembled. The command for running MaxBin is `run_MaxBin.pl`, and the arguments it needs are the FASTA file of the assembly, the FASTQ with the forward and reverse reads, the output directory, and the name. \n",
    "\n",
    "Let's get started."
   ]
  },
  {
   "cell_type": "code",
   "execution_count": null,
   "metadata": {
    "vscode": {
     "languageId": "plaintext"
    }
   },
   "outputs": [],
   "source": [
    "# Let's bin the contigs from one of our assemblies\n",
    "%cd /xdisk/bhurwitz/bh_class/$netid/exercises/08_assembly/assembly_JC1A\n",
    "!mkdir ../../09_binning_quality/assembly_JC1A"
   ]
  },
  {
   "cell_type": "code",
   "execution_count": null,
   "metadata": {
    "vscode": {
     "languageId": "plaintext"
    }
   },
   "outputs": [],
   "source": [
    "# Let's run MaxBin, a binning tool\n",
    "!apptainer run /contrib/singularity/shared/bhurwitz/maxbin2:2.2.7--hdbdd923_5.sif run_MaxBin.pl \\\n",
    "-thread 8 -contig contigs.fasta \\\n",
    "-reads ../../06_qc_trimming/JC1A_R1.trim.fastq.gz \\\n",
    "-reads2 ../../06_qc_trimming/JC1A_R2.trim.fastq.gz \\\n",
    "-out ../../09_binning_quality/assembly_JC1A"
   ]
  },
  {
   "cell_type": "markdown",
   "metadata": {},
   "source": [
    "#### You should see something like this\n",
    "\n",
    "```\n",
    "MaxBin 2.2.7\n",
    "Thread: 8\n",
    "Input contig: contigs.fasta\n",
    "Located reads file [../../06_qc_trimming/JC1A_R1.trim.fastq.gz]\n",
    "Located reads file [../../06_qc_trimming/JC1A_R2.trim.fastq.gz]\n",
    "out header: ../../09_metag_binning/assembly_JC1A\n",
    "Running Bowtie2 on reads file [../../06_qc_trimming/JC1A_R1.trim.fastq.gz]...this may take a while...\n",
    "Running Bowtie2 on reads file [../../06_qc_trimming/JC1A_R2.trim.fastq.gz]...this may take a while...\n",
    "Searching against 107 marker genes to find starting seed contigs for [contigs.fasta]...\n",
    "Try harder to dig out marker genes from contigs.\n",
    "Marker gene search reveals that the dataset cannot be binned (the medium of marker gene number <= 1). Program stop.\n",
    "```\n",
    "\n",
    "Oh No! It's impossible to bin our assembly because the number of marker genes is less than 1. \n",
    "We could have expected this as we know it is a small sample."
   ]
  },
  {
   "cell_type": "code",
   "execution_count": null,
   "metadata": {
    "vscode": {
     "languageId": "plaintext"
    }
   },
   "outputs": [],
   "source": [
    "# Let's clean up by moving the results into a directory\n",
    "mv ../../09_binning_quality/assembly_JC1A.* ../../09_metag_binning/assembly_JC1A"
   ]
  },
  {
   "cell_type": "markdown",
   "metadata": {},
   "source": [
    "#### Let's try that again on a larger sample...\n",
    "\n",
    "To save some time, we are going to use an assmebly I already created for the larger sample (JP4D). I have the precomputed assembly in the `/xdisk/bhurwitz/bh_class/mags/` directory.  You can copy this over and use it for binning."
   ]
  },
  {
   "cell_type": "code",
   "execution_count": null,
   "metadata": {
    "vscode": {
     "languageId": "plaintext"
    }
   },
   "outputs": [],
   "source": [
    "# copy contigs for the larger sample into assembly_JP4D\n",
    "%cd ..\n",
    "!mkdir assembly_JP4D\n",
    "%cd assembly_JP4D\n",
    "!cp /xdisk/bhurwitz/bh_class/mags/JP4D_contigs.fasta ."
   ]
  },
  {
   "cell_type": "code",
   "execution_count": null,
   "metadata": {
    "vscode": {
     "languageId": "plaintext"
    }
   },
   "outputs": [],
   "source": [
    "# bin all of the contigs in this assembly using maxbin.\n",
    "# This will take ~6-7 minutes to run!\n",
    "!apptainer run /contrib/singularity/shared/bhurwitz/maxbin2:2.2.7--hdbdd923_5.sif run_MaxBin.pl \\\n",
    "-thread 8 -contig JP4D_contigs.fasta \\\n",
    "-reads ../../06_qc_trimming/JP4D_R1.trim.fastq.gz \\\n",
    "-reads2 ../../06_qc_trimming/JP4D_R2.trim.fastq.gz \\\n",
    "-out ../../09_binning_quality/assembly_JP4D"
   ]
  },
  {
   "cell_type": "markdown",
   "metadata": {},
   "source": [
    "#### What did you get?\n",
    "\n",
    "It will take ~7 min minutes to run. Moreover, it will finish with an output like this:\n",
    "\n",
    "```\n",
    "========== Job finished ==========\n",
    "Yielded 4 bins for contig (scaffold) file JP4D_contigs.fasta\n",
    "\n",
    "Here are the output files for this run.\n",
    "Please refer to the README file for further details.\n",
    "\n",
    "Summary file: ../../09_metag_binning/assembly_JP4D.summary\n",
    "Genome abundance info file: ../../09_metag_binning/assembly_JP4D.abundance\n",
    "Marker counts: ../../09_metag_binning/assembly_JP4D.marker\n",
    "Marker genes for each bin: ../../09_metag_binning/assembly_JP4D.marker_of_each_gene.tar.gz\n",
    "Bin files: ../../09_metag_binning/assembly_JP4D.001.fasta - ../../09_metag_binning/assembly_JP4D.004.fasta\n",
    "Unbinned sequences: ../../09_metag_binning/assembly_JP4D.noclass\n",
    "\n",
    "Store abundance information of reads file [../../06_qc_trimming/JP4D_R1.trim.fastq.gz] in [../../09_metag_binning/assembly_JP4D.abund1].\n",
    "Store abundance information of reads file [../../06_qc_trimming/JP4D_R2.trim.fastq.gz] in [../../09_metag_binning/assembly_JP4D.abund2].\n",
    "\n",
    "========== Elapsed Time ==========\n",
    "0 hours 6 minutes and 18 seconds.\n",
    "\n",
    "```\n",
    "\n",
    "With the `.summary` file, we can quickly look at the bins that MaxBin produced. First we will move all of the files into the assembly_JP4D directory.\n"
   ]
  },
  {
   "cell_type": "code",
   "execution_count": null,
   "metadata": {
    "vscode": {
     "languageId": "plaintext"
    }
   },
   "outputs": [],
   "source": [
    "%cd ../../09_binning_quality/\n",
    "!mkdir assembly_JP4D\n",
    "!mv assembly_JP4D.* assembly_JP4D\n",
    "!cat ./assembly_JP4D/assembly_JP4D.summary"
   ]
  },
  {
   "cell_type": "markdown",
   "metadata": {},
   "source": [
    "#### What do you see?\n",
    "\n",
    "You should get something like this...\n",
    "\n",
    "```\n",
    "Bin name\tCompleteness\tGenome size\tGC content\n",
    "assembly_JP4D.001.fasta\t57.9%\t3141556\t55.5\n",
    "assembly_JP4D.002.fasta\t87.9%\t6186438\t67.3\n",
    "assembly_JP4D.003.fasta\t51.4%\t3289972\t48.1\n",
    "assembly_JP4D.004.fasta\t77.6%\t5692657\t38.9\n",
    "```\n",
    "\n",
    "We will chat more about what this all means in the next exercise on looking at assembly quality.\n",
    " "
   ]
  },
  {
   "cell_type": "markdown",
   "metadata": {},
   "source": [
    "## The End\n",
    "\n",
    "Copy your notebook for future reference..."
   ]
  },
  {
   "cell_type": "code",
   "execution_count": null,
   "metadata": {
    "vscode": {
     "languageId": "plaintext"
    }
   },
   "outputs": [],
   "source": [
    "!cp ~/be487-fall-2024/exercises/09_binning_quality/ex09-1_metag_binning.ipynb $work_dir"
   ]
  }
 ],
 "metadata": {
  "kernelspec": {
   "display_name": "Python 3 (ipykernel)",
   "language": "python",
   "name": "python3"
  },
  "language_info": {
   "codemirror_mode": {
    "name": "ipython",
    "version": 3
   },
   "file_extension": ".py",
   "mimetype": "text/x-python",
   "name": "python",
   "nbconvert_exporter": "python",
   "pygments_lexer": "ipython3",
   "version": "3.8.12"
  }
 },
 "nbformat": 4,
 "nbformat_minor": 2
}
