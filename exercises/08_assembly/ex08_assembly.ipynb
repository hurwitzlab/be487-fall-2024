{
 "cells": [
  {
   "cell_type": "markdown",
   "metadata": {},
   "source": [
    "---\n",
    "# Metagenome Assembly\n",
    "\n",
    "### Questions:\n",
    "- Why should genomic data be assembled?\n",
    "- What is the difference between reads and contigs?\n",
    "- How can we assemble a metagenome?\n",
    "\n",
    "### Objectives: \n",
    "- Understand what an assembly is. \n",
    "- Run a metagenomics assembly workflow.\n",
    "- Use an environment in a bioinformatic pipeline.\n",
    "\n",
    "### Keypoints:\n",
    "- Assembly groups reads into contigs.\n",
    "- De Bruijn Graphs use Kmers to assembly cleaned reads.\n",
    "- Program screen allows you to keep open remote sessions.\n",
    "- MetaSPAdes is a metagenomes assembler (we will also use Megahit in the HW)\n",
    "- Assemblers take FastQ files as input and produce a Fasta file as output.\n",
    "---"
   ]
  },
  {
   "cell_type": "markdown",
   "metadata": {},
   "source": [
    "## Getting Started"
   ]
  },
  {
   "cell_type": "markdown",
   "metadata": {},
   "source": [
    "#### Before starting\n",
    "\n",
    "Make sure you are running this notebook from a Jupyter Notebook session with 24GB of memory on bh_class."
   ]
  },
  {
   "cell_type": "code",
   "execution_count": null,
   "metadata": {
    "vscode": {
     "languageId": "plaintext"
    }
   },
   "outputs": [],
   "source": [
    "# set the variables for your netid\n",
    "netid = \"NETID\""
   ]
  },
  {
   "cell_type": "code",
   "execution_count": null,
   "metadata": {
    "vscode": {
     "languageId": "plaintext"
    }
   },
   "outputs": [],
   "source": [
    "# Go into the working directory\n",
    "work_dir = \"/xdisk/bhurwitz/bh_class/\" + netid + \"/exercises/08_assembly\"\n",
    "%cd $work_dir"
   ]
  },
  {
   "cell_type": "markdown",
   "metadata": {},
   "source": [
    "## Assembling reads\n",
    "The assembly process groups reads into contigs and contigs into \n",
    "scaffolds to obtain (ideally) the sequence of a whole \n",
    "genome. There are many programs devoted to\n",
    "[genome](https://www.ncbi.nlm.nih.gov/pmc/articles/PMC2874646/) and \n",
    "metagenome assembly, some of the main strategies they use are Greedy extension, Overlap consensus (OLC), and De Bruijn charts. Contrary to metabarcoding, shotgun metagenomics needs an assembly step, which does not mean that metabarcoding never uses an assembly step but sometimes is unnecessary.\n",
    "\n",
    "![alt text](image.png)\n",
    "\n",
    " Figure above: Three diagrams depicting the three assembly algorithms: The Greedy extension starts with any read, extends it whit the reads that make a match to make a contig, it continues with a different read when the previous contig can not be extended anymore. The Overlap Layout consensus finds every pairwise overlap, makes a layout graph with all the overlaps and chooses consensus sequences to make the contigs. The De Bruijn Graphs divides the reads in k-mers, makes a k-mer graph that shows all the overlapping k-mers, and chooses paths from the graph to make the contigs."
   ]
  },
  {
   "cell_type": "markdown",
   "metadata": {},
   "source": [
    "[MetaSPAdes](https://github.com/ablab/spades) is an NGS de novo assembler \n",
    "for assembling large and complex metagenomics data, and it is one of the \n",
    "most used and recommended. It is part of the SPAdes toolkit, which \n",
    "contains several assembly pipelines.\n",
    "\n",
    "Some of the problems faced by metagenomics assembly are:  \n",
    "* Differences in coverage between the genomes due to the differences in abundance in the sample.  \n",
    "* The fact that different species often share conserved regions.  \n",
    "* The presence of several strains of a single species in the community.   \n",
    "\n",
    "SPAdes already deals with the non-uniform coverage problem in its algorithm, so it is helpful for the assembly of simple communities, but the [metaSPAdes](https://pubmed.ncbi.nlm.nih.gov/28298430/) algorithm deals with the other problems as well, allowing it to assemble metagenomes from complex communities. \n",
    "\n",
    "\n",
    "Let's check out the help message for running this assembler..."
   ]
  },
  {
   "cell_type": "code",
   "execution_count": null,
   "metadata": {
    "vscode": {
     "languageId": "plaintext"
    }
   },
   "outputs": [],
   "source": [
    "!apptainer run /contrib/singularity/shared/bhurwitz/spades:3.15.5--h95f258a_1.sif metaspades.py --help"
   ]
  },
  {
   "cell_type": "markdown",
   "metadata": {},
   "source": [
    "### You should see something like this...\n",
    "\n",
    "```\n",
    "SPAdes genome assembler v3.15.0 [metaSPAdes mode]\n",
    "\n",
    "Usage: spades.py [options] -o <output_dir>\n",
    "\n",
    "Basic options:\n",
    "  -o <output_dir>             directory to store all the resulting files (required)\n",
    "  --iontorrent                this flag is required for IonTorrent data\n",
    "  --test                      runs SPAdes on a toy dataset\n",
    "  -h, --help                  prints this usage message\n",
    "  -v, --version               prints version\n",
    "\n",
    "Input data:\n",
    "  --12 <filename>             file with interlaced forward and reverse paired-end reads\n",
    "  -1 <filename>               file with forward paired-end reads\n",
    "  -2 <filename>               file with reverse paired-end reads    \n",
    "```\n"
   ]
  },
  {
   "cell_type": "markdown",
   "metadata": {},
   "source": [
    "## MetaSPAdes is a metagenomics assembler\n",
    "\n",
    "The help we just saw tells us how to run `metaspades.py`. We are going \n",
    "to use the most straightforward options, just specifying our forward paired-end \n",
    "reads with `-1` and reverse paired-end reads with `-2`, and the output \n",
    "directory where we want our results to be stored."
   ]
  },
  {
   "cell_type": "code",
   "execution_count": null,
   "metadata": {
    "vscode": {
     "languageId": "plaintext"
    }
   },
   "outputs": [],
   "source": [
    "# Go to the qc trimming directory where we have the trimmed sequences\n",
    "%cd /xdisk/bhurwitz/bh_class/$netid/exercises/06_qc_trimming"
   ]
  },
  {
   "cell_type": "code",
   "execution_count": null,
   "metadata": {
    "vscode": {
     "languageId": "plaintext"
    }
   },
   "outputs": [],
   "source": [
    "# Note that this will take a few minutes to run...\n",
    "!apptainer run /contrib/singularity/shared/bhurwitz/spades:3.15.5--h95f258a_1.sif metaspades.py -1 JC1A_R1.trim.fastq.gz -2 JC1A_R2.trim.fastq.gz -o ../08_assembly/assembly_JC1A"
   ]
  },
  {
   "cell_type": "markdown",
   "metadata": {},
   "source": [
    "#### When the run is finished, it shows this message:\n",
    "\n",
    "```\n",
    "======= SPAdes pipeline finished.\n",
    "\n",
    "SPAdes log can be found here: /xdisk/bhurwitz/bh_class/$netid/exercises/08_assembly/assembly_JC1A/spades.log\n",
    "\n",
    "Thank you for using SPAdes!\n",
    "\n",
    "```"
   ]
  },
  {
   "cell_type": "code",
   "execution_count": null,
   "metadata": {
    "vscode": {
     "languageId": "plaintext"
    }
   },
   "outputs": [],
   "source": [
    "# Now, let's go to the output files for one of our assemblies:\n",
    "%cd ../08_assembly/assembly_JC1A\n",
    "!ls -F"
   ]
  },
  {
   "cell_type": "markdown",
   "metadata": {},
   "source": [
    "#### You should see something like this:\n",
    "\n",
    "```\n",
    "assembly_graph_after_simplification.gfa  corrected               K55              scaffolds.fasta\n",
    "assembly_graph.fastg                     dataset.info            misc             scaffolds.paths\n",
    "assembly_graph_with_scaffolds.gfa        first_pe_contigs.fasta  params.txt       spades.log\n",
    "before_rr.fasta                          input_dataset.yaml      pipeline_state   strain_graph.gfa\n",
    "contigs.fasta                            K21                     run_spades.sh    tmp\n",
    "contigs.paths                            K33                     run_spades.yaml\n",
    "```"
   ]
  },
  {
   "cell_type": "markdown",
   "metadata": {},
   "source": [
    "As we can see, MetaSPAdes gave us a lot of files. The ones with the assembly are the `contigs.fasta` and the `scaffolds.fasta`. Also, we found three `K` folders: _K21, K33, and K55_; this contains the individual result files for an assembly with k-mers equal to those numbers: 21, 33, and 55. The best-assembled results are the ones that are displayed outside these k-folders. The folder `corrected` holds the corrected reads with the SPAdes algorithm. Moreover, the file `assembly_graph_with_scaffolds.gfa` has the information needed to visualize our assembly by different means, like programs such as [Bandage](https://rrwick.github.io/Bandage/).\n",
    "\n",
    "The contigs are created from assembled reads, but the scaffolds are the result \n",
    "from a subsequent process in which the contigs are ordered, oriented, and connected with Ns.\n",
    "\n",
    "We can recognize which sample our assembly outputs corresponds to because they are inside \n",
    "the assembly results folder: `assembly_JP4D/`. However, the files within it do not have the \n",
    "sample ID. If we need the files out of their folder, it is beneficial to rename them."
   ]
  },
  {
   "cell_type": "markdown",
   "metadata": {},
   "source": [
    "<br>\n",
    "\n",
    "> ## Exercise 1: Compare two fasta files from the assembly output \n",
    "> You may want to know how many contigs and scaffolds result from the assembly. \n",
    "> Use `contigs.fasta`  and `scaffolds.fasta ` files and sort the commands to create correct code lines.   \n",
    "> Do they have the same number of lines? Why?  \n",
    "> **Hint**: You can use the following commands: `grep`, `|` (pipe), `-l`, `\">\"`, `wc`, `filename.fasta`\n",
    "> \n",
    "<details>\n",
    "  <summary markdown=\"span\">Solution</summary>\n",
    "  <ul> \n",
    "\n",
    "```\n",
    "$ grep '>' contigs.fasta | wc -l\n",
    "$ grep '>' scaffolds.fasta | wc -l\n",
    "```\n",
    "\n",
    "A contig is created from reads and then a scaffold from a group of contigs, so we expect fewer lines in the `scaffolds.fasta `. But, why is the difference so small between these two files for this sample?\n",
    "\n",
    "hint: This sample has very shallow sequencing.\n",
    "\n",
    "</details>"
   ]
  },
  {
   "cell_type": "code",
   "execution_count": null,
   "metadata": {
    "vscode": {
     "languageId": "plaintext"
    }
   },
   "outputs": [],
   "source": [
    "# Use this code block for Exercise 1:"
   ]
  },
  {
   "cell_type": "markdown",
   "metadata": {},
   "source": [
    "## The End\n",
    "\n",
    "Copy your notebook for future reference..."
   ]
  },
  {
   "cell_type": "code",
   "execution_count": null,
   "metadata": {
    "vscode": {
     "languageId": "plaintext"
    }
   },
   "outputs": [],
   "source": [
    "!cp ~/be487-fall-2024/exercises/08_assembly/ex08_assembly.ipynb $work_dir"
   ]
  }
 ],
 "metadata": {
  "kernelspec": {
   "display_name": "Python 3 (ipykernel)",
   "language": "python",
   "name": "python3"
  },
  "language_info": {
   "codemirror_mode": {
    "name": "ipython",
    "version": 3
   },
   "file_extension": ".py",
   "mimetype": "text/x-python",
   "name": "python",
   "nbconvert_exporter": "python",
   "pygments_lexer": "ipython3",
   "version": "3.8.12"
  }
 },
 "nbformat": 4,
 "nbformat_minor": 2
}
