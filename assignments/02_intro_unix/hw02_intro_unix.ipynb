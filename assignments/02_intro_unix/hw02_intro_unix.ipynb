{
 "cells": [
  {
   "cell_type": "markdown",
   "metadata": {},
   "source": [
    "# Introduction to Unix\n",
    "\n",
    "Authors: Ken Youens-Clark and Bonnie Hurwitz"
   ]
  },
  {
   "cell_type": "markdown",
   "metadata": {},
   "source": [
    "## Overview\n",
    "\n",
    "Unix is great for bioinformatics because it handles large datasets efficiently and supports powerful command-line tools for data analysis. Its scripting capabilities allow for automation of repetitive tasks, and its stability ensures reliable processing of complex bioinformatics workflows. Plus, many bioinformatics tools and software are built for Unix systems, making it a go-to environment for researchers in the field.\n",
    "\n",
    "In this homework, you are going to get an opportunity to try out several Unix commands and see how they can be used for bioinformatics research.\n",
    "\n",
    "Here's an overview:\n",
    "- Unix Commands Overview\n",
    "- Working with Sequence Files Example\n",
    "\n",
    "-----\n"
   ]
  },
  {
   "cell_type": "markdown",
   "metadata": {},
   "source": [
    "### Getting Started\n",
    "\n",
    "Before we get started you will need to set your netid and then go into the directory for this assignment under bh_class.\n",
    "\n",
    "You will need to rerun this section each time you come back to this notebook to reset the variables.\n",
    "\n",
    "Remember, our notebooks work in the current working directory -- and when you login to the HPC this automatically is your home directory. You will need to move to the project directory `/xdisk/bhurwitz/bh_class/your_netid/assignments/02_intro_unix`. The next two cells set your netid and the project directory (be sure to replace \"MY_NETID\" with your actual netid). Then we will change into that directory for our exercise."
   ]
  },
  {
   "cell_type": "code",
   "execution_count": null,
   "metadata": {
    "vscode": {
     "languageId": "shellscript"
    }
   },
   "outputs": [],
   "source": [
    "# Make sure you have the most up to date code\n",
    "%cd ~/be487-fall-2024\n",
    "!git stash\n",
    "!git pull"
   ]
  },
  {
   "cell_type": "code",
   "execution_count": null,
   "metadata": {
    "vscode": {
     "languageId": "shellscript"
    }
   },
   "outputs": [],
   "source": [
    "# Change \"MY_NETID\" to your netid below, and run this cell\n",
    "netid = \"MY_NETID\""
   ]
  },
  {
   "cell_type": "code",
   "execution_count": null,
   "metadata": {
    "vscode": {
     "languageId": "shellscript"
    }
   },
   "outputs": [],
   "source": [
    "# Set the working directory and change into this directory\n",
    "work_dir = \"/xdisk/bhurwitz/bh_class/\" + netid + \"/assignments/02_intro_unix\"\n",
    "%cd $work_dir"
   ]
  },
  {
   "cell_type": "markdown",
   "metadata": {},
   "source": [
    "### Section 1: Unix Commands Overview\n",
    "\n",
    "#### The basics\n",
    "\n",
    "Let's go over the basic Unix commands that are included in this notebook. If you need a more thorough explanation, you can follow this introduction from [software carpentry](https://swcarpentry.github.io/shell-novice/01-intro.html)\n",
    "\n",
    "#### Getting Unstuck\n",
    "\n",
    "Commands have a helpful flag (additional arguments to do extra actions) called \"--help\" that will give you information on what the command does and how to use it, and any other flags that you can attach to the command:\n",
    "\n",
    "    ls --help\n",
    "\n",
    "There's also a more in-depth manual accessed by typing the command \"man\" followed by the command:\n",
    "\n",
    "    man ls\n",
    "\n",
    "#### Navigation\n",
    "\n",
    "__pwd__:  Print Working Directory. It tells you which directory you're currently working in. \\\n",
    "__ls__:   List. List out all directories/files in the current directory. \\\n",
    "__cd__:   Change Directory. Moves you to the specified directory. \n",
    "\n",
    "#### Working with Files & Directories\n",
    "\n",
    "__mkdir__: Make Directory. This creates a new directory. \\\n",
    "__wget__:  A network download tool. This command supports downloads files from a server. \\\n",
    "__unzip__: Unzip. Unzips a compressed file. \\\n",
    "__rm__:    Remove. This deletes a file, if it's a directory you'll need the recursive -r flag, but be mindful this is permanent. \\\n",
    "__mv__:    Move. Moves the specified file. \\\n",
    "__cat__:   Concatenate. This displays the contents of a file. \\\n",
    "__cp__:    Copy. Copies the contents of a file/directory. \\\n",
    "__grep__:  Search Command. This filters through a file to search for a pattern of specified characters. \\\n",
    "__wc__:     Word Count. Calculates a file's word, line, character or byte count. \\\n",
    "__diff__:   Difference. Displays the differences in files. \\\n",
    "__cksum__:  Checksum. Generates output values of a file (CRC, Byte Size, and Name). \\\n",
    "__sed__:    Stream Editor. Can insert, delete, search and replace (substitute) text.\n",
    "\n",
    "#### Piping & Filtering\n",
    "\n",
    "Unix commands can chain content from one command into another. For example, we can use the concatenate \"cat\" command, \"pipe\" to to a line count using the word count command (wc -l) and save the into a new file:\n",
    "\n",
    "    cat fileName.txt | wc -l > file_line_count.txt\n",
    "\n",
    "This will be important in the upcoming example on working with sequence files.\n"
   ]
  },
  {
   "cell_type": "markdown",
   "metadata": {},
   "source": [
    "### Section 2: Working with Sequences Files\n",
    "\n",
    "In this exercise, we will use Unix to work with a sequence file with contigs in it. Contigs are parts of a genomic sequence that are from the same organisms and have been \"assembled together\" from shorter sequence reads that come directly off a sequencer."
   ]
  },
  {
   "cell_type": "code",
   "execution_count": 5,
   "metadata": {},
   "outputs": [
    {
     "name": "stdout",
     "output_type": "stream",
     "text": [
      "total 144\n",
      "-rw-r--r--@ 1 bhurwitz  staff  27361 Aug 29 15:12 hw01_intro_unix.ipynb\n",
      "-rw-r--r--@ 1 bhurwitz  staff  39841 Aug 29 14:45 intro_unix.ipynb\n",
      "-rw-r--r--@ 1 bhurwitz  staff    785 Aug 29 14:52 start_here.md\n"
     ]
    }
   ],
   "source": [
    "'''\n",
    "Write the command below, and run the cell\n",
    "2.1: List the files and directories in our project directory.\n",
    "'''\n"
   ]
  },
  {
   "cell_type": "markdown",
   "metadata": {},
   "source": [
    "Now we are going to make a directory to store our contigs, and go into that directory"
   ]
  },
  {
   "cell_type": "code",
   "execution_count": null,
   "metadata": {},
   "outputs": [],
   "source": [
    "'''\n",
    "Write the commands below, and run the cell\n",
    "2.2 Make a directory called 01_contigs\n",
    "2.3 Change into the 01_contigs directory\n",
    "'''\n"
   ]
  },
  {
   "cell_type": "markdown",
   "metadata": {},
   "source": [
    "### Section 3: Downloading files\n",
    "\n",
    "Next, we will go and get a contigs files from the iMicrobe FTP site. We can use the `wget` command to pull down the data from the FTP site to our current directory."
   ]
  },
  {
   "cell_type": "code",
   "execution_count": null,
   "metadata": {
    "vscode": {
     "languageId": "shellscript"
    }
   },
   "outputs": [],
   "source": [
    "# Let's go get the contigs file, run this cell\n",
    "!wget ftp://ftp.imicrobe.us/biosys-analytics/contigs/contigs.zip"
   ]
  },
  {
   "cell_type": "code",
   "execution_count": null,
   "metadata": {
    "vscode": {
     "languageId": "shellscript"
    }
   },
   "outputs": [],
   "source": [
    "'''\n",
    "Write the commands below, and run the cell\n",
    "3.1 Write a command to list the contigs.zip file\n",
    "'''"
   ]
  },
  {
   "cell_type": "markdown",
   "metadata": {},
   "source": [
    "#### Unpack the zipped file\n",
    "\n",
    "Great news! You downloaded the file. It should have a file size of \"1979343\". Do you get that too?\n",
    "\n",
    "Now back to the exercise. Let's unpack the contigs.zip file."
   ]
  },
  {
   "cell_type": "code",
   "execution_count": null,
   "metadata": {},
   "outputs": [],
   "source": [
    "'''\n",
    "Write the commands below, and run the cell\n",
    "3.2 unzip the contigs.zip file\n",
    "3.3 remove the contigs.zip file\n",
    "3.4: List the files and directories in our project directory now.\n",
    "'''"
   ]
  },
  {
   "cell_type": "markdown",
   "metadata": {},
   "source": [
    "#### Fasta formmated files\n",
    "\n",
    "These files are in [FASTA format](https://en.wikipedia.org/wiki/FASTA_format), which basically looks like this:\n",
    "\n",
    "```\n",
    ">Contig_4027\n",
    "AACCGGGCCAATCACCACGCGATGGACGGTACGCTCGATTTCAATGGCAACCTGTATTTCTCGGACGATCTGAACACCAACCCCTATCGGAGCATCGGGAAGATCGATGGACGGACCGGGGAGATCACCAACGTCCAGGTCGTTGATTTCTCCGAAGACAACATCGAATCCACCGTCGATGTAATGGGATTGGGTTGGATGGAAGTGGGAGTGTCTCTTTCCACTCACCTGGGGGATTTTGCTTGCGGTGTGAC\n",
    ">Contig_33139\n",
    "TGTGACGGACCGTGATCGTTCCCTGATCCAGGTCGACGTCACTCCACTGGAGAGCCAGCAGCTCGCCCAGGCGTAGTCCGCAGAAGATGGCAGTGAAGAATAGAGCCGCTTGTGGGTGCGAGTTGCCGGAGCTGTTCCAGTCCCTGAGACCATCGACCAACGTCCGCGCCTCGGTGGAGCTATAGGGATTGATTTGTTTTTTCTGAGACGACTGCGGTCCGAGGATCTTGCGAAGATCGATCCCGATCGCTGGG\n",
    "```\n",
    "\n",
    "Header lines start with \">\", then the sequence follows. Sequences may be broken up over several lines of 50 or 80 characters, but it's just as common to see the sequences take only one (sometimes very long) line. Sequences may be nucleotides, proteins, very short DNA/RNA, longer contigs (shorter strands assembled into contiguous regions), or entire chromosomes or even genomes.\n"
   ]
  },
  {
   "cell_type": "markdown",
   "metadata": {},
   "source": [
    "### Section 4: getting data out of files (using grep).\n",
    "\n",
    "So, you might want to ask how many sequences are in the \"group12_contigs.fasta\" file? To answer, we just need to count how many times we see \">\" in the file. We can do that with the `grep` command. But, there are a few things we should learn first..."
   ]
  },
  {
   "cell_type": "code",
   "execution_count": null,
   "metadata": {
    "vscode": {
     "languageId": "shellscript"
    }
   },
   "outputs": [],
   "source": [
    "# what happens if we use 'grep >' to search for the fasta line header starting with '>'? \n",
    "!grep > group12_contigs.fasta"
   ]
  },
  {
   "cell_type": "code",
   "execution_count": null,
   "metadata": {},
   "outputs": [],
   "source": [
    "'''\n",
    "Write the command below, and run the cell.\n",
    "4.1: List the files and directories in our project directory now (using a long listing).\n",
    "'''"
   ]
  },
  {
   "cell_type": "markdown",
   "metadata": {},
   "source": [
    "#### Yikes, it looks like you accidentally overwrote your file. \n",
    "\n",
    "You should see that group12_contigs.fasta now has a file size of zero. \n",
    "\n",
    "So, basically grep did not execute, and your file got overwritten. Why?\n",
    "\n",
    "Something quite insidious happened with that first \"grep\" statement -- it overwrote our original \"group12_contigs.fasta\" with the result of \"grep\"ing for nothing, which is nothing. \n",
    "\n",
    "Remember that the \">\" symbol tell Unixs to redirect the output of grep into a file. But, we need to tell Unix that we mean a literal greater-than sign by placing it in single or double quotes or putting a backslash in front of it."
   ]
  },
  {
   "cell_type": "code",
   "execution_count": null,
   "metadata": {},
   "outputs": [],
   "source": [
    "# This is known as escaping characters -- a common occurance in programming.\n",
    "!grep '>' group12_contigs.fasta\n",
    "!grep \\> group12_contigs.fasta"
   ]
  },
  {
   "cell_type": "code",
   "execution_count": null,
   "metadata": {},
   "outputs": [],
   "source": [
    "'''\n",
    "Write the command below, and run the cell.\n",
    "4.2: List the files and directories in our project directory now (using a long listing).\n",
    "'''"
   ]
  },
  {
   "cell_type": "markdown",
   "metadata": {},
   "source": [
    "#### Why do we still have a file with zero length?\n",
    "\n",
    "So, we ran those commands correctly, but nothing was output. This is because the file doesn't have anything in it! (given that we erased it in the last step) Let's try those commands on one of the other contigs files.\n",
    "\n",
    "Now you try, use the file 'group24_contigs.fasta' "
   ]
  },
  {
   "cell_type": "code",
   "execution_count": null,
   "metadata": {},
   "outputs": [],
   "source": [
    "'''\n",
    "Write the command below, and run the cell.\n",
    "4.3: search for the \">\" character in the group24_contigs.fasta file.\n",
    "'''"
   ]
  },
  {
   "cell_type": "markdown",
   "metadata": {},
   "source": [
    "#### Let's get the file back, and try again.\n",
    "\n",
    "Ugh, OK, I have to go back and wget the \"contigs.zip\" file to restore it. That's OK. Things like this happen all the time. Let's do this again..."
   ]
  },
  {
   "cell_type": "code",
   "execution_count": null,
   "metadata": {},
   "outputs": [],
   "source": [
    "'''\n",
    "Write the command below, and run the cell.\n",
    "4.4: remove the *.fasta files\n",
    "4.5: get the contigs.zip file using the wget command above.\n",
    "4.6: unzip the contigs.zip file\n",
    "4.7: List the files and directories in our project directory now (using a long listing).\n",
    "'''"
   ]
  },
  {
   "cell_type": "markdown",
   "metadata": {},
   "source": [
    "#### The file is back!\n",
    "\n",
    "You should see something like this from the last command\n",
    "\n",
    "```\n",
    "-rw-rw----  1 bhurwitz  staff  3034371 Aug 10  2016 group12_contigs.fasta\n",
    "-rw-rw----  1 bhurwitz  staff  1550608 Aug 10  2016 group20_contigs.fasta\n",
    "-rw-rw----  1 bhurwitz  staff  1686023 Aug 10  2016 group24_contigs.fasta\n",
    "```\n",
    "\n",
    "#### Count the sequences in the contigs file\n",
    "\n",
    "Now that I have restored my data, I want to count how many greater-than signs (or fasta headers) are in the file. These are the names of the sequences in the contigs file. You should get 132.\n",
    "\n",
    "You can use the grep command like above, and \"pipe\" it to the word count command.\n"
   ]
  },
  {
   "cell_type": "code",
   "execution_count": null,
   "metadata": {},
   "outputs": [],
   "source": [
    "'''\n",
    "Write the command below, and run the cell.\n",
    "4.8: Use the grep command like above, and \"pipe\" it to the word count command (counting lines only)\n",
    "'''"
   ]
  },
  {
   "cell_type": "markdown",
   "metadata": {},
   "source": [
    "#### Searching for something...\n",
    "\n",
    "Moving on, let's find how many contig IDs in \"group12_contigs.fasta\" contain the number \"47\":"
   ]
  },
  {
   "cell_type": "code",
   "execution_count": null,
   "metadata": {},
   "outputs": [],
   "source": [
    "'''\n",
    "Write the command below, and run the cell.\n",
    "4.8: Use the grep command to find all ids with the number 47, then save the results to a file\n",
    "4.9: Use the cat command to show what is in your new file\n",
    "'''"
   ]
  },
  {
   "cell_type": "markdown",
   "metadata": {},
   "source": [
    "#### What did you get?\n",
    "\n",
    "You should see something like this:\n",
    "\n",
    "```\n",
    "cat group12_ids_with_47\n",
    ">Contig_247\n",
    ">Contig_447\n",
    ">Contig_476\n",
    ">Contig_1947\n",
    ">Contig_4764\n",
    ">Contig_4767\n",
    ">Contig_13471\n",
    "```\n",
    "\n",
    "Let's play around with the file, by putting it in some temp files. Here are two ways to make a copy of the file contents."
   ]
  },
  {
   "cell_type": "code",
   "execution_count": null,
   "metadata": {
    "vscode": {
     "languageId": "shellscript"
    }
   },
   "outputs": [],
   "source": [
    "# Option 1: use cat, note you shouldn't see any output from this command it is going into the file\n",
    "!cat group12_ids_with_47 > temp1_ids"
   ]
  },
  {
   "cell_type": "code",
   "execution_count": null,
   "metadata": {
    "vscode": {
     "languageId": "shellscript"
    }
   },
   "outputs": [],
   "source": [
    "# Option 2: use the cp (copy) command\n",
    "!cp group12_ids_with_47 temp2_ids"
   ]
  },
  {
   "cell_type": "markdown",
   "metadata": {},
   "source": [
    "### Section 5: Checking if files are the same\n",
    "\n",
    "How can we be sure the two temp files we just created are the same? Let's use \"diff\":\n"
   ]
  },
  {
   "cell_type": "code",
   "execution_count": null,
   "metadata": {
    "vscode": {
     "languageId": "shellscript"
    }
   },
   "outputs": [],
   "source": [
    "# Check if temp1_ids is the same as temp2_ids\n",
    "!diff temp1_ids temp2_ids"
   ]
  },
  {
   "cell_type": "markdown",
   "metadata": {},
   "source": [
    "#### What did you get?\n",
    "\n",
    "You should see nothing, which is a case of \"no news is good news.\" They don't differ in any way. \n",
    "\n",
    "We can verify this with \"cksum\" below (see below). "
   ]
  },
  {
   "cell_type": "code",
   "execution_count": null,
   "metadata": {},
   "outputs": [],
   "source": [
    "'''\n",
    "Write the command below, and run the cell.\n",
    "5.1: Use the checksum (chksum) command to look at the temp file sizes to see if the files are different\n",
    "'''"
   ]
  },
  {
   "cell_type": "markdown",
   "metadata": {},
   "source": [
    "#### What did you get?\n",
    "\n",
    "You should see this:\n",
    "\n",
    "```\n",
    "2188208005 89 temp1_ids\n",
    "2188208005 89 temp2_ids\n",
    "```\n",
    "\n",
    "They are the same file size. If there were even one character difference, they would generate different hashes."
   ]
  },
  {
   "cell_type": "markdown",
   "metadata": {},
   "source": [
    "\n",
    "### Section 6: Checking for duplicates\n",
    "\n",
    "Before we can check for duplicates, we need to make some! Let's create a file with duplicate IDs using the cat command:"
   ]
  },
  {
   "cell_type": "code",
   "execution_count": null,
   "metadata": {
    "vscode": {
     "languageId": "shellscript"
    }
   },
   "outputs": [],
   "source": [
    "# This command concatenates the contents of both temp files into a new file\n",
    "!cat temp1_ids temp2_ids > duplicate_ids"
   ]
  },
  {
   "cell_type": "markdown",
   "metadata": {},
   "source": [
    "### Want to see a cool trick?\n",
    "\n",
    "In the code below, I am doing the following:\n",
    "1. copying the file duplicate_ids to multiple_ids\n",
    "2. getting all of the contigs IDs from \"group20_contigs.fasta\" that contain the number \"51\" \n",
    "and...concatenating the new IDs to file called \"multiple_ids\".\n",
    "\n",
    "Notice that the second command:\n",
    "\n",
    "```\n",
    "grep 51 group20_contigs.fasta >> !$\n",
    "```\n",
    "\n",
    "is the same as\n",
    "\n",
    "```\n",
    "grep 51 group20_contigs.fasta >> multiple_ids\n",
    "```\n",
    "\n",
    "Cool shortcut huh?\n",
    "\n",
    "Also notice the \">>\" arrows to indicate that we are appending to the existing \"multiple_ids\" file."
   ]
  },
  {
   "cell_type": "code",
   "execution_count": null,
   "metadata": {},
   "outputs": [],
   "source": [
    "!cp duplicate_ids multiple_ids\n",
    "!grep 51 group20_contigs.fasta >> !$"
   ]
  },
  {
   "cell_type": "code",
   "execution_count": null,
   "metadata": {},
   "outputs": [],
   "source": [
    "'''\n",
    "Write the command below, and run the cell.\n",
    "6.1: remove the existing \"temp\" files using a \"*\" wildcard\n",
    "'''"
   ]
  },
  {
   "cell_type": "markdown",
   "metadata": {},
   "source": [
    "### Section 7: Using sort and uniq\n",
    "\n",
    "Now let's explore more of what \"sort\" and \"uniq\" can do for us. We want to find which IDs are unique and which are duplicated. If we read the manpage (\"man uniq\"), we see that there are \"-d\" and \"-u\" flags for doing just that. \n",
    "\n",
    "The \"-d\" flag will only print duplicate lines, one for each group. \n",
    "\n",
    "And the \"-u\" will only print unique lines. \n",
    "\n",
    "Don't forget that input to \"uniq\" needs to be sorted for this all to work because the duplicates need to be next to each other in the list."
   ]
  },
  {
   "cell_type": "code",
   "execution_count": null,
   "metadata": {},
   "outputs": [],
   "source": [
    "#sort multiple_ids, pipe into a uniq -d (repeated flag), place into temp1 file\n",
    "!sort multiple_ids | uniq -d > temp1_ids\n",
    "#sort multiple_ids, pipe into a uniq -u (unique flag), place into temp2 file \n",
    "!sort multiple_ids | uniq -u > temp2_ids\n",
    "#check the differences between the two files \n",
    "!diff temp*"
   ]
  },
  {
   "cell_type": "markdown",
   "metadata": {},
   "source": [
    "#### What did you get?\n",
    "\n",
    "You should see something like this:\n",
    "\n",
    "```\n",
    "1,7c1,11\n",
    "< >Contig_13471\n",
    "< >Contig_1947\n",
    "< >Contig_247\n",
    "< >Contig_447\n",
    "< >Contig_476\n",
    "< >Contig_4764\n",
    "< >Contig_4767\n",
    "---\n",
    "> >Contig_10051\n",
    "> >Contig_1651\n",
    "> >Contig_4851\n",
    "> >Contig_5141\n",
    "> >Contig_5143\n",
    "> >Contig_5164\n",
    "> >Contig_5170\n",
    "> >Contig_5188\n",
    "> >Contig_6351\n",
    "> >Contig_9651\n",
    "> >Contig_9851\n",
    "```"
   ]
  },
  {
   "cell_type": "code",
   "execution_count": null,
   "metadata": {},
   "outputs": [],
   "source": [
    "# Let's remove our temp files again\n",
    "!rm temp*"
   ]
  },
  {
   "cell_type": "code",
   "execution_count": null,
   "metadata": {},
   "outputs": [],
   "source": [
    "'''\n",
    "Write the commands below, and run the cell.\n",
    "7.1: sort and uniq the multiple_ids file and put the results in a file called clean_ids\n",
    "7.2: word count the multiple_ids clean_ids files \n",
    "'''"
   ]
  },
  {
   "cell_type": "markdown",
   "metadata": {},
   "source": [
    "### What did you get?\n",
    "\n",
    "You should see something like this:\n",
    "\n",
    " 14 multiple_ids\n",
    " 7 clean_ids\n",
    " 21 total"
   ]
  },
  {
   "cell_type": "markdown",
   "metadata": {},
   "source": [
    "### Section 8:  Using the sed command to alter the ids\n",
    "\n",
    "We can use \"sed\" to alter the IDs. \n",
    "\n",
    "The \"s//\" command says to \"substitute\" the first thing with the second thing, e.g., to replace the first occurence of \"foo\" with \"bar\", use [\"s/foo/bar/\"](http://stackoverflow.com/questions/4868904/what-is-the-origin-of-foo-and-bar). \n",
    "\n",
    "If you want to replace all instances, of \"foo\" with \"bar\", use [\"s/foo/bar/g\"] to say you want to run the command \"globally."
   ]
  },
  {
   "cell_type": "code",
   "execution_count": null,
   "metadata": {
    "vscode": {
     "languageId": "shellscript"
    }
   },
   "outputs": [],
   "source": [
    "!sed 's/C/c/' clean_ids\n",
    "!sed 's/_/./' clean_ids\n",
    "!sed 's/>//' clean_ids > newclean_ids"
   ]
  },
  {
   "cell_type": "markdown",
   "metadata": {},
   "source": [
    "After we run these sed commands, what do our ids look like? Can you write a few Unix commands below to see what is in the newclean_ids file?\n",
    "\n",
    "What did you change with the first two commands? Did it \"stick\", aka was saved in the clean_ids file?"
   ]
  },
  {
   "cell_type": "code",
   "execution_count": null,
   "metadata": {},
   "outputs": [],
   "source": [
    "'''\n",
    "Write the commands below, and run the cell.\n",
    "8.1: display the contents of clean_ids using cat\n",
    "8.2: display the contents of newclean_ids using cat\n",
    "'''"
   ]
  },
  {
   "cell_type": "markdown",
   "metadata": {},
   "source": [
    "#### So what happened?\n",
    "\n",
    "As we see with the cat command above, only the last sed command stuck and saved into the newclean_ids file. We have a few options to get all of them to work. We could pipe it all together, or we can use this handy -e flag and just space our substitutions with \"/\" in between the quotes. Usually, a single command is specified as the first argument to sed.  BUt, you can add multiple commands by using the -e (piping from cat) or -f (in a file) options.  All commands are applied to the input in the order they are specified regardless of their origin."
   ]
  },
  {
   "cell_type": "code",
   "execution_count": null,
   "metadata": {},
   "outputs": [],
   "source": [
    "# check this out!\n",
    "!sed -e 's/C/c/;s/_/./;s/>//' clean_ids > final_clean_ids"
   ]
  },
  {
   "cell_type": "code",
   "execution_count": null,
   "metadata": {},
   "outputs": [],
   "source": [
    "# What do you get?\n",
    "!cat final_clean_ids"
   ]
  },
  {
   "cell_type": "markdown",
   "metadata": {},
   "source": [
    "#### What happened?\n",
    "\n",
    "Now we see all of our wanted substitutions have been placed into this final_clean_ids file for futher use."
   ]
  },
  {
   "cell_type": "markdown",
   "metadata": {},
   "source": [
    "### The End!\n",
    "\n",
    "Last step, copy your completed Jupyter notebook into your assignments directory. Be sure to save your notebook first."
   ]
  },
  {
   "cell_type": "code",
   "execution_count": null,
   "metadata": {},
   "outputs": [],
   "source": [
    "!cp ~/be487-fall-2024/assignments/02_intro_unix/hw02_intro_unix.ipynb  /xdisk/bhurwitz/bh_class/$netid/assignments/02_intro_unix/hw02_intro_unix.ipynb"
   ]
  }
 ],
 "metadata": {
  "kernelspec": {
   "display_name": "Python 3 (ipykernel)",
   "language": "python",
   "name": "python3"
  },
  "language_info": {
   "codemirror_mode": {
    "name": "ipython",
    "version": 3
   },
   "file_extension": ".py",
   "mimetype": "text/x-python",
   "name": "python",
   "nbconvert_exporter": "python",
   "pygments_lexer": "ipython3",
   "version": "3.9.6"
  },
  "vscode": {
   "interpreter": {
    "hash": "1a1af0ee75eeea9e2e1ee996c87e7a2b11a0bebd85af04bb136d915cefc0abce"
   }
  }
 },
 "nbformat": 4,
 "nbformat_minor": 2
}
