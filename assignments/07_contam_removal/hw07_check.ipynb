{
 "cells": [
  {
   "cell_type": "markdown",
   "id": "5de7bac8",
   "metadata": {},
   "source": [
    "# hw07 Check\n",
    "\n"
   ]
  },
  {
   "cell_type": "markdown",
   "id": "07ebed36",
   "metadata": {},
   "source": [
    "## Getting Started\n",
    "\n",
    "Set the variables you need for running the analyses in this notebook."
   ]
  },
  {
   "cell_type": "code",
   "execution_count": null,
   "id": "e7a46521",
   "metadata": {},
   "outputs": [],
   "source": [
    "# set the variables for your netid and xfile\n",
    "netid = \"MY_NETID\"\n",
    "xfile = \"MY_XFILE\""
   ]
  },
  {
   "cell_type": "code",
   "execution_count": null,
   "id": "75d388ce",
   "metadata": {},
   "outputs": [],
   "source": [
    "# Go into the working directory\n",
    "work_dir = \"/xdisk/bhurwitz/bh_class/\" + netid + \"/assignments/07_contam_removal\"\n",
    "%cd $work_dir"
   ]
  },
  {
   "cell_type": "code",
   "execution_count": null,
   "id": "bec5fc96",
   "metadata": {},
   "outputs": [],
   "source": [
    "# xfile dir\n",
    "xfile_dir = \"/xdisk/bhurwitz/bh_class/\" + netid + \"/assignments/05_getting_data\""
   ]
  },
  {
   "cell_type": "markdown",
   "id": "167b426c",
   "metadata": {},
   "source": [
    "### Check the 07 jobs are complete.\n",
    "\n",
    "First, we need to check that the 07 jobs have finished running. You will need to wait to run the check on the data until this is finished"
   ]
  },
  {
   "cell_type": "code",
   "execution_count": null,
   "id": "15cc530f",
   "metadata": {},
   "outputs": [],
   "source": [
    "# Check to be sure run is finished\n",
    "# Do you see any jobs running that started with 07?\n",
    "!squeue --user=$netid"
   ]
  },
  {
   "cell_type": "markdown",
   "id": "e53fc487",
   "metadata": {},
   "source": [
    "### Run the checks on the data\n",
    "\n",
    "Next, we will check our data and see how our human contamination removal step went. Some questions we will answer:\n",
    "\n",
    "1. What percentage of reads mapped to the human genome, and were therefore removed?\n",
    "2. Are some samples more contaminated than others?\n",
    "3. Do we still have enough reads to moce forward with an assembly?"
   ]
  },
  {
   "cell_type": "code",
   "execution_count": null,
   "id": "45ca39bf",
   "metadata": {},
   "outputs": [],
   "source": [
    "# First let's check to make sure we have *fastq files\n",
    "# Do you have 16 files? \n",
    "# If not, you will need to check the log files for 07A to see what went wrong.\n",
    "!ls -l *fastq.gz\n",
    "!ls *fastq.gz | wc -l"
   ]
  },
  {
   "cell_type": "code",
   "execution_count": null,
   "id": "9d99d3d9",
   "metadata": {},
   "outputs": [],
   "source": [
    "# Let's start by getting the overall alignment rate\n",
    "# This is the percentage of reads that mapped to the human genome\n",
    "!grep \"overall alignment rate\" *log | sed 's/_hostmap.log:/ /' | sed 's/ overall alignment rate//'"
   ]
  },
  {
   "cell_type": "markdown",
   "id": "eeff7780",
   "metadata": {},
   "source": [
    "#### What do you see?\n",
    "\n",
    "You should see that the overall percentage of reads mapped to human is very low (0% - 0.02%). This means that the authors did a very good job of removing human reads prior to uploading the samples to the SRA. Typically, you would see that all metagenomes much more human contamination, due to sample preparation and human DNA already present in the sample. We are human after all! For example, diabetic foot ulcers can be \"contaminated\" with human DNA up to 99.9%! This means researchers need to either sequence very deeply to see the microbes present in the sample or use techniques to enrich for bacterial cells by filtering out larger human cells. Fun!\n",
    "\n",
    "Next, let's check how many reads are left per sample."
   ]
  },
  {
   "cell_type": "code",
   "execution_count": null,
   "id": "d8a121ea",
   "metadata": {},
   "outputs": [],
   "source": [
    "# find the reads that did not align, these are your non-human reads\n",
    "!grep \"aligned 0 times$\" *log | sed 's/_hostmap.log:/ /' | sed 's/ (.*//'\n"
   ]
  },
  {
   "cell_type": "markdown",
   "id": "5c08fa20",
   "metadata": {},
   "source": [
    "#### What do you see?\n",
    "\n",
    "You should see that you have at leat 5M reads per sample. This should be plenty for creating an metagenome assembly in the next step."
   ]
  },
  {
   "cell_type": "markdown",
   "id": "5862ef40",
   "metadata": {},
   "source": [
    "### What data do you need to report on in your deep dive in Packback?\n",
    "\n",
    "The deep dive is a summary of all of your homeworks for this module (HW07 - HW09). Here are the guiding questions for this assignment that you will find/answer in Packback.\n",
    "\n",
    "1. What tool and version did you use to align your reads to the human genome?\n",
    "2. What was the purpose of aligning reads to the human genome?\n",
    "3. Report the percentage of reads removed by the human contamination filter.\n",
    "4. Create a table showing the number of reads before and after the human contamination filter.\n",
    "\n",
    "Note you are only going to report on 8 of the 56 total samples for your team project, in this report."
   ]
  },
  {
   "cell_type": "markdown",
   "id": "83501ab5",
   "metadata": {},
   "source": [
    "## Final Step\n",
    "Copy your notebook to the current working directory"
   ]
  },
  {
   "cell_type": "code",
   "execution_count": null,
   "id": "b5b6190d",
   "metadata": {},
   "outputs": [],
   "source": [
    "!cp ~/be487-fall-2024/assignments/07_contam_removal/hw07_check.ipynb $work_dir"
   ]
  }
 ],
 "metadata": {
  "kernelspec": {
   "display_name": "Python 3 (ipykernel)",
   "language": "python",
   "name": "python3"
  },
  "language_info": {
   "codemirror_mode": {
    "name": "ipython",
    "version": 3
   },
   "file_extension": ".py",
   "mimetype": "text/x-python",
   "name": "python",
   "nbconvert_exporter": "python",
   "pygments_lexer": "ipython3",
   "version": "3.8.12"
  }
 },
 "nbformat": 4,
 "nbformat_minor": 5
}
