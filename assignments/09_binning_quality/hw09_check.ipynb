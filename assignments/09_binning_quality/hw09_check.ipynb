{
 "cells": [
  {
   "cell_type": "markdown",
   "id": "239d2480",
   "metadata": {},
   "source": [
    "# Check hw09\n",
    "\n",
    "In this homework, we binned our assembled contigs into species-level bins. Then we ran tools to check the quality of these assemblies. Now, we are going to check to make sure everything ran properly and look at the quality of our assemblies.  "
   ]
  },
  {
   "cell_type": "markdown",
   "id": "2b3fa9c1",
   "metadata": {},
   "source": [
    "## Getting Started\n",
    "\n",
    "Set the variables you need."
   ]
  },
  {
   "cell_type": "code",
   "execution_count": null,
   "id": "e9373313",
   "metadata": {},
   "outputs": [],
   "source": [
    "# set the variables for your netid and xfile\n",
    "netid = \"YOUR_NETID\""
   ]
  },
  {
   "cell_type": "code",
   "execution_count": null,
   "id": "3d3c9105",
   "metadata": {},
   "outputs": [],
   "source": [
    "# set directories\n",
    "work_dir = \"/xdisk/bhurwitz/bh_class/\" + netid + \"/assignments/09_binning_quality\""
   ]
  },
  {
   "cell_type": "code",
   "execution_count": null,
   "id": "5f65dacd",
   "metadata": {},
   "outputs": [],
   "source": [
    "# Go into the working directory\n",
    "%cd $work_dir"
   ]
  },
  {
   "cell_type": "markdown",
   "id": "aaaade60",
   "metadata": {},
   "source": [
    "### Check the 09 jobs are complete.\n",
    "\n",
    "First, we need to check that the 09 jobs have finished running. You will need to wait to run the check on the data until this is finished"
   ]
  },
  {
   "cell_type": "code",
   "execution_count": null,
   "id": "39aca9ea",
   "metadata": {},
   "outputs": [],
   "source": [
    "# Check to be sure run is finished\n",
    "# Do you see any jobs running that started with 09?\n",
    "!squeue --user=$netid"
   ]
  },
  {
   "cell_type": "markdown",
   "id": "8f659efe",
   "metadata": {},
   "source": [
    "## Step 1: Checking the Metagenome Assembled Genomes (MAGs)\n",
    "\n",
    "First we are going to check to see that our binning step ran properly and that we have the files we expect."
   ]
  },
  {
   "cell_type": "code",
   "execution_count": null,
   "id": "71b30070",
   "metadata": {},
   "outputs": [],
   "source": [
    "# did you get the final contigs files?\n",
    "# these are the contigs that are re-labeled based on the bins they are located in.\n",
    "!ls -l out_concoct/*.all_contigs.fna"
   ]
  },
  {
   "cell_type": "markdown",
   "id": "bfa57293",
   "metadata": {},
   "source": [
    "## Step 2: Checking the Stats on the contigs\n",
    "\n",
    "Next, we will use a program called Quast to check the overall assembly stats on each of the assembled contigs files. "
   ]
  },
  {
   "cell_type": "code",
   "execution_count": null,
   "id": "0f464622",
   "metadata": {},
   "outputs": [],
   "source": [
    "# Create a single column for the report for each accession\n",
    "!for accession in `ls ./out_quast`; do tail -23 ./out_quast/$accession/report.txt | sed 's/\\s\\s\\+/\\t/' | cut -f2 > ./out_quast/$accession.txt; done"
   ]
  },
  {
   "cell_type": "code",
   "execution_count": null,
   "id": "cd3feb93",
   "metadata": {},
   "outputs": [],
   "source": [
    "# Get a header for each row in the report\n",
    "!cat ./out_quast/*/report.txt | sed 's/\\s\\s\\+/\\t/' | cut -f1 | head -25 | tail -23 > ./out_quast/header.txt"
   ]
  },
  {
   "cell_type": "code",
   "execution_count": null,
   "id": "ca6b7054",
   "metadata": {},
   "outputs": [],
   "source": [
    "# combine the files into a single report\n",
    "!paste ./out_quast/header.txt ./out_quast/E*txt > ./out_quast/combined_quast_report"
   ]
  },
  {
   "cell_type": "code",
   "execution_count": null,
   "id": "d847474b",
   "metadata": {},
   "outputs": [],
   "source": [
    "# Get the report for the Deep dive\n",
    "!cat ./out_quast/combined_quast_report"
   ]
  },
  {
   "cell_type": "markdown",
   "id": "69a24a6d",
   "metadata": {},
   "source": [
    "## Step 3: Assembly stats from Checkm2\n",
    "\n",
    "Using the next few commands, we will check to see how well we did getting the contigs into species-level bins. And how complete those bins are... \n",
    "\n",
    "Let's check the assembly stats from Checkm2\n",
    "\n",
    "**completeness** tells you how complete each genome is in the bin is. If the MAG is incomplete and highly fragmented, then you likely did not find that genome in your sample. \n",
    "\n",
    "**contamination** to \n",
    "We want to know if we were able to separate each genome correctly. Contamination tells use if we have more than one genome in our bin.\n",
    "\n",
    "**Genome size** and **GC content** are like genomic fingerprints of taxa, so you can know if you have the taxa you are looking for. Since we are working with the mixed genomes of a community when we try to separate them with binning.  "
   ]
  },
  {
   "cell_type": "code",
   "execution_count": null,
   "id": "96d01e98",
   "metadata": {},
   "outputs": [],
   "source": [
    "# Let's look at the header row in the quality_report.tsv for checkm\n",
    "!cat out_checkm/*/quality_report.tsv | cut -f2,3,9,10 | head -1 | uniq  > checkm_header.txt"
   ]
  },
  {
   "cell_type": "code",
   "execution_count": null,
   "id": "c06e79f5",
   "metadata": {},
   "outputs": [],
   "source": [
    "# Let's look at the checkm reports for the following:\n",
    "# Completeness\tContamination\tGenome_Size\tGC_Content\n",
    "# We will just look at the top ten bins for reference...\n",
    "# What do you see? Did the binning do a good job? How many complete genomes do you have (>90%)? Are they contaminated?\n",
    "!for accession in `ls ./out_checkm`; do echo $accession ; cat ./checkm_header.txt; sort -gr -k 2 ./out_checkm/$accession/quality_report.tsv | cut -f2,3,9,10 | head -10; done"
   ]
  },
  {
   "cell_type": "markdown",
   "id": "3a352162",
   "metadata": {},
   "source": [
    "### What data do you need to report on in your deep dive in Packback?\n",
    "\n",
    "The deep dive is a summary of all of your homeworks for this module (HW07 - HW09). Here are the guiding questions for this assignment that you will find/answer in Packback.\n",
    "\n",
    "1. What tools and versions did you use to bin your contigs?\n",
    "2. What tools and versions did you use to check the quality of the resulting bins?\n",
    "3. What was the purpose of binning the contigs?\n",
    "4. Create a table showing the quat stats (note you created this table above in Step 2) \n",
    "5. How many complete genomes (>90%) did you find in your 8 samples based on checkM?\n",
    "6. How many of these complete genomes were contaminated (>10%) based on checkM?\n",
    "7. Create a table of your complete genomes from checkM for all 8 samples with Completeness, Contamination, Genome_Size, GC_Content\n",
    "\n",
    "\n",
    "Note you are only going to report on 8 of the 56 total samples for your team project, in this report."
   ]
  },
  {
   "cell_type": "markdown",
   "id": "d07ad33d",
   "metadata": {},
   "source": [
    "## Final Step\n",
    "Copy your notebook to the current working directory"
   ]
  },
  {
   "cell_type": "code",
   "execution_count": null,
   "id": "a117637c",
   "metadata": {},
   "outputs": [],
   "source": [
    "!cp ~/be487-fall-2024/assignments/09_binning_quality/hw09_check.ipynb $work_dir"
   ]
  }
 ],
 "metadata": {
  "kernelspec": {
   "display_name": "Python 3 (ipykernel)",
   "language": "python",
   "name": "python3"
  },
  "language_info": {
   "codemirror_mode": {
    "name": "ipython",
    "version": 3
   },
   "file_extension": ".py",
   "mimetype": "text/x-python",
   "name": "python",
   "nbconvert_exporter": "python",
   "pygments_lexer": "ipython3",
   "version": "3.8.12"
  }
 },
 "nbformat": 4,
 "nbformat_minor": 5
}
