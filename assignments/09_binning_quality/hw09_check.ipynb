{
 "cells": [
  {
   "cell_type": "markdown",
   "id": "239d2480",
   "metadata": {},
   "source": [
    "# Check hw09\n",
    "\n",
    "In this homework, we binned our assembled contigs into species-level bins. Then we ran tools to check the quality of these assemblies. Now, we are going to check to make sure everything ran properly and look at the quality of our assemblies.  "
   ]
  },
  {
   "cell_type": "markdown",
   "id": "2b3fa9c1",
   "metadata": {},
   "source": [
    "## Getting Started\n",
    "\n",
    "Set the variables you need."
   ]
  },
  {
   "cell_type": "code",
   "execution_count": null,
   "id": "e9373313",
   "metadata": {},
   "outputs": [],
   "source": [
    "# set the variables for your netid and xfile\n",
    "netid = \"YOUR_NETID\""
   ]
  },
  {
   "cell_type": "code",
   "execution_count": null,
   "id": "3d3c9105",
   "metadata": {},
   "outputs": [],
   "source": [
    "# set directories\n",
    "work_dir = \"/xdisk/bhurwitz/bh_class/\" + netid + \"/assignments/09_binning_quality\""
   ]
  },
  {
   "cell_type": "code",
   "execution_count": null,
   "id": "5f65dacd",
   "metadata": {},
   "outputs": [],
   "source": [
    "# Go into the working directory\n",
    "%cd $work_dir"
   ]
  },
  {
   "cell_type": "markdown",
   "id": "aaaade60",
   "metadata": {},
   "source": [
    "### Check the 09 jobs are complete.\n",
    "\n",
    "First, we need to check that the 09 jobs have finished running. You will need to wait to run the check on the data until this is finished"
   ]
  },
  {
   "cell_type": "code",
   "execution_count": null,
   "id": "39aca9ea",
   "metadata": {},
   "outputs": [],
   "source": [
    "# Check to be sure run is finished\n",
    "# Do you see any jobs running that started with 09?\n",
    "!squeue --user=$netid"
   ]
  },
  {
   "cell_type": "markdown",
   "id": "8f659efe",
   "metadata": {},
   "source": [
    "## Step 1: Checking the Metagenome Assembled Genomes (MAGs)\n",
    "\n",
    "Using the next few commands, we will check to see how well we did getting the contigs into species-level bins. And how complete thos bins are..."
   ]
  },
  {
   "cell_type": "code",
   "execution_count": null,
   "id": "71b30070",
   "metadata": {},
   "outputs": [],
   "source": [
    "# did you get the final contigs files?\n",
    "# these are the contigs that are re-labeled based on the bins they are located in.\n",
    "!ls -l out_concoct/*.all_contigs.fna"
   ]
  },
  {
   "cell_type": "markdown",
   "id": "69a24a6d",
   "metadata": {},
   "source": [
    "## Step 3: Assembly stats from Checkm2\n",
    "\n",
    "Let's check the assembly stats from Checkm2"
   ]
  },
  {
   "cell_type": "code",
   "execution_count": null,
   "id": "ef0a005f",
   "metadata": {},
   "outputs": [],
   "source": [
    "%cd $work_dir/out_megahit_checkm\n",
    "!cat */quality_report.tsv #cats all reports"
   ]
  },
  {
   "cell_type": "markdown",
   "id": "d07ad33d",
   "metadata": {},
   "source": [
    "## Final Step\n",
    "Copy your notebook to the current working directory"
   ]
  },
  {
   "cell_type": "code",
   "execution_count": null,
   "id": "a117637c",
   "metadata": {},
   "outputs": [],
   "source": [
    "!cp ~/be487-fall-2024/assignments/09_binning_quality/hw09_check.ipynb $work_dir"
   ]
  }
 ],
 "metadata": {
  "kernelspec": {
   "display_name": "Python 3 (ipykernel)",
   "language": "python",
   "name": "python3"
  },
  "language_info": {
   "codemirror_mode": {
    "name": "ipython",
    "version": 3
   },
   "file_extension": ".py",
   "mimetype": "text/x-python",
   "name": "python",
   "nbconvert_exporter": "python",
   "pygments_lexer": "ipython3",
   "version": "3.8.12"
  }
 },
 "nbformat": 4,
 "nbformat_minor": 5
}
