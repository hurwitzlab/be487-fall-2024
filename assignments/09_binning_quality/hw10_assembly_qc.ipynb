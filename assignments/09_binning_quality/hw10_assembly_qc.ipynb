{
 "cells": [
  {
   "cell_type": "markdown",
   "id": "239d2480",
   "metadata": {},
   "source": [
    "# Quality Check: Assemblies\n",
    "\n",
    "Now that we have assembled and binned all of the samples, using both megahit and metaspades, we are ready to check our our work and compare the assemblies. This notebook will work through two different quality report. We'll be using Quast and Checkm2 to compare and contrast our assemblies.\n",
    "\n",
    "Step 0: Checking to make sure you have your assemblies\n",
    "\n",
    "Step 1: Running Quast on the megahit and metaspades assemblies\n",
    "\n",
    "Step 2: Running CheckM on the megahit and metaspades assemblies"
   ]
  },
  {
   "cell_type": "markdown",
   "id": "2b3fa9c1",
   "metadata": {},
   "source": [
    "## Getting Started\n",
    "\n",
    "You will need to rerun this section each time you come back to this notebook to reset all directories and variables."
   ]
  },
  {
   "cell_type": "code",
   "execution_count": null,
   "id": "e9373313",
   "metadata": {},
   "outputs": [],
   "source": [
    "# set the variables for your netid and xfile\n",
    "netid = \"YOUR_NETID\"\n",
    "xfile = \"YOUR_XFILE\""
   ]
  },
  {
   "cell_type": "code",
   "execution_count": null,
   "id": "3d3c9105",
   "metadata": {},
   "outputs": [],
   "source": [
    "# set directories\n",
    "xfile_dir = \"/xdisk/bhurwitz/bh_class/\" + netid + \"/assignments/05_getting_data\"\n",
    "work_dir = \"/xdisk/bhurwitz/bh_class/\" + netid + \"/assignments/10_assembly_qc\"\n",
    "megahit_dir = \"/xdisk/bhurwitz/bh_class/\" + netid + \"/assignments/09_metag_binning/out_megahit\"\n",
    "metaspades_dir = \"/xdisk/bhurwitz/bh_class/\" + netid + \"/assignments/09_metag_binning/out_spades\""
   ]
  },
  {
   "cell_type": "code",
   "execution_count": null,
   "id": "5f65dacd",
   "metadata": {},
   "outputs": [],
   "source": [
    "# Go into the working directory\n",
    "%cd $work_dir"
   ]
  },
  {
   "cell_type": "markdown",
   "id": "68869704",
   "metadata": {},
   "source": [
    "## Creating a config file\n",
    "The scripts below executes code that requires certain variables to be set. So we don't need to edit the code in the script, we are going to use a config file that defines all of these variables for us. Then when we want to use these variables in the script, we will \"source\" the config file to set the variables."
   ]
  },
  {
   "cell_type": "code",
   "execution_count": null,
   "id": "958665ed",
   "metadata": {},
   "outputs": [],
   "source": [
    "# create a config file with all of the variables you need\n",
    "# notice that we are using the reads post-trimming, and post-human removal\n",
    "!echo \"export NETID=$netid\" > config.sh\n",
    "!echo \"export XFILE=$xfile\" >> config.sh\n",
    "!echo \"export WORK_DIR=$work_dir\" >> config.sh\n",
    "!echo \"export XFILE_DIR=$xfile_dir\" >> config.sh\n",
    "!echo \"export MEGAHIT_DIR=$megahit_dir\" >> config.sh\n",
    "!echo \"export METASPADES_DIR=$metaspades_dir\" >> config.sh"
   ]
  },
  {
   "cell_type": "code",
   "execution_count": null,
   "id": "d6633e4e",
   "metadata": {},
   "outputs": [],
   "source": [
    "# check the config file to be sure it is correct\n",
    "# Is your netid and xfile correct? Do you have the right directories?\n",
    "!cat config.sh"
   ]
  },
  {
   "cell_type": "markdown",
   "id": "8f659efe",
   "metadata": {},
   "source": [
    "## Step 0:  Checking the Metagenome Assembled Genomes (MAGs)\n",
    "\n",
    "All of your metagenomes should have a combined contigs file from the previous step (09_metag_binning), where all of the contigs in the file are named based on the bins that they were put into. If you see that these files are missing, this is a clue that you need to go back and check the last step. Let's see if we have the right files for megahit and metaspades."
   ]
  },
  {
   "cell_type": "code",
   "execution_count": null,
   "id": "9560d189",
   "metadata": {},
   "outputs": [],
   "source": [
    "# Check that we have megahit contigs after the binning step\n",
    "import os\n",
    "xlist = xfile_dir + '/' + xfile\n",
    "lines = open(xlist).read().splitlines()\n",
    "for file in lines:\n",
    "    command = 'ls ' + megahit_dir + '/' + file + '.all_contigs.fna'\n",
    "    os.system(command)"
   ]
  },
  {
   "cell_type": "code",
   "execution_count": null,
   "id": "d234d9a0",
   "metadata": {},
   "outputs": [],
   "source": [
    "# Check that we have metaspades contigs after the binning step\n",
    "import os\n",
    "xlist = xfile_dir + '/' + xfile\n",
    "lines = open(xlist).read().splitlines()\n",
    "for file in lines:\n",
    "    command = 'ls ' + metaspades_dir + '/' + file + '.all_contigs.fna'\n",
    "    os.system(command)"
   ]
  },
  {
   "cell_type": "markdown",
   "id": "5afd05f0",
   "metadata": {},
   "source": [
    "Great! Looks like we have all of our contig files for megahit and metaspades (or if not, then check the slurm logs to fix). "
   ]
  },
  {
   "cell_type": "markdown",
   "id": "4903cdc1",
   "metadata": {},
   "source": [
    "## Step 1: Quast\n",
    "\n",
    "How good are our assemblies? We can check the quality by running tools that look at the contigs produced by our assembly algorithms. \n",
    "\n",
    "Let's see what the quality of our assemblies for both megahit and metaspades, using a bioinformatics tool called quast. We can run this tool on multiple assemblies at once."
   ]
  },
  {
   "cell_type": "code",
   "execution_count": null,
   "id": "e1df048d",
   "metadata": {},
   "outputs": [],
   "source": [
    "# Create a script to run Quast on each of our contig files\n",
    "# A few important points:\n",
    "# 1. We are using the variables from the config file via the `source ./config.sh` command in the script.\n",
    "# 2. Quast runs on the contigs files in the MEGAHIT_DIR and METASPADES_DIR\n",
    "# 3. The results will be written into our $WORK_DIR\n",
    "my_code = '''#!/bin/bash\n",
    "#SBATCH --ntasks=1\n",
    "#SBATCH --nodes=1             \n",
    "#SBATCH --time=12:00:00   \n",
    "#SBATCH --partition=standard\n",
    "#SBATCH --account=bhurwitz\n",
    "#SBATCH --array=0-4                         \n",
    "#SBATCH --output=Job-quast-%a.out\n",
    "#SBATCH --cpus-per-task=24\n",
    "#SBATCH --mem-per-cpu=5G                                    \n",
    "\n",
    "pwd; hostname; date\n",
    "\n",
    "source ./config.sh\n",
    "names=($(cat $XFILE_DIR/$XFILE))\n",
    "\n",
    "SAMPLE_ID=${names[${SLURM_ARRAY_TASK_ID}]}\n",
    "\n",
    "### create output directories for the reports\n",
    "### note that we are going to compare both assemblies at once\n",
    "OUTDIR=${WORK_DIR}/out_quast\n",
    "\n",
    "### create the outdir if it does not exist\n",
    "if [[ ! -d \"$OUTDIR\" ]]; then\n",
    "  echo \"$OUTDIR does not exist. Directory created\"\n",
    "  mkdir $OUTDIR\n",
    "fi\n",
    "\n",
    "### Contigs to use post-binning\n",
    "MEGAHIT_CONTIGS=${MEGAHIT_DIR}/${SAMPLE_ID}.all_contigs.fna\n",
    "METASPADES_CONTIGS=${METASPADES_DIR}/${SAMPLE_ID}.all_contigs.fna\n",
    "\n",
    "### Run Quast\n",
    "apptainer run /contrib/singularity/shared/bhurwitz/quast:5.2.0--py39pl5321h4e691d4_3.sif quast -t 24 \\\n",
    "        -o $OUTDIR/${SAMPLE_ID} \\\n",
    "        -m 500 \\\n",
    "        $MEGAHIT_CONTIGS $METASPADES_CONTIGS\n",
    "'''\n",
    "\n",
    "with open('quast_parallel.sh', mode='w') as file:\n",
    "    file.write(my_code)"
   ]
  },
  {
   "cell_type": "code",
   "execution_count": null,
   "id": "f3814e96",
   "metadata": {},
   "outputs": [],
   "source": [
    "# Let's run the sbatch script, this should take 10-15 minutes to run once the job starts\n",
    "# You can go on to Step 2 in the meantime.\n",
    "# The quality reports for quast and checkm can run at the same time\n",
    "!sbatch ./quast_parallel.sh"
   ]
  },
  {
   "cell_type": "code",
   "execution_count": null,
   "id": "2474106e",
   "metadata": {},
   "outputs": [],
   "source": [
    "# Welcome back, let's see if the job is still running\n",
    "!squeue --user=$netid"
   ]
  },
  {
   "cell_type": "markdown",
   "id": "b3e7fdc0",
   "metadata": {},
   "source": [
    "#### Let's check out the assembly stats from QUAST\n",
    "\n",
    "You should see assembly statistics for both the megahit and metaspades assembly. Do the assemblies look similar?"
   ]
  },
  {
   "cell_type": "code",
   "execution_count": null,
   "id": "1fae7092",
   "metadata": {},
   "outputs": [],
   "source": [
    "%cd $work_dir/out_quast\n",
    "!cat */report.txt #cats all reports"
   ]
  },
  {
   "cell_type": "markdown",
   "id": "aa743720",
   "metadata": {},
   "source": [
    "## Step 2: Checkm2\n",
    "\n",
    "Checkm2 is another tool that allows you to produce a quality report on the assembled contigs.\n",
    "\n",
    "The documentation can be found [here](https://github.com/chklovski/CheckM2)."
   ]
  },
  {
   "cell_type": "markdown",
   "id": "76539c71",
   "metadata": {},
   "source": [
    "### Checkm2 database file\n",
    "\n",
    "This tool requires a database file to run. More information on downloading the database can be found in the documentation. The current database has been downloaded and saved in the following location:\n",
    "\n",
    "/groups/bhurwitz/databases/checkm2_database/uniref100.KO.1.dmnd"
   ]
  },
  {
   "cell_type": "code",
   "execution_count": null,
   "id": "2532f289",
   "metadata": {},
   "outputs": [],
   "source": [
    "# Create a script to run on each of bins\n",
    "# A few important points:\n",
    "# 1. We are using the variables from the config file via the `source ./config.sh` command in the script.\n",
    "# 2. CheckM runs on the bin files in the MEGAHIT_DIR and METASPADES_DIR\n",
    "# 3. The results will be written into our $WORK_DIR\n",
    "my_code = '''#!/bin/bash\n",
    "#SBATCH --ntasks=1\n",
    "#SBATCH --nodes=1             \n",
    "#SBATCH --time=24:00:00   \n",
    "#SBATCH --partition=standard\n",
    "#SBATCH --account=bhurwitz\n",
    "#SBATCH --array=0-4                         \n",
    "#SBATCH --output=Job-checkm-%a.out\n",
    "#SBATCH --cpus-per-task=24\n",
    "#SBATCH --mem-per-cpu=5G                                    \n",
    "\n",
    "pwd; hostname; date\n",
    "\n",
    "source ./config.sh\n",
    "names=($(cat $XFILE_DIR/$XFILE))\n",
    "\n",
    "SAMPLE_ID=${names[${SLURM_ARRAY_TASK_ID}]}\n",
    "\n",
    "### create output directories for each of the reports\n",
    "MEGAHIT_OUTDIR=${WORK_DIR}/out_megahit_checkm\n",
    "METASPADES_OUTDIR=${WORK_DIR}/out_spades_checkm\n",
    "\n",
    "### create the outdirs if they do not exist\n",
    "if [[ ! -d \"$MEGAHIT_OUTDIR\" ]]; then\n",
    "  echo \"$MEGAHIT_OUTDIR does not exist. Directory created\"\n",
    "  mkdir $MEGAHIT_OUTDIR\n",
    "fi\n",
    "\n",
    "if [[ ! -d \"$METASPADES_OUTDIR\" ]]; then\n",
    "  echo \"$METASPADES_OUTDIR does not exist. Directory created\"\n",
    "  mkdir $METASPADES_OUTDIR\n",
    "fi\n",
    "\n",
    "MEGAHIT_CONTIGS=\"${MEGAHIT_DIR}/${SAMPLE_ID}/out_concoct/fasta_bins\"\n",
    "METASPADES_CONTIGS=\"${METASPADES_DIR}/${SAMPLE_ID}/out_concoct/fasta_bins\"\n",
    "\n",
    "### Run Megahit\n",
    "apptainer run /contrib/singularity/shared/bhurwitz/checkm2\\:1.0.1--pyh7cba7a3_0.sif checkm2 \\\n",
    "        predict --threads 24 \\\n",
    "        --input $MEGAHIT_CONTIGS \\\n",
    "        -x fa \\\n",
    "        --output-directory $MEGAHIT_OUTDIR/${SAMPLE_ID} \\\n",
    "        --database_path /groups/bhurwitz/databases/checkm2_database/uniref100.KO.1.dmnd\n",
    "        \n",
    "### Run Metaspades\n",
    "apptainer run /contrib/singularity/shared/bhurwitz/checkm2\\:1.0.1--pyh7cba7a3_0.sif checkm2 \\\n",
    "        predict --threads 24 \\\n",
    "        --input $METASPADES_CONTIGS \\\n",
    "        -x fa \\\n",
    "        --output-directory $METASPADES_OUTDIR/${SAMPLE_ID} \\\n",
    "        --database_path /groups/bhurwitz/databases/checkm2_database/uniref100.KO.1.dmnd    \n",
    "'''\n",
    "\n",
    "with open('checkm_parallel.sh', mode='w') as file:\n",
    "    file.write(my_code)"
   ]
  },
  {
   "cell_type": "code",
   "execution_count": null,
   "id": "b24186e2",
   "metadata": {},
   "outputs": [],
   "source": [
    "# Let's run the sbatch script, this should take ~1 hour to run\n",
    "!sbatch ./checkm_parallel.sh"
   ]
  },
  {
   "cell_type": "code",
   "execution_count": null,
   "id": "7f70dfab",
   "metadata": {},
   "outputs": [],
   "source": [
    "# Welcome back, let's see if the job is still running\n",
    "!squeue --user=$netid"
   ]
  },
  {
   "cell_type": "markdown",
   "id": "69a24a6d",
   "metadata": {},
   "source": [
    "#### Let's check out the assembly stats from Checkm2"
   ]
  },
  {
   "cell_type": "code",
   "execution_count": null,
   "id": "ef0a005f",
   "metadata": {},
   "outputs": [],
   "source": [
    "%cd $work_dir/out_megahit_checkm\n",
    "!cat */quality_report.tsv #cats all reports"
   ]
  },
  {
   "cell_type": "code",
   "execution_count": null,
   "id": "cec3ed02",
   "metadata": {},
   "outputs": [],
   "source": [
    "%cd $work_dir/out_metaspades_checkm\n",
    "!cat */quality_report.tsv #cats all reports"
   ]
  },
  {
   "cell_type": "markdown",
   "id": "d07ad33d",
   "metadata": {},
   "source": [
    "## Final Step\n",
    "Copy your notebook to the current working directory"
   ]
  },
  {
   "cell_type": "code",
   "execution_count": null,
   "id": "a117637c",
   "metadata": {},
   "outputs": [],
   "source": [
    "cp ~/10_assembly_qc.ipynb $work_dir"
   ]
  }
 ],
 "metadata": {
  "kernelspec": {
   "display_name": "Python 3 (ipykernel)",
   "language": "python",
   "name": "python3"
  },
  "language_info": {
   "codemirror_mode": {
    "name": "ipython",
    "version": 3
   },
   "file_extension": ".py",
   "mimetype": "text/x-python",
   "name": "python",
   "nbconvert_exporter": "python",
   "pygments_lexer": "ipython3",
   "version": "3.8.12"
  }
 },
 "nbformat": 4,
 "nbformat_minor": 5
}
