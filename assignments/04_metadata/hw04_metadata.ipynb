{
 "cells": [
  {
   "cell_type": "markdown",
   "metadata": {},
   "source": [
    "# Exploring the Metadata in our Project\n",
    "\n",
    "### Questions:\n",
    "- What metadata can we get from the authors?\n",
    "- What metadata can we get from the Sequence Read Archive (SRA)?\n",
    "- Are there duplications between these datasets?\n",
    "- Which metadata do we need for further analysis?\n",
    "\n",
    "### Objectives:\n",
    "- Remove null and NA values from the metadata\n",
    "- Construct a metadata table for further analysis that uses data from the SRA and authors.\n",
    "\n",
    "### Keypoints:\n",
    "- Cleaning metadata and ensuring the data are consistent for grouping samples is important.\n"
   ]
  },
  {
   "cell_type": "markdown",
   "metadata": {},
   "source": [
    "### Getting Started\n",
    "\n",
    "Before we get started you will need to set your netid and then go into the directory for this assignment under bh_class."
   ]
  },
  {
   "cell_type": "code",
   "execution_count": null,
   "metadata": {},
   "outputs": [],
   "source": [
    "# Change \"MY_NETID\" to your netid below, and run this cell\n",
    "# Change project_num to your project number\n",
    "netid = \"bhurwitz\"\n",
    "project_num = 3\n",
    "project = \"project\" + str(project_num)"
   ]
  },
  {
   "cell_type": "code",
   "execution_count": null,
   "metadata": {},
   "outputs": [],
   "source": [
    "# Set the working directory and change into this directory\n",
    "work_dir = \"/xdisk/bhurwitz/bh_class/\" + netid + \"/assignments/04_metadata\"\n",
    "%cd $work_dir"
   ]
  },
  {
   "cell_type": "markdown",
   "metadata": {},
   "source": [
    "## Section 1 Creating metadata files\n",
    "\n",
    "We are going to use [MicrobiomeAnalyst](https://www.microbiomeanalyst.ca/MicrobiomeAnalyst/docs/DataFormat.xhtml) to analyze the results of our metagenomic analyses. Before we get started on analyzing data, let's take a look at our project metadata and the requirements for formatting it.\n",
    "\n",
    "MicrobiomeAnalyst requires the following format:\n",
    "\n",
    "1. Tab delimited (.txt) format is required for metadata files. \n",
    "\n",
    "2. For metadata, sample names are present in columns and metadata types (e.g. depth, temperature) in rows. \n",
    "\n",
    "3. Data values should be discrete, qualitative labels (e.g. HIGH, MED, LOW). \n",
    "\n",
    "4. Data values cannot not contain Empty cells or NA values. \n",
    "\n",
    "5. Metadata names or metadata labels cannot include tab, since these are used to delimit/separate items.\n",
    "\n",
    "6. Group names should not include any punctuation marks such as spaces, dashes or slashes. If you must, use an underscore - i.e. clinical-group should be clinical_group.\n",
    "\n",
    "File format: Sample names/IDs are in first column beginning with \"#NAME\" in first row.\n",
    "\n",
    "Example\n",
    "#NAME       SampleType\n",
    "Sample1     skin        \n",
    "Sample2     gut\n",
    "Sample3     skin                                                                                               \n",
    "Sample4     gut                                               \n",
    "Sample5     gut\n",
    "Sample6     gut\n",
    "Sample7     skin\n",
    "Sample8     skin"
   ]
  },
  {
   "cell_type": "markdown",
   "metadata": {},
   "source": [
    "## Section 1 Exploring the data from the authors \n",
    "\n",
    "First we will start out by exploring the data from the authors (sample_meta.txt). These are the metadata the authors provided about the samples in the supplemental data in the journal article."
   ]
  },
  {
   "cell_type": "code",
   "execution_count": null,
   "metadata": {},
   "outputs": [],
   "source": [
    "# What are the column names in our sample_meta.txt file?\n",
    "# Let's create a list of the column names \n",
    "# First, we will get the header row with `head -1`\n",
    "# Second, we will use translate \"tr\" to convert tabs to new lines to make it more readable\n",
    "# Third, we will use \"cat -n\" to add column numbers we can refer back to.\n",
    "\n",
    "!head -1 sample_meta.txt | tr '\\t' '\\n' | cat -n"
   ]
  },
  {
   "cell_type": "markdown",
   "metadata": {},
   "source": [
    "### Which columns do we need?\n",
    "\n",
    "Let's explore these metadata to see what data we need. We will go through the columns bit by bit, to decide what to keep and what to toss."
   ]
  },
  {
   "cell_type": "code",
   "execution_count": null,
   "metadata": {},
   "outputs": [],
   "source": [
    "# Let's check out our metadata using pandas\n",
    "# First we need to import a few python modules\n",
    "import sys\n",
    "from pathlib import Path\n",
    "import pandas"
   ]
  },
  {
   "cell_type": "code",
   "execution_count": null,
   "metadata": {},
   "outputs": [],
   "source": [
    "# Next let's set the Metadata path\n",
    "METADATA_PATH = Path(work_dir)"
   ]
  },
  {
   "cell_type": "code",
   "execution_count": null,
   "metadata": {},
   "outputs": [],
   "source": [
    "# Let's convert our sample metadata file into a dataframe in pandas to explore it.\n",
    "# We are going to look at the first 9 columns that fit in the frame of the notebook.\n",
    "\n",
    "sample_meta = pandas.read_csv(METADATA_PATH / \"sample_meta.txt\", sep='\\t')\n",
    "sample_meta.iloc[:, :9] "
   ]
  },
  {
   "cell_type": "markdown",
   "metadata": {},
   "source": [
    "#### What do you see in the first 9 columns in the sample metadata file?\n",
    "\n",
    "1. Cohort (delete): is repeated and doesn't provide any useful informtion. So, we are going to discard this column.\n",
    "\n",
    "2. ENA_BioProject (delete): is repeated and doesn't provide any useful informtion. So, we are going to discard this column.\n",
    "\n",
    "3. ENA_SampleAlias (keep): provides a useful unique identifier that identifies the sample by baby/mom id and timepoint. That one is a keeper.\n",
    "\n",
    "4. ENA_Accession (delete): gives us a unique accession number for the sample, but doesn't group the data in any useful category. So, we don't need this.\n",
    "\n",
    "5. age(weeks) (keep): gives us information about the week the baby sample came from, but if you have a mother sample this field contains a \"NA\". Oh no, we aren't allowed to use that. We need to change this to 'm' for mother, so we have a discrete value. \n",
    "\n",
    "6. Individual_type (delete): tells us if the sample is from a Baby, Mother, or Father. You might have all Baby samples, and therefore this column is not useful and can be discarded. \n",
    "\n",
    "7. ENA_IndividualID (keep) - This is an identifier for the individual being sampled.\n",
    "\n",
    "8. Family_nb (keep) - This is the family identifier so we can group all of the baby / mother samples      \n",
    "\n",
    "9. infant_DeliveryMode (keep) - This is the delivery mode.\n"
   ]
  },
  {
   "cell_type": "code",
   "execution_count": null,
   "metadata": {},
   "outputs": [],
   "source": [
    "# We are going to look at the next 10-14 columns in the sample metadat file\n",
    "\n",
    "sample_meta = pandas.read_csv(METADATA_PATH / \"sample_meta.txt\", sep='\\t')\n",
    "sample_meta.iloc[:, 9:14] "
   ]
  },
  {
   "cell_type": "markdown",
   "metadata": {},
   "source": [
    "#### What do you see in columns 10-14 in the sample metadata file?\n",
    "\n",
    "10. intrapartum_ATB (keep) - This field tells us if intrapartum antibotics were given. Let's keep this field.\n",
    "\n",
    "11. Sampling_before_birth (delete) - This field tells us if the mother's sample was collected before/after birth. We aren't going to use these data. So, we will delete this.\n",
    "\n",
    "12. Had_antibiotic (delete) - This field tells us if the mother had antibiotics during pregnancy. We are going to ignore these data given that there is a lot of variability, and many teams only have baby samples.\n",
    "13. infant_HadProbiotics (delete) - This column notes if the infant was given probiotics. This is outside our scope.\n",
    "14. infant_HadMedication (delete) - This column notes if the infant was given medication. This is outside our scope.\n"
   ]
  },
  {
   "cell_type": "code",
   "execution_count": null,
   "metadata": {},
   "outputs": [],
   "source": [
    "# We are going to look at columns 15-20 in the sample metadata file.\n",
    "\n",
    "sample_meta = pandas.read_csv(METADATA_PATH / \"sample_meta.txt\", sep='\\t')\n",
    "sample_meta.iloc[:, 14:20] "
   ]
  },
  {
   "cell_type": "markdown",
   "metadata": {},
   "source": [
    "#### What about columns 13-16 in the sample metadata file? \n",
    "15. infant_TempRegMedication_Regular (delete) - This column notes if the infant was given medication to control temperture. This is also outside out scope.\n",
    "16. infant_TempRegMedication_Temporary (delete) - This column notes if the infant was given medication to control temperture temporarily. This is also outside out scope.\n",
    "17. infant_VaginalType (delete) - This tells us if the birth was spontaneous or induced if vaginal. This is interesting, but we don't have enough samples to dig into this.\n",
    "\n",
    "18. infant_CSectionType (delete) - This tells us if the C section was planned or emergency. This is interesting, but we don't have enough samples to dig into this.\n",
    "\n",
    "19. infant_Months_Breastfed (delete) - This tells us how many months the babies were breastfed. I selected for samples where the babies we breastfed for >9 months, so we are going to ignore this variable.\n",
    "\n",
    "20. infant_Months_Exclusive (delete) - This tell us how many months the babies were exclusively breastfed. Again, this is interesting but out of scope."
   ]
  },
  {
   "cell_type": "code",
   "execution_count": null,
   "metadata": {},
   "outputs": [],
   "source": [
    "# Now that we decided which columns we want, let's go get just those columns and put them in a file.\n",
    "\n",
    "!cut -f3,5,7,8,9,10 sample_meta.txt > new_sample_meta.txt"
   ]
  },
  {
   "cell_type": "code",
   "execution_count": null,
   "metadata": {},
   "outputs": [],
   "source": [
    "# Let's create a pandas dataframe with just the columns we want.\n",
    "# Notice that I will also create an index on the data frame, this way we can connect these data to \n",
    "# other metadata in the SRA metadata file (coming next!).\n",
    "\n",
    "new_sample_meta = pandas.read_csv(METADATA_PATH / \"new_sample_meta.txt\", sep='\\t', index_col='ENA_SampleAlias')\n",
    "new_sample_meta"
   ]
  },
  {
   "cell_type": "code",
   "execution_count": null,
   "metadata": {},
   "outputs": [],
   "source": [
    "# Remember that we can't have null values \"NaN\". If you have \"mother\" samples you will need to run the code below\n",
    "# Replace null values with '-1.0' (this will denote that these are from mothers)\n",
    "new_sample_meta.fillna('-1.0', inplace=True)\n"
   ]
  },
  {
   "cell_type": "code",
   "execution_count": null,
   "metadata": {},
   "outputs": [],
   "source": [
    "# let's check to see we don't have null values now\n",
    "new_sample_meta"
   ]
  },
  {
   "cell_type": "markdown",
   "metadata": {},
   "source": [
    "#### Getting additional metadata from the Sequence Read Archive\n",
    "\n",
    "The authors did a nice job of giving us metadata in the supplemental data for the article. But, they also submitted metadata to the Sequence Read Archive. Let's check to see if any of these metadata are important."
   ]
  },
  {
   "cell_type": "code",
   "execution_count": null,
   "metadata": {},
   "outputs": [],
   "source": [
    "# What are the column names in our accession_meta.txt file?\n",
    "!head -1 accession_meta.txt | tr '\\t' '\\n' | cat -n"
   ]
  },
  {
   "cell_type": "code",
   "execution_count": null,
   "metadata": {},
   "outputs": [],
   "source": [
    "# Let's look at the data in the accession metadata from the SRA\n",
    "# Notice that we are using \"transpose\" to switch rows and columns to see the complete dataset\n",
    "accession_meta = pandas.read_csv(METADATA_PATH / \"accession_meta.txt\", sep='\\t', index_col='Sample_Name')\n",
    "accession_meta.transpose()"
   ]
  },
  {
   "cell_type": "markdown",
   "metadata": {},
   "source": [
    "#### So what additional data do we need for the SRA metadata?\n",
    "\n",
    "Let's get a few more columns in the SRA data.\n",
    "\n",
    "Run (column 1): We need this id because it is the ID for the sequence data we are downloading from the SRA.\n",
    "Host_age (column 22): This tells us the age of the baby (in months) and the mother (in years).\n",
    "host_sex (column 24): Host sex\n",
    "Sample_name (column 41) We need this ID to connect (aka join) to the other metadata in sample_meta.\n"
   ]
  },
  {
   "cell_type": "code",
   "execution_count": null,
   "metadata": {},
   "outputs": [],
   "source": [
    "!cut -f1,22,24,41 accession_meta.txt > new_accession_meta.txt"
   ]
  },
  {
   "cell_type": "code",
   "execution_count": null,
   "metadata": {},
   "outputs": [],
   "source": [
    "# Let's look at the data in the accession metadata from the SRA\n",
    "# Notice that we are using \"transpose\" to switch rows and columns to see the complete dataset\n",
    "new_accession_meta = pandas.read_csv(METADATA_PATH / \"new_accession_meta.txt\", sep='\\t', index_col='Sample_Name')\n",
    "new_accession_meta"
   ]
  },
  {
   "cell_type": "code",
   "execution_count": null,
   "metadata": {},
   "outputs": [],
   "source": [
    "metadata_joined = new_accession_meta.join(new_sample_meta)\n",
    "metadata_joined.set_index('Run', inplace=True)"
   ]
  },
  {
   "cell_type": "code",
   "execution_count": null,
   "metadata": {},
   "outputs": [],
   "source": [
    "metadata_joined"
   ]
  },
  {
   "cell_type": "code",
   "execution_count": null,
   "metadata": {},
   "outputs": [],
   "source": [
    "# Group by the 'Category' column\n",
    "family_ids = metadata_joined.groupby(\"Family_nb\")\n",
    "\n",
    "# Iterate over the groups and print them\n",
    "i=0\n",
    "for name, group in family_ids:\n",
    "    print(f\"Family ID: {name}\")\n",
    "    i = i +1\n",
    "print(f\"Family Count = {i}\")"
   ]
  },
  {
   "cell_type": "code",
   "execution_count": null,
   "metadata": {},
   "outputs": [],
   "source": [
    "# Group by the 'infant_DeliveryMode column\n",
    "result = metadata_joined.groupby(\"infant_DeliveryMode\").size()\n",
    "print(result)"
   ]
  },
  {
   "cell_type": "code",
   "execution_count": null,
   "metadata": {},
   "outputs": [],
   "source": [
    "# Group by the 'age(weeks)' column\n",
    "result = metadata_joined.groupby(\"age(weeks)\").size()\n",
    "print(result)"
   ]
  },
  {
   "cell_type": "code",
   "execution_count": null,
   "metadata": {},
   "outputs": [],
   "source": [
    "# Group by the 'intrapartum_ATB' column\n",
    "result = metadata_joined.groupby(\"intrapartum_ATB\").size()\n",
    "print(result)"
   ]
  },
  {
   "cell_type": "code",
   "execution_count": null,
   "metadata": {},
   "outputs": [],
   "source": [
    "metadata_joined.to_csv('all_metadata.txt', sep='\\t', index=True)"
   ]
  },
  {
   "cell_type": "code",
   "execution_count": null,
   "metadata": {},
   "outputs": [],
   "source": [
    "!head all_metadata.txt"
   ]
  },
  {
   "cell_type": "code",
   "execution_count": null,
   "metadata": {},
   "outputs": [],
   "source": [
    "!cp ~/be487-fall-2024/assignments/04_metadata/hw04_metadata.ipynb /xdisk/bhurwitz/bh_class/$netid/assignments/04_metadata/hw04_metedata.ipynb"
   ]
  }
 ],
 "metadata": {
  "kernelspec": {
   "display_name": "Python 3 (ipykernel)",
   "language": "python",
   "name": "python3"
  },
  "language_info": {
   "codemirror_mode": {
    "name": "ipython",
    "version": 3
   },
   "file_extension": ".py",
   "mimetype": "text/x-python",
   "name": "python",
   "nbconvert_exporter": "python",
   "pygments_lexer": "ipython3",
   "version": "3.8.12"
  },
  "vscode": {
   "interpreter": {
    "hash": "df955ce39d0f31d56d4bb2fe0a613e5326ba60723fd33d8303a3aede8f65715c"
   }
  }
 },
 "nbformat": 4,
 "nbformat_minor": 2
}
