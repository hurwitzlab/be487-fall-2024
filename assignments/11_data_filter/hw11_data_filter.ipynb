{
 "cells": [
  {
   "cell_type": "markdown",
   "id": "cb0eb65e",
   "metadata": {},
   "source": [
    "# Data Filtering\n",
    "\n",
    "This notebook will go through the process to create the files we need for Microbiome Analyst. Note that from here on out, we will work with the complete dataset for your project composed of 56 samples from the class. \n",
    "\n",
    "-----------\n",
    "\n",
    "Sections:\n",
    "\n",
    "1. Create biom files from Kraken/Braken results for your project.\n",
    "2. Upload these files to Microbiome Analyst and filter the datasets.\n",
    "-----------\n"
   ]
  },
  {
   "cell_type": "markdown",
   "id": "07ebed36",
   "metadata": {},
   "source": [
    "## Getting Started\n",
    "\n",
    "You will need to rerun this section each time you come back to this notebook to reset all directories and variables."
   ]
  },
  {
   "cell_type": "code",
   "execution_count": null,
   "id": "e7a46521",
   "metadata": {},
   "outputs": [],
   "source": [
    "# set the variables for your netid\n",
    "netid = \"YOUR_NETID\""
   ]
  },
  {
   "cell_type": "code",
   "execution_count": null,
   "id": "75d388ce",
   "metadata": {},
   "outputs": [],
   "source": [
    "# Go into the working directory\n",
    "work_dir = \"/xdisk/bhurwitz/bh_class/\" + netid + \"/assignments/11_data_filter\"\n",
    "%cd $work_dir"
   ]
  },
  {
   "cell_type": "code",
   "execution_count": null,
   "id": "feffa89a",
   "metadata": {},
   "outputs": [],
   "source": [
    "# Notice that I have created a few files and directories for you with the complete project.\n",
    "!ls "
   ]
  },
  {
   "cell_type": "code",
   "execution_count": null,
   "id": "a71ddb2f",
   "metadata": {},
   "outputs": [],
   "source": [
    "# Set the variable for your project id. This is the project you chose at the start of class.\n",
    "# This should be something like project_id = \"project1\"\n",
    "project_id = \"YOUR_PROJECT\""
   ]
  },
  {
   "cell_type": "markdown",
   "id": "380dffed",
   "metadata": {},
   "source": [
    "## Creating a config file\n",
    "Let's create a config file with all of the variables we will need in the scripts below. Then when we want to use these variables in the script, we will \"source\" the config file to set the variables."
   ]
  },
  {
   "cell_type": "code",
   "execution_count": null,
   "id": "049cf341",
   "metadata": {},
   "outputs": [],
   "source": [
    "# create a config file with all of the variables you need\n",
    "!echo \"export NETID=$netid\" > config.sh\n",
    "!echo \"export PROJECT_ID=$project_id\" >> config.sh\n",
    "!echo \"export WORK_DIR=/xdisk/bhurwitz/bh_class/$netid/assignments/11_data_filter\" >> config.sh\n",
    "!echo \"export KRAKENBIOM=/contrib/singularity/shared/bhurwitz/kraken-biom:1.2.0--pyh5e36f6f_0.sif\" >> config.sh"
   ]
  },
  {
   "cell_type": "markdown",
   "id": "bfeaabfe",
   "metadata": {},
   "source": [
    "## Step 1: Creating biom files for kraken results files\n",
    "\n",
    "In this step, we will convert kraken results files into biom files that we can use these with the Microbiome Analyst. Note that we will also be adding in metadata for your samples from the 04_metadata homework.\n"
   ]
  },
  {
   "cell_type": "code",
   "execution_count": null,
   "id": "df7e3021",
   "metadata": {},
   "outputs": [],
   "source": [
    "# Create a script to create biom files from Kraken/bracken output\n",
    "my_code = '''#!/bin/bash\n",
    "#SBATCH --ntasks=1\n",
    "#SBATCH --nodes=1             \n",
    "#SBATCH --time=01:00:00   \n",
    "#SBATCH --partition=standard\n",
    "#SBATCH --account=bhurwitz                       \n",
    "#SBATCH --output=11A-biom.out\n",
    "#SBATCH --cpus-per-task=1\n",
    "#SBATCH --mem-per-cpu=1G  \n",
    "\n",
    "pwd; hostname; date\n",
    "\n",
    "source $SLURM_SUBMIT_DIR/config.sh\n",
    "\n",
    "cd ${WORK_DIR}\n",
    "REPORT_DIR=${PROJECT_ID}_reports\n",
    "METADATA=${PROJECT_ID}_metadata.txt\n",
    "\n",
    "apptainer run ${KRAKENBIOM} kraken-biom \\\n",
    "-k $REPORT_DIR \\\n",
    "--fmt json \\\n",
    "-m $METADATA \\\n",
    "-o ${WORK_DIR}/${PROJECT_ID}.biom\n",
    "\n",
    "echo \"Finished `date`\"\n",
    "\n",
    "'''\n",
    "\n",
    "with open('11A_kraken_biom.sh', mode='w') as file:\n",
    "    file.write(my_code)"
   ]
  },
  {
   "cell_type": "code",
   "execution_count": null,
   "id": "fe884278",
   "metadata": {},
   "outputs": [],
   "source": [
    "# Let's run sbatch to run kraken-biom and create the biom file\n",
    "!sbatch 11A_kraken_biom.sh"
   ]
  },
  {
   "cell_type": "code",
   "execution_count": null,
   "id": "3699608e",
   "metadata": {},
   "outputs": [],
   "source": [
    "# You can check if it is running using the squeue command\n",
    "# Check for all jobs under your netid\n",
    "# This should just take a minute to run once the job is picked up\n",
    "!squeue --user=$netid"
   ]
  },
  {
   "cell_type": "code",
   "execution_count": null,
   "id": "688ab204",
   "metadata": {},
   "outputs": [],
   "source": [
    "# check to make sure you have a .biom file\n",
    "!ls -l"
   ]
  },
  {
   "cell_type": "code",
   "execution_count": null,
   "id": "8f0d461c",
   "metadata": {},
   "outputs": [],
   "source": [
    "%%bash\n",
    "# copy this to your home directory to download\n",
    "cp *.biom ~/be487-fall-2024/assignments/11_data_filter/"
   ]
  },
  {
   "cell_type": "markdown",
   "id": "83501ab5",
   "metadata": {},
   "source": [
    "## Final Step\n",
    "Copy your notebook to the current working directory"
   ]
  },
  {
   "cell_type": "code",
   "execution_count": null,
   "id": "b5b6190d",
   "metadata": {},
   "outputs": [],
   "source": [
    "!cp ~/be487-fall-2024/assignments/11_data_filter/hw11_data_filter.ipynb $work_dir"
   ]
  }
 ],
 "metadata": {
  "kernelspec": {
   "display_name": "Python 3 (ipykernel)",
   "language": "python",
   "name": "python3"
  },
  "language_info": {
   "codemirror_mode": {
    "name": "ipython",
    "version": 3
   },
   "file_extension": ".py",
   "mimetype": "text/x-python",
   "name": "python",
   "nbconvert_exporter": "python",
   "pygments_lexer": "ipython3",
   "version": "3.8.12"
  }
 },
 "nbformat": 4,
 "nbformat_minor": 5
}
