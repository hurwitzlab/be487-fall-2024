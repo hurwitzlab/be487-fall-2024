{
 "cells": [
  {
   "cell_type": "markdown",
   "id": "5de7bac8",
   "metadata": {},
   "source": [
    "# HW06 Data Check: Quality Control and Trimming\n",
    "\n",
    "This notebook will walk you through checking your data, and gathering information you need for writing up your Deep Dive for this section of the learning module. \n",
    "\n",
    "This notebook will check the analyses you ran for read quality control and trimming. "
   ]
  },
  {
   "cell_type": "markdown",
   "id": "07ebed36",
   "metadata": {},
   "source": [
    "## Getting Started\n",
    "\n",
    "Before we get started you will need to set several variables that we will use throughout this notebook. "
   ]
  },
  {
   "cell_type": "code",
   "execution_count": null,
   "id": "e7a46521",
   "metadata": {},
   "outputs": [],
   "source": [
    "# set the variables for your netid and xfile\n",
    "# note that each person has 8 SRA accession ids in the xfile.\n",
    "netid = \"MY_NETID\"\n",
    "xfile = \"MY_XFILE\""
   ]
  },
  {
   "cell_type": "code",
   "execution_count": null,
   "id": "75d388ce",
   "metadata": {},
   "outputs": [],
   "source": [
    "# Go into the working directory\n",
    "work_dir = \"/xdisk/bhurwitz/bh_class/\" + netid + \"/assignments/06_qc_trimming\"\n",
    "%cd $work_dir"
   ]
  },
  {
   "cell_type": "code",
   "execution_count": null,
   "id": "16d436c3",
   "metadata": {},
   "outputs": [],
   "source": [
    "# Set the fastq directory. This is where we have our raw fastq files.\n",
    "fastq_dir = \"/xdisk/bhurwitz/bh_class/\" + netid + \"/assignments/05_getting_data\""
   ]
  },
  {
   "cell_type": "markdown",
   "id": "bfeaabfe",
   "metadata": {},
   "source": [
    "### Step 1: Checking your quality control steps\n",
    "\n",
    "You should have already ran the homework hw06_qc_trimming.ipynb. Now we need to check your files and make sure you are ready to move on to the next step in the project."
   ]
  },
  {
   "cell_type": "markdown",
   "id": "e0d601bb",
   "metadata": {},
   "source": [
    "# Step 1: Do you have the expected files?\n",
    "\n",
    "First, Let's check that you have the expected list of files showing both the log files and directories created in the analysis. "
   ]
  },
  {
   "cell_type": "code",
   "execution_count": null,
   "id": "d5727984",
   "metadata": {},
   "outputs": [],
   "source": [
    "# check the list of files\n",
    "!ls"
   ]
  },
  {
   "cell_type": "markdown",
   "id": "de85ef91",
   "metadata": {},
   "source": [
    "#### Do you see something like this?\n",
    "\n",
    "```\n",
    "06A_fastqc-0.out        06B_trim-2.out    06C_fastqc-6.out\n",
    "06A_fastqc-1.out        06B_trim-3.out    06C_fastqc-7.out\n",
    "06A_fastqc-2.out        06B_trim-4.out    06C_run_fastqc.sh\n",
    "06A_fastqc-3.out        06B_trim-5.out    06_launch_pipeline.sh\n",
    "06A_fastqc-4.out        06B_trim-6.out    after_qc_trimming\n",
    "06A_fastqc-5.out        06B_trim-7.out    before_qc_trimming\n",
    "06A_fastqc-6.out        06C_fastqc-0.out  config.sh\n",
    "06A_fastqc-7.out        06C_fastqc-1.out  trimmed_reads\n",
    "06A_run_fastqc.sh       06C_fastqc-2.out  TruSeq3-PE-2.fa\n",
    "06B_run_trimmomatic.sh  06C_fastqc-3.out  unpaired_reads\n",
    "06B_trim-0.out          06C_fastqc-4.out\n",
    "06B_trim-1.out          06C_fastqc-5.out\n",
    "```\n",
    "\n",
    "Great!"
   ]
  },
  {
   "cell_type": "markdown",
   "id": "4602889f",
   "metadata": {},
   "source": [
    "### Checking your output files\n",
    "\n",
    "Let's check and make sure trimmomatic did a good job. \n",
    "\n",
    "Here are a few things we will check:\n",
    "\n",
    "1. File size: Are the trimmed files smaller than the original raw files?\n",
    "2. Poor quality sequences: How many sequences are flagged as being poor quality?\n",
    "3. Sequence length: What is the range of sequence length?\n",
    "4. Read counts: Before and after trimming?\n",
    "5. Fastqc tests: Are we passing all of our tests with fastqc?\n",
    "5. What do the fastqc plots show us? Have we done a good job trimming our reads?\n"
   ]
  },
  {
   "cell_type": "code",
   "execution_count": null,
   "id": "ba0e1163",
   "metadata": {},
   "outputs": [],
   "source": [
    "# First, let's check the file sizes for our trimmed reads\n",
    "# Notice I am using the \"du\" or disk usage command.\n",
    "!echo \"trimmed:\"\n",
    "!du -h /xdisk/bhurwitz/bh_class/$netid/assignments/06_qc_trimming/trimmed_reads/*fastq.gz"
   ]
  },
  {
   "cell_type": "code",
   "execution_count": null,
   "id": "3a9c1e2b",
   "metadata": {},
   "outputs": [],
   "source": [
    "# Let's compare the file sizes above to the untrimmed raw reads that we started with.\n",
    "# The file sizes should be smaller for the trimmed reads (above\n",
    "# ...but not too small (meaning way too much got trimmed)\n",
    "!echo \"trimmed:\"\n",
    "!du -h /xdisk/bhurwitz/bh_class/$netid/assignments/05_getting_data/*fastq.gz"
   ]
  },
  {
   "cell_type": "markdown",
   "id": "22422c6c",
   "metadata": {},
   "source": [
    "#### Unzipping the report files\n",
    "\n",
    "Fastqc creates interactive html graphs we can look at (more on that in a minute), but also gives us data we can quickly look through using Unix. First we are going to check those text-based results... "
   ]
  },
  {
   "cell_type": "code",
   "execution_count": null,
   "id": "c4de7559",
   "metadata": {},
   "outputs": [],
   "source": [
    "# unzip the fastqc results (for the before and after trimming reports)\n",
    "# Note that the unzip command will produce a bunch of output!\n",
    "%cd $work_dir\n",
    "%cd before_qc_trimming\n",
    "!for file in `ls *zip`; do unzip $file; done\n",
    "%cd ..\n",
    "%cd after_qc_trimming\n",
    "!for file in `ls *zip`; do unzip $file; done"
   ]
  },
  {
   "cell_type": "markdown",
   "id": "b947066d",
   "metadata": {},
   "source": [
    "#### Compiling the results across files\n",
    "\n",
    "Next, we are going to get some stats for each of our files from the \"before\" and \"after\" fastqc_data.txt files.\n",
    "\n",
    "Each of these files has a report that looks like this:\n",
    "\n",
    "```\n",
    "Filename\tERR9752317_1.fastq.gz\n",
    "File type\tConventional base calls\n",
    "Encoding\tSanger / Illumina 1.9\n",
    "Total Sequences\t23721314\n",
    "Sequences flagged as poor quality\t0\n",
    "Sequence length\t2-151\n",
    "%GC\t47\n",
    "```\n",
    "\n",
    "We are going to combine these into a single file so we can see all the data together, and create a table for before and after."
   ]
  },
  {
   "cell_type": "code",
   "execution_count": null,
   "id": "f4c32d3d",
   "metadata": {},
   "outputs": [],
   "source": [
    "# First we will create the \"before\" table\n",
    "%cd $work_dir\n",
    "!egrep \"Filename\" ./before_qc_trimming/*/fastqc_data.txt | cut -f2 > b_filename.txt\n",
    "!egrep \"Total Sequences\" ./before_qc_trimming/*/fastqc_data.txt | cut -f2 > b_total_seqs.txt\n",
    "!egrep \"Sequences flagged as poor quality\" ./before_qc_trimming/*/fastqc_data.txt | cut -f2 > b_poor_quality.txt\n",
    "!egrep \"Sequence length\" ./before_qc_trimming/*/fastqc_data.txt | cut -f2 > b_seq_range.txt\n",
    "!egrep \"%GC\" ./before_qc_trimming/*/fastqc_data.txt | cut -f2 > b_gc_content.txt\n",
    "!paste b_filename.txt b_total_seqs.txt b_poor_quality.txt b_seq_range.txt b_gc_content.txt > before_all_report.txt\n",
    "!cat before_all_report.txt"
   ]
  },
  {
   "cell_type": "code",
   "execution_count": null,
   "id": "e63d1766",
   "metadata": {},
   "outputs": [],
   "source": [
    "# Next, we will create the after trimming table\n",
    "# what do you notice?\n",
    "%cd $work_dir\n",
    "!egrep \"Filename\" ./after_qc_trimming/*/fastqc_data.txt | cut -f2 > a_filename.txt\n",
    "!egrep \"Total Sequences\" ./after_qc_trimming/*/fastqc_data.txt | cut -f2 > a_total_seqs.txt\n",
    "!egrep \"Sequences flagged as poor quality\" ./after_qc_trimming/*/fastqc_data.txt | cut -f2 > a_poor_quality.txt\n",
    "!egrep \"Sequence length\" ./after_qc_trimming/*/fastqc_data.txt | cut -f2 > a_seq_range.txt\n",
    "!egrep \"%GC\" ./after_qc_trimming/*/fastqc_data.txt | cut -f2 > a_gc_content.txt\n",
    "!paste a_filename.txt a_total_seqs.txt a_poor_quality.txt a_seq_range.txt a_gc_content.txt > after_all_report.txt\n",
    "!cat after_all_report.txt"
   ]
  },
  {
   "cell_type": "markdown",
   "id": "693bd52c",
   "metadata": {},
   "source": [
    "#### Do our sequences pass now? \n",
    "\n",
    "Let's check to see if our sequences are passing the quality checks after trimming.\n",
    "\n",
    "You should see something like this for the \"before\" summary.txt file for one of your samples.\n",
    "\n",
    "```\n",
    "PASS\tBasic Statistics\tERR9752317_1.fastq.gz\n",
    "PASS\tPer base sequence quality\tERR9752317_1.fastq.gz\n",
    "PASS\tPer sequence quality scores\tERR9752317_1.fastq.gz\n",
    "FAIL\tPer base sequence content\tERR9752317_1.fastq.gz\n",
    "WARN\tPer sequence GC content\tERR9752317_1.fastq.gz\n",
    "PASS\tPer base N content\tERR9752317_1.fastq.gz\n",
    "WARN\tSequence Length Distribution\tERR9752317_1.fastq.gz\n",
    "FAIL\tSequence Duplication Levels\tERR9752317_1.fastq.gz\n",
    "PASS\tOverrepresented sequences\tERR9752317_1.fastq.gz\n",
    "PASS\tAdapter Content\tERR9752317_1.fastq.gz\n",
    "```\n",
    "\n",
    "We are going to look at all of the files together, before and after...\n",
    "\n",
    "Note that we are going to ignore \"FAIL\tSequence Duplication Levels\". Some of our sampples have low complexity because they are from an infant gut that is just developing with fewer microbes.\n"
   ]
  },
  {
   "cell_type": "code",
   "execution_count": null,
   "id": "cc0bc5fe",
   "metadata": {},
   "outputs": [],
   "source": [
    "# Notice that all of your files PASS Basic Statistics before and after QC\n",
    "# This is because the raw reads were already pretty good quality!\n",
    "!echo \"Before QC Basic Statistics Passing count:\"\n",
    "!egrep \"Basic Statistics\" ./before_qc_trimming/*/summary.txt | egrep \"PASS\" | wc -l\n",
    "!echo \"After QC Basic Statistics Passing count:\"\n",
    "!egrep \"Basic Statistics\" ./after_qc_trimming/*/summary.txt | egrep \"PASS\" | wc -l"
   ]
  },
  {
   "cell_type": "code",
   "execution_count": null,
   "id": "5fba001f",
   "metadata": {},
   "outputs": [],
   "source": [
    "# Next we are going to check a category that might be failing.\n",
    "# This is the \"Per base sequence content\" metric. We should get a graph that shows we have a pretty equal\n",
    "# distribution of A, T, G, and C in our sequence (aka random). If we don't see this, that means we have\n",
    "# adapter still...\n",
    "# Notice that for have more files Passing the \"Per base sequence content\" after trimming.\n",
    "# This is because we removed 10 base pairs at the beginning of the reads that were likely adapter.\n",
    "!echo \"Before Per base sequence content Passing count:\"\n",
    "!egrep \"Per base sequence content\" ./before_qc_trimming/*/summary.txt | egrep \"PASS\" | wc -l\n",
    "!echo \"After Per base sequence content Passing count:\"\n",
    "!egrep \"Per base sequence content\" ./after_qc_trimming/*/summary.txt | egrep \"PASS\" | wc -l"
   ]
  },
  {
   "cell_type": "markdown",
   "id": "326e6e22",
   "metadata": {},
   "source": [
    "#### Time to explore the fastqc graphs\n",
    "\n",
    "It is not nearly as fun to look at the QC results on the command line as it is using the interactive graphs that Fatsqc produces. Using that you learned in the exercises, go explore the graphs in your home directory.\n",
    "\n",
    "To do this, navigate to these folders in Jupyter and open the *.html files:\n",
    "\n",
    "Before:\n",
    "\n",
    "~/be487-fall-2024/assignments/06_qc_trimming/before_qc_trimming\n",
    "\n",
    "and\n",
    "\n",
    "After:\n",
    "\n",
    "~/be487-fall-2024/assignments/06_qc_trimming/before_qc_trimming\n",
    "\n",
    "And pick a few files to compare and contrast. Or, look at them all!\n",
    "\n",
    "One thing you might notice is that the data from the SRA are really not that bad! This is because the studies that are successful and publish thier data, have only published their sequencing runs that worked. But, there is a deep dark secret. This is not always the case! Sometimes a sequence run will fail and have very low-quality reads and that sequencing run is discarded, and the sample may be re-seqeunced. This can happen if there was a problem with the reagents and sequencing chemistry. \n",
    "\n",
    "Main point, always check the quality of your sequence data! Garbage in equals Garbage out! Go yell at the sequencing center if you get a poor run...you deserve better."
   ]
  },
  {
   "cell_type": "markdown",
   "id": "f825e1f7",
   "metadata": {},
   "source": [
    "### What data do you need to report on in your deep dive?\n",
    "\n",
    "1. What tool and version did you use to look at the quality of the fastq files?\n",
    "2. What tool, version, and options did you use to trim raw fastq files?\n",
    "3. Create a table showing the read counts before and after trimming.\n",
    "4. Look at a few of the before/after plots from fastqc, why did we use the trimming parameters we did? Describe the parameters used.\n",
    "\n",
    "* Note you are only going to report on 8 of the 56 total samples for your team project, in this report."
   ]
  },
  {
   "cell_type": "markdown",
   "id": "83501ab5",
   "metadata": {},
   "source": [
    "## Final Step\n",
    "Copy your notebook to the current working directory"
   ]
  },
  {
   "cell_type": "code",
   "execution_count": null,
   "id": "b5b6190d",
   "metadata": {},
   "outputs": [],
   "source": [
    "!cp ~/be487-fall-2024/assignments/06_qc_trimming/hw06_check.ipynb $work_dir"
   ]
  }
 ],
 "metadata": {
  "kernelspec": {
   "display_name": "Python 3 (ipykernel)",
   "language": "python",
   "name": "python3"
  },
  "language_info": {
   "codemirror_mode": {
    "name": "ipython",
    "version": 3
   },
   "file_extension": ".py",
   "mimetype": "text/x-python",
   "name": "python",
   "nbconvert_exporter": "python",
   "pygments_lexer": "ipython3",
   "version": "3.8.12"
  }
 },
 "nbformat": 4,
 "nbformat_minor": 5
}
