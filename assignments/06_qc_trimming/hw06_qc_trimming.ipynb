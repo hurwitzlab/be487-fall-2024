{
 "cells": [
  {
   "cell_type": "markdown",
   "id": "5de7bac8",
   "metadata": {},
   "source": [
    "# HW06: Quality Control and Trimming\n",
    "\n",
    "This notebook will go through the workflow for read quality control and trimming. \n",
    "\n",
    "1. Write the run script to check the quality of the reads BEFORE trimming (using fastqc)\n",
    "2. Write the run script to trim and filter low-quality reads with [Trimmomatic](https://carpentries-lab.github.io/metagenomics-analysis/03-trimming-filtering/index.html).\n",
    "3. Write the run script to check the quality of the reads AFTER trimming (using fastqc)\n",
    "4. Launch each of the run scripts using the launcher script.\n"
   ]
  },
  {
   "cell_type": "markdown",
   "id": "07ebed36",
   "metadata": {},
   "source": [
    "## Getting Started\n",
    "\n",
    "Before we get started you will need to set several variables that we will use throughout this notebook. "
   ]
  },
  {
   "cell_type": "code",
   "execution_count": null,
   "id": "e7a46521",
   "metadata": {},
   "outputs": [],
   "source": [
    "# set the variables for your netid and xfile\n",
    "# note that each person has 8 SRA accession ids in the xfile.\n",
    "netid = \"MY_NETID\"\n",
    "xfile = \"MY_XFILE\""
   ]
  },
  {
   "cell_type": "code",
   "execution_count": null,
   "id": "75d388ce",
   "metadata": {},
   "outputs": [],
   "source": [
    "# Go into the working directory\n",
    "work_dir = \"/xdisk/bhurwitz/bh_class/\" + netid + \"/assignments/06_qc_trimming\"\n",
    "%cd $work_dir"
   ]
  },
  {
   "cell_type": "code",
   "execution_count": null,
   "id": "8d323314",
   "metadata": {},
   "outputs": [],
   "source": [
    "# Set the fastq directory. This is where we have our raw fastq files.\n",
    "fastq_dir = \"/xdisk/bhurwitz/bh_class/\" + netid + \"/assignments/05_getting_data\""
   ]
  },
  {
   "cell_type": "markdown",
   "id": "380dffed",
   "metadata": {},
   "source": [
    "## Creating a config file\n",
    "Each of the run scripts below executes code that requires certain variables to be set. So we don't need to edit the code in each of the scripts, we are going to use a config file that defines all of these variables. Then when we want to use these variables in the script, we will \"source\" the config file to set the variables. This is generally a good practice in writing scripts on the HPC, that makes it so you only need to modify the config file (rather than each individual run scripts). "
   ]
  },
  {
   "cell_type": "code",
   "execution_count": null,
   "id": "049cf341",
   "metadata": {},
   "outputs": [],
   "source": [
    "# create a config file with all of the variables you need\n",
    "!echo \"export NETID=$netid\" > config.sh\n",
    "!echo \"export XFILE=$xfile\" >> config.sh\n",
    "!echo \"export FASTQC=/contrib/singularity/shared/bhurwitz/fastqc-0.11.9.sif\" >> config.sh\n",
    "!echo \"export TRIMMOMATIC=/contrib/singularity/shared/bhurwitz/trimmomatic:0.39--hdfd78af_2.sif\" >> config.sh\n",
    "!echo \"export WORK_DIR=$work_dir\" >> config.sh\n",
    "!echo \"export FASTQ_DIR=$fastq_dir\" >> config.sh"
   ]
  },
  {
   "cell_type": "code",
   "execution_count": null,
   "id": "1996dcc0",
   "metadata": {},
   "outputs": [],
   "source": [
    "# check the config file to be sure it is correct\n",
    "# Is your netid and xfile correct? Do you have the right working directory?\n",
    "!cat config.sh"
   ]
  },
  {
   "cell_type": "markdown",
   "id": "bfeaabfe",
   "metadata": {},
   "source": [
    "### Step 1: Assessing Read Quality for the Raw Reads from the SRA\n",
    "\n",
    "Now that we have all of our raw sequence data downloaded, we are ready to start the quality control process. We will use a tool called fastqc that generates a report about the quality of our sequence data. First, we create reports showing us the quality of the reads from each accession BEFORE trimming. That way we can see how well our trimming step works.\n",
    "\n",
    "Let's create a run script to run the fastqc program."
   ]
  },
  {
   "cell_type": "code",
   "execution_count": null,
   "id": "df7e3021",
   "metadata": {},
   "outputs": [],
   "source": [
    "# Create a script to run fastqc on each of our accessions\n",
    "# A few important points:\n",
    "# 1. We are using the variables from the config file via the `source ./config.sh` command in the script.\n",
    "# 2. fastqc runs on each of the fastq files in the $FASTQ_DIR\n",
    "# 3. We will copy the reports to our home directory so you can visualize these on the HPC (via Jupyter)\n",
    "\n",
    "my_code = '''#!/bin/bash\n",
    "#SBATCH --ntasks=1\n",
    "#SBATCH --nodes=1             \n",
    "#SBATCH --time=10:00:00   \n",
    "#SBATCH --partition=standard\n",
    "#SBATCH --account=bh_class\n",
    "#SBATCH --array=0-7                      \n",
    "#SBATCH --output=06A_fastqc-%a.out\n",
    "#SBATCH --cpus-per-task=1                  \n",
    "#SBATCH --mem=4G                           \n",
    "\n",
    "pwd; hostname; date\n",
    "\n",
    "source ./config.sh\n",
    "names=($(cat $FASTQ_DIR/$XFILE))\n",
    "\n",
    "apptainer run ${FASTQC} fastqc $FASTQ_DIR/${names[${SLURM_ARRAY_TASK_ID}]}_*.fastq*\n",
    "\n",
    "TRIM_DIR=\"${WORK_DIR}/before_qc_trimming\"\n",
    "if [[ ! -d \"$TRIM_DIR\" ]]; then\n",
    "  echo \"$TRIM_DIR does not exist. Directory created\"\n",
    "  mkdir -p $TRIM_DIR\n",
    "fi\n",
    "\n",
    "mv $FASTQ_DIR/${names[${SLURM_ARRAY_TASK_ID}]}_*_fastqc.html $TRIM_DIR\n",
    "mv $FASTQ_DIR/${names[${SLURM_ARRAY_TASK_ID}]}_*_fastqc.zip $TRIM_DIR\n",
    "cp -r $TRIM_DIR ~/be487-fall-2024/assignments/06_qc_trimming\n",
    " \n",
    "'''\n",
    "\n",
    "with open('06A_run_fastqc.sh', mode='w') as file:\n",
    "    file.write(my_code)"
   ]
  },
  {
   "cell_type": "markdown",
   "id": "11eda481",
   "metadata": {},
   "source": [
    "### Step 2: Creating a run script to trim and filter bad reads from the .fastq files\n",
    "\n",
    "In order to run trimmomatic in a PE (paired-end) format we'll need two files. These files are:  *_1.fastq.gz and *_2.fastq.gz for each accession from the SRA. You downloaded these in 05_getting_data. "
   ]
  },
  {
   "cell_type": "markdown",
   "id": "bdf10aee",
   "metadata": {},
   "source": [
    "### Initial Data Management\n",
    "\n",
    "Trimmomatic will give us 4 output files (forward paired, forward unpaired, reverse paired and reverse unpaired. To keep our data organized, let's create output directories so the script can organize our data as it runs.\n"
   ]
  },
  {
   "cell_type": "code",
   "execution_count": null,
   "id": "9c27dd2e",
   "metadata": {},
   "outputs": [],
   "source": [
    "# Create the trimmed and unpaired directories\n",
    "import os\n",
    "\n",
    "trim_dir = work_dir + \"/trimmed_reads\"\n",
    "unpair_dir = work_dir + \"/unpaired_reads\"\n",
    "\n",
    "if os.path.isdir(trim_dir):\n",
    "    print(\"trim_dir exists\")\n",
    "else:\n",
    "    os.mkdir(trim_dir)\n",
    "\n",
    "if os.path.isdir(unpair_dir):\n",
    "    print(\"unpair_dir exists\")\n",
    "else:\n",
    "    os.mkdir(unpair_dir)"
   ]
  },
  {
   "cell_type": "code",
   "execution_count": null,
   "id": "42a6300c",
   "metadata": {},
   "outputs": [],
   "source": [
    "# we need to copy the adapter file into your current working directory\n",
    "!cp ~/be487-fall2024/assignments/06_qc_trimming/TruSeq3-PE-2.fa .  "
   ]
  },
  {
   "cell_type": "code",
   "execution_count": null,
   "id": "34e65b91",
   "metadata": {},
   "outputs": [],
   "source": [
    "# Let's create a run script that runs trimmomatic on all of our fastq files\n",
    "# you can only run this after the *.fastq files are gzipped (be sure you checked via 05_getting_data_check)\n",
    "my_code = '''#!/bin/bash\n",
    "#SBATCH --ntasks=1\n",
    "#SBATCH --nodes=1             \n",
    "#SBATCH --time=10:00:00   \n",
    "#SBATCH --partition=standard\n",
    "#SBATCH --account=bh_class\n",
    "#SBATCH --array=0-7\n",
    "#SBATCH --output=Job-trim-%a.out\n",
    "#SBATCH --cpus-per-task=1                   \n",
    "#SBATCH --mem=4G                   \n",
    " \n",
    "pwd; hostname; date\n",
    "source ./config.sh\n",
    "names=($(cat ${FASTQ_DIR}/${XFILE}))\n",
    "\n",
    "TRIM_DIR=\"${WORK_DIR}/trimmed_reads\"\n",
    "UNPAIR_DIR=\"${WORK_DIR}/unpaired_reads\"\n",
    "\n",
    "apptainer run ${TRIMMOMATIC} trimmomatic PE -phred33 \\\n",
    "    ${FASTQ_DIR}/${names[${SLURM_ARRAY_TASK_ID}]}_1.fastq.gz ${FASTQ_DIR}/${names[${SLURM_ARRAY_TASK_ID}]}_2.fastq.gz \\\n",
    "    ${TRIM_DIR}/${names[${SLURM_ARRAY_TASK_ID}]}_1.fastq.gz ${UNPAIR_DIR}/${names[${SLURM_ARRAY_TASK_ID}]}_1.fastq.gz \\\n",
    "    ${TRIM_DIR}/${names[${SLURM_ARRAY_TASK_ID}]}_2.fastq.gz ${UNPAIR_DIR}/${names[${SLURM_ARRAY_TASK_ID}]}_2.fastq.gz \\\n",
    "    ILLUMINACLIP:TruSeq3-PE-2.fa:2:30:10 SLIDINGWINDOW:4:20\n",
    "'''\n",
    "\n",
    "with open('06B_run_trimmomatic.sh', mode='w') as file:\n",
    "    file.write(my_code)"
   ]
  },
  {
   "cell_type": "markdown",
   "id": "6545c522",
   "metadata": {},
   "source": [
    "## Step 3 QC Final Check\n",
    "\n",
    "Create a run script that performs a final quality control check, using fastqc, on the trimmed fastq files.\n",
    "\n",
    "This script will use the fastqc tool, and a similar script to the one in 2A, but will check the reads that are in the \"trimmed\" directory. The results should be output to the \n",
    "\n",
    "If you have any doubts about the trimming process, you can always run fastqc on the trimmed data and double check that you see all \"green\". You can check the fastqc files using Jupyter to check for any failures or other warnings."
   ]
  },
  {
   "cell_type": "code",
   "execution_count": null,
   "id": "8a5eb547",
   "metadata": {},
   "outputs": [],
   "source": [
    "# Create a script to run fastqc on each of our accessions\n",
    "# Round 2! This will check the fastq files after screening and cleaning with trimmomatic\n",
    "\n",
    "my_code = '''#!/bin/bash\n",
    "#SBATCH --ntasks=1\n",
    "#SBATCH --nodes=1             \n",
    "#SBATCH --time=10:00:00   \n",
    "#SBATCH --partition=standard\n",
    "#SBATCH --account=bh_class\n",
    "#SBATCH --array=0-7                      \n",
    "#SBATCH --output=06C_fastqc-%a.out\n",
    "#SBATCH --cpus-per-task=1                  \n",
    "#SBATCH --mem=4G                           \n",
    "\n",
    "pwd; hostname; date\n",
    "\n",
    "source ./config.sh\n",
    "names=($(cat $FASTQ_DIR/$XFILE))\n",
    "\n",
    "apptainer run ${FASTQC} fastqc ${WORK_DIR}/trimmed_reads/${names[${SLURM_ARRAY_TASK_ID}]}_*.fastq*\n",
    "\n",
    "TRIM_DIR=\"${WORK_DIR}/after_qc_trimming\"\n",
    "if [[ ! -d \"$TRIM_DIR\" ]]; then\n",
    "  echo \"$TRIM_DIR does not exist. Directory created\"\n",
    "  mkdir -p $TRIM_DIR\n",
    "fi\n",
    "\n",
    "mv ${WORK_DIR}/trimmed_reads/${names[${SLURM_ARRAY_TASK_ID}]}_*_fastqc.html $TRIM_DIR\n",
    "mv ${WORK_DIR}/trimmed_reads/${names[${SLURM_ARRAY_TASK_ID}]}_*_fastqc.zip $TRIM_DIR\n",
    "cp -r $TRIM_DIR ~/be487-fall-2024/assignments/06_qc_trimming\n",
    " \n",
    "'''\n",
    "\n",
    "with open('06C_run_fastqc.sh', mode='w') as file:\n",
    "    file.write(my_code)"
   ]
  },
  {
   "cell_type": "markdown",
   "id": "89fb4e38",
   "metadata": {},
   "source": [
    "## Step 4: Putting it all together\n",
    "\n",
    "Once you have created the the run scripts, you are ready to put them together in a pipeline to run each of the steps one by one. Notice which steps are dependent on the others"
   ]
  },
  {
   "cell_type": "code",
   "execution_count": null,
   "id": "8d650f6e",
   "metadata": {},
   "outputs": [],
   "source": [
    "# Let's create the launcher script to kick off our pipeline.\n",
    "\n",
    "my_code = '''#! /bin/bash\n",
    "\n",
    "# 06A_run_fastqc: first job - no dependencies\n",
    "job1=$(sbatch 06A_run_fastqc.sh)\n",
    "jid1=$(echo $job1 | sed 's/^Submitted batch job //')\n",
    "echo $jid1\n",
    "\n",
    "# 06B_run_trimmomatic: jid2 depends on jid1\n",
    "job2=$(sbatch --dependency=afterok:$jid1 06B_run_trimmomatic.sh)\n",
    "jid2=$(echo $job2 | sed 's/^Submitted batch job //')\n",
    "echo $jid2\n",
    "\n",
    "# 06C_run_fastqc: jid3 depends on jid2\n",
    "job3=$(sbatch --dependency=afterok:$jid2 06C_run_fastqc.sh)\n",
    "jid3=$(echo $job3 | sed 's/^Submitted batch job //')\n",
    "echo $jid3\n",
    "\n",
    "'''\n",
    "\n",
    "with open('06_launch_pipeline.sh', mode='w') as file:\n",
    "    file.write(my_code)"
   ]
  },
  {
   "cell_type": "code",
   "execution_count": null,
   "id": "066ee552",
   "metadata": {},
   "outputs": [],
   "source": [
    "!chmod +x *sh"
   ]
  },
  {
   "cell_type": "code",
   "execution_count": null,
   "id": "2e001991",
   "metadata": {},
   "outputs": [],
   "source": [
    "# now let's run it!\n",
    "!./06_launch_pipeline.sh"
   ]
  },
  {
   "cell_type": "code",
   "execution_count": null,
   "id": "1690b74c",
   "metadata": {},
   "outputs": [],
   "source": [
    "# You can check if it is running using the squeue command\n",
    "# Check for all jobs under your netid\n",
    "# Notice that 06B jobs are dependent on 06A jobs finishing and etc.\n",
    "!squeue --user=$netid"
   ]
  },
  {
   "cell_type": "markdown",
   "id": "eac1e582",
   "metadata": {},
   "source": [
    "### What happens next?\n",
    "\n",
    "Your code will take a little time to get \"picked up\" by the HPC and move from PD (pending) to R (running). Come back in about a day to double check you got all of the raw sequence files using the hw06_check.ipynb notebook. But, for now, relax and enjoy your day!"
   ]
  },
  {
   "cell_type": "markdown",
   "id": "83501ab5",
   "metadata": {},
   "source": [
    "### Final Step\n",
    "Copy your notebook to the current working directory"
   ]
  },
  {
   "cell_type": "code",
   "execution_count": null,
   "id": "b5b6190d",
   "metadata": {},
   "outputs": [],
   "source": [
    "!cp ~/be487-fall-2024/assignments/06_qc_trimming/hw06_qc_trimming.ipynb $work_dir"
   ]
  }
 ],
 "metadata": {
  "kernelspec": {
   "display_name": "Python 3 (ipykernel)",
   "language": "python",
   "name": "python3"
  },
  "language_info": {
   "codemirror_mode": {
    "name": "ipython",
    "version": 3
   },
   "file_extension": ".py",
   "mimetype": "text/x-python",
   "name": "python",
   "nbconvert_exporter": "python",
   "pygments_lexer": "ipython3",
   "version": "3.8.12"
  }
 },
 "nbformat": 4,
 "nbformat_minor": 5
}
