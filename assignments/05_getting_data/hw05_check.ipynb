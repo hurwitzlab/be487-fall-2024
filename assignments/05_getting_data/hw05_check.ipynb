{
 "cells": [
  {
   "cell_type": "markdown",
   "metadata": {},
   "source": [
    "## HW05 Data Check: getting data\n",
    "\n",
    "You should have downloaded all of your raw sequence files from the Sequence Read Archive. We are going to run a few checks to make sure all of the files were downloaded properly and are ready for the next steps in our analysis.\n",
    "\n",
    "-----------\n"
   ]
  },
  {
   "cell_type": "markdown",
   "metadata": {},
   "source": [
    "### Getting Started\n",
    "\n",
    "Before we get started you will need to set several variables that we will use throughout this notebook. "
   ]
  },
  {
   "cell_type": "code",
   "execution_count": null,
   "metadata": {},
   "outputs": [],
   "source": [
    "# set the variables for your netid and xfile\n",
    "netid = \"MY_NETID\"\n",
    "xfile = \"MY_XFILE\""
   ]
  },
  {
   "cell_type": "code",
   "execution_count": null,
   "metadata": {},
   "outputs": [],
   "source": [
    "# Set the working directory and change into this directory\n",
    "# All files will be downoaded here. All scripts will be written here.\n",
    "work_dir = \"/xdisk/bhurwitz/bh_class/\" + netid + \"/assignments/05_getting_data\"\n",
    "%cd $work_dir"
   ]
  },
  {
   "cell_type": "code",
   "execution_count": null,
   "metadata": {},
   "outputs": [],
   "source": [
    "# Set the fastq directory\n",
    "# Notice this is the same as the working directory, because we are downloading the fastq files \n",
    "# for the first time. We will use this same directory in other Jupyter notebooks for the project.\n",
    "fastq_dir = \"/xdisk/bhurwitz/bh_class/\" + netid + \"/assignments/05_getting_data\""
   ]
  },
  {
   "cell_type": "markdown",
   "metadata": {},
   "source": [
    "### Step 1: Checking the FASTQ files for your project\n",
    "\n",
    "The very first step for the project is downloading the fastq files from the SRA. Let's explore the work directory to see if we got them all."
   ]
  },
  {
   "cell_type": "code",
   "execution_count": null,
   "metadata": {},
   "outputs": [],
   "source": [
    "# Let's list the directory and see our files\n",
    "# Do you see files that look like ERR*fastq.gz?\n",
    "# Do you have an _1 and _2 file for each ERR ID?\n",
    "# Are any of the files zero length? (or empty)?\n",
    "!ls -l ERR*fastq.gz"
   ]
  },
  {
   "cell_type": "code",
   "execution_count": null,
   "metadata": {},
   "outputs": [],
   "source": [
    "# Let's check how many fastq files you have\n",
    "# You should have 2x the accessions in your xfile, one file for R1 (forward) and one for R2 (reverse).\n",
    "# There should be 16 total.\n",
    "!ls *fastq.gz | wc -l"
   ]
  },
  {
   "cell_type": "markdown",
   "metadata": {},
   "source": [
    "### Nice job!\n",
    "\n",
    "That's it! If you see fastq files for R1 and R2, and for each of your accessions (starting with ERR), then you are ready to move on to the next step. "
   ]
  },
  {
   "cell_type": "markdown",
   "metadata": {},
   "source": [
    "## The End! \n",
    "\n",
    "Be sure to copy your notebook into the class project directory (see below)."
   ]
  },
  {
   "cell_type": "code",
   "execution_count": null,
   "metadata": {},
   "outputs": [],
   "source": [
    "!cp ~/be487-fall-2024/assignments/05_getting_data/hw05_check.ipynb $work_dir"
   ]
  },
  {
   "cell_type": "markdown",
   "metadata": {},
   "source": [
    "-----"
   ]
  }
 ],
 "metadata": {
  "kernelspec": {
   "display_name": "Python 3 (ipykernel)",
   "language": "python",
   "name": "python3"
  },
  "language_info": {
   "codemirror_mode": {
    "name": "ipython",
    "version": 3
   },
   "file_extension": ".py",
   "mimetype": "text/x-python",
   "name": "python",
   "nbconvert_exporter": "python",
   "pygments_lexer": "ipython3",
   "version": "3.8.12"
  },
  "vscode": {
   "interpreter": {
    "hash": "df955ce39d0f31d56d4bb2fe0a613e5326ba60723fd33d8303a3aede8f65715c"
   }
  }
 },
 "nbformat": 4,
 "nbformat_minor": 2
}
