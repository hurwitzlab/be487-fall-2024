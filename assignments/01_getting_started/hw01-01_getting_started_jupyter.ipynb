{
 "cells": [
  {
   "cell_type": "markdown",
   "metadata": {},
   "source": [
    "# The Jupyter Notebook\n",
    "\n",
    "## Using a Jupyter Notebook\n",
    "\n",
    "Now that you can pull up a shell and can access the ocelote cluster, you are ready for our adventures in supercomputing! In this class, all of our exercises and assignments (for the class project) will be implemented in Jupyter Notebooks. So, from here on out, you will download Jupyter Notebooks from D2L for each exercise and assignment and upload to the HPC portal to run. \n",
    "\n",
    "## Introduction to Jupyter\n",
    "The notebook extends the console-based approach to interactive computing in a qualitatively new direction, providing a web-based application suitable for capturing the whole computation process: developing, documenting, and executing code, as well as communicating the results. The Jupyter notebook combines two components:\n",
    "A web application: a browser-based tool for interactive authoring of documents which combine explanatory text, mathematics, computations and their rich media output.\n",
    "Notebook documents: a representation of all content visible in the web application, including inputs and outputs of the computations, explanatory text, mathematics, images, and rich media representations of objects."
   ]
  },
  {
   "cell_type": "markdown",
   "metadata": {},
   "source": [
    "## Notebook documents\n",
    "Notebook documents contains the inputs and outputs of a interactive session as well as additional text that accompanies the code but is not meant for execution. In this way, notebook files can serve as a complete computational record of a session, interleaving executable code with explanatory text, mathematics, and rich representations of resulting objects. These documents are internally [JSON](https://en.wikipedia.org/wiki/JSON) files and are saved with the .ipynb extension. Since JSON is a plain text format, they can be version-controlled and shared with colleagues."
   ]
  },
  {
   "cell_type": "markdown",
   "metadata": {},
   "source": [
    "## Notebook user interface\n",
    "When you create a new notebook document, you will be presented with the notebook name, a menu bar, a toolbar and an empty code cell.\n",
    "\n",
    "* **Notebook name**: The name displayed at the top of the page, next to the Jupyter logo, reflects the name of the .ipynb file. Clicking on the notebook name brings up a dialog which allows you to rename it. Thus, renaming a notebook from “Untitled0” to “My first notebook” in the browser, renames the Untitled0.ipynb file to My first notebook.ipynb.\n",
    "* **Menu bar**: The menu bar presents different options that may be used to manipulate the way the notebook functions.\n",
    "* **Toolbar**: The tool bar gives a quick way of performing the most-used operations within the notebook, by clicking on an icon.\n",
    "Code cell: the default type of cell; read on for an explanation of cells."
   ]
  },
  {
   "cell_type": "markdown",
   "metadata": {},
   "source": [
    "## Structure of a notebook document\n",
    "The notebook consists of a sequence of cells. A cell is a multiline text input field, and its contents can be executed by using Shift-Enter, or by clicking either the “Play” button the toolbar, or Cell, Run in the menu bar. The execution behavior of a cell is determined by the cell’s type. There are three types of cells: code cells, markdown cells, and raw cells. Every cell starts off being a code cell, but its type can be changed by using a drop-down on the toolbar (which will be “Code”, initially), or via [keyboard shortcuts](https://jupyter-notebook.readthedocs.io/en/stable/notebook.html#keyboard-shortcuts)."
   ]
  },
  {
   "cell_type": "markdown",
   "metadata": {},
   "source": [
    "## Code cells\n",
    "A code cell allows you to edit and write new code, with full syntax highlighting and tab completion. The programming language you use depends on the kernel, and the default kernel (IPython) runs Python code.\n",
    "\n",
    "When a code cell is executed, code that it contains is sent to the kernel associated with the notebook. The results that are returned from this computation are then displayed in the notebook as the cell’s output. The output is not limited to text, with many other possible forms of output are also possible, including matplotlib figures and HTML tables (as used, for example, in the pandas data analysis package). This is known as IPython’s rich display capability."
   ]
  },
  {
   "cell_type": "code",
   "execution_count": null,
   "metadata": {},
   "outputs": [],
   "source": [
    "# This is a code cell. You can execute code here."
   ]
  },
  {
   "cell_type": "markdown",
   "metadata": {},
   "source": [
    "## Markdown cells\n",
    "You can document the computational process in a literate way, alternating descriptive text with code, using rich text. In IPython this is accomplished by marking up text with the Markdown language. The corresponding cells are called Markdown cells. The Markdown language provides a simple way to perform this text markup, that is, to specify which parts of the text should be emphasized (italics), bold, form lists, etc.\n",
    "\n",
    "If you want to provide structure for your document, you can use markdown headings. Markdown headings consist of 1 to 6 hash # signs, followed by a space and the title of your section. The markdown heading will be converted to a clickable link for a section of the notebook. It is also used as a hint when exporting to other document formats, like PDF.\n",
    "\n",
    "When a Markdown cell is executed, the Markdown code is converted into the corresponding formatted rich text. Markdown allows arbitrary HTML code for formatting."
   ]
  },
  {
   "cell_type": "markdown",
   "metadata": {},
   "source": [
    "#### This is a markdown cell, it only contains text."
   ]
  },
  {
   "cell_type": "markdown",
   "metadata": {},
   "source": [
    "## Basic workflow\n",
    "The normal workflow in a notebook is, then, quite similar to a standard IPython session, with the difference that you can edit cells in-place multiple times until you obtain the desired results, rather than having to rerun separate scripts with the %run magic command.\n",
    "Typically, you will work on a computational problem in pieces, organizing related ideas into cells and moving forward once previous parts work correctly. This is much more convenient for interactive exploration than breaking up a computation into scripts that must be executed together, as was previously necessary, especially if parts of them take a long time to run.\n",
    "\n",
    "To interrupt a calculation which is taking too long, use the Kernel, Interrupt menu option, or the i,i keyboard shortcut. Similarly, to restart the whole computational process, use the Kernel, Restart menu option or 0,0 shortcut.\n",
    "\n",
    "A notebook may be downloaded as a .ipynb file or converted to a number of other formats using the menu option File, Download as."
   ]
  },
  {
   "cell_type": "markdown",
   "metadata": {},
   "source": [
    "## Keyboard shortcuts\n",
    "All actions in the notebook can be performed with the mouse, but keyboard shortcuts are also available for the most common ones. The essential shortcuts to remember are the following:\n",
    "\n",
    "* Shift-Enter: run cell\n",
    "Execute the current cell, show any output, and jump to the next cell below. If Shift-Enter is invoked on the last cell, it makes a new cell below. This is equivalent to clicking the Cell, Run menu item, or the Play button in the toolbar.\n",
    "* Esc: Command mode\n",
    "In command mode, you can navigate around the notebook using keyboard shortcuts.\n",
    "* Enter: Edit mode\n",
    "In edit mode, you can edit text in cells.\n",
    "\n",
    "For the full list of available shortcuts, click Help, Keyboard Shortcuts in the notebook menus."
   ]
  },
  {
   "cell_type": "markdown",
   "metadata": {},
   "source": [
    "## Running Code\n",
    "First and foremost, the Jupyter Notebook is an interactive environment for writing and running code. The notebook is capable of running code in a wide range of languages. However, each notebook is associated with a single kernel. This notebook is associated with the IPython kernel, therefore runs Python code.\n",
    "\n",
    "### Code cells allow you to enter and run code\n",
    "Run a code cell using Shift-Enter or pressing the\n",
    "button in the toolbar. For example try running this in a Python notebook code cell\n",
    "\n",
    "```\n",
    "a = 10\n",
    "print(a)\n",
    "10\n",
    "```\n",
    "\n",
    "There are two other keyboard shortcuts for running code:\n",
    "* Alt-Enter runs the current cell and inserts a new one below.\n",
    "* Ctrl-Enter run the current cell and enters command mode."
   ]
  },
  {
   "cell_type": "code",
   "execution_count": null,
   "metadata": {},
   "outputs": [],
   "source": [
    "a = 10\n",
    "print(a)\n",
    "10"
   ]
  },
  {
   "cell_type": "markdown",
   "metadata": {},
   "source": [
    "## Managing the Kernel\n",
    "Code is run in a separate process called the Kernel. The Kernel can be interrupted or restarted. \n",
    "\n",
    "### Cell menu\n",
    "The “Cell” menu has a number of menu items for running code in different ways. These include:\n",
    "* Run and Select Below\n",
    "* Run and Insert Below\n",
    "* Run All\n",
    "* Run All Above\n",
    "* Run All Below\n",
    "\n",
    "### Restarting the kernel\n",
    "The kernel maintains the state of a notebook’s computations. You can reset this state by restarting the kernel. \n",
    "\n",
    "### Output is asynchronous\n",
    "All output is displayed asynchronously as it is generated in the Kernel. If you execute the next cell, you will see the output one piece at a time, not all at the end. For example,\n",
    "\n",
    "```\n",
    "import time, sys\n",
    "for i in range(8):\n",
    "    print(i)\n",
    "    time.sleep(0.5)\n",
    "0\n",
    "1\n",
    "2\n",
    "3\n",
    "4\n",
    "5\n",
    "6\n",
    "7\n",
    "```"
   ]
  },
  {
   "cell_type": "code",
   "execution_count": null,
   "metadata": {},
   "outputs": [],
   "source": [
    "# try this...\n",
    "import time, sys\n",
    "for i in range(8):\n",
    "    print(i)\n",
    "    time.sleep(0.5)"
   ]
  },
  {
   "cell_type": "markdown",
   "metadata": {},
   "source": [
    "## Markdown Cells\n",
    "Text can be added to Jupyter Notebooks using Markdown cells. You can change the cell type to Markdown by using the Cell menu, the toolbar, or the key shortcut m. Markdown is a popular markup language that is a superset of HTML. Its specification can be found [here](https://daringfireball.net/projects/markdown/)\n",
    "\n",
    "### Markdown basics\n",
    "Markdown is easy to learn. Checkout this [cheatsheet](https://www.markdownguide.org/cheat-sheet/) for a quick reference. \n",
    "\n",
    "Heading:\n",
    "```\n",
    "# H1\n",
    "## H2\n",
    "### H3\n",
    "```\n",
    "\n",
    "Bold:\n",
    "```\n",
    "**bold text**\n",
    "```\n",
    "\n",
    "Italicize:\n",
    "```\n",
    "*italicized text*\n",
    "```\n",
    "\n",
    "Block quote:\n",
    "```\n",
    "> blockquote\n",
    "```\n",
    "\n",
    "Ordered list:\n",
    "```\n",
    "- First item\n",
    "- Second item\n",
    "- Third item\n",
    "```\n",
    "\n",
    "Unrdered list:\n",
    "```\n",
    "1. First item\n",
    "2. Second item\n",
    "3. Third item\n",
    "```\n",
    "\n",
    "Code:\n",
    "```\n",
    "`code`\n",
    "```\n",
    "\n",
    "Block of code:\n",
    "```\n",
    "```code```\n",
    "```\n",
    "\n",
    "Horizontal rule:\n",
    "```\n",
    "---\n",
    "```\n",
    "\n",
    "Link:\n",
    "```\n",
    "[title](https://www.example.com)\n",
    "```\n",
    "\n",
    "Image:\n",
    "```\n",
    "![alt text](image.jpg)\n",
    "```\n",
    "Keep in mind that attached files will increase the size of your notebook.\n",
    "You can manually edit the attachement by using the View > Cell Toolbar > Attachment menu, but you should not need to.\n",
    "\n",
    "Table:\n",
    "```\n",
    "And a table like this:\n",
    "| This | is   |\n",
    "|------|------|\n",
    "|   a  | table|\n",
    "```\n",
    "\n",
    "Don't want to use md characters? \n",
    "You can use backslash to generate literal characters which would otherwise have special meaning in the Markdown syntax.\n",
    "\n",
    "\n",
    "THE END!\n"
   ]
  },
  {
   "cell_type": "markdown",
   "metadata": {},
   "source": [
    "# Try out markdown here..."
   ]
  }
 ],
 "metadata": {
  "kernelspec": {
   "display_name": "Python 3 (ipykernel)",
   "language": "python",
   "name": "python3"
  },
  "language_info": {
   "codemirror_mode": {
    "name": "ipython",
    "version": 3
   },
   "file_extension": ".py",
   "mimetype": "text/x-python",
   "name": "python",
   "nbconvert_exporter": "python",
   "pygments_lexer": "ipython3",
   "version": "3.9.6"
  },
  "vscode": {
   "interpreter": {
    "hash": "df955ce39d0f31d56d4bb2fe0a613e5326ba60723fd33d8303a3aede8f65715c"
   }
  }
 },
 "nbformat": 4,
 "nbformat_minor": 2
}
