{
 "cells": [
  {
   "cell_type": "markdown",
   "id": "5de7bac8",
   "metadata": {},
   "source": [
    "# Assembling reads into contigs\n",
    "\n",
    "This notebook will go through the workflow for using the megahit assembly tool. In this section we are going to assemble our reads into contigs. Contigs are fragments of DNA that represent parts of a genome. If you are lucky, you might even be able to assemble an entire genome in a single contig! But, most of the time, contigs are just part of a genome with missing fragments in between contigs that prevent you from assembling the entire genome.\n",
    "\n",
    "Check out this introduction to [Megahit](https://github.com/voutcn/megahit)\n",
    "\n",
    "Assembling the reads into contigs gives us metagenome assembled genomes (MAGs). Note that these are different from an assembled genome that is created from reads from a single organism grown in culture (an isolate).\n",
    "\n",
    "-----------\n",
    "\n",
    "Sections:\n",
    "\n",
    "1. Run Megahit to create metagenome assembled genomes (MAGs).\n",
    "\n",
    "-----------\n",
    "\n"
   ]
  },
  {
   "cell_type": "markdown",
   "id": "07ebed36",
   "metadata": {},
   "source": [
    "## Getting Started\n",
    "\n",
    "Before we get started you will need to set several variables that we will use throughout this notebook. "
   ]
  },
  {
   "cell_type": "code",
   "execution_count": null,
   "id": "e7a46521",
   "metadata": {},
   "outputs": [],
   "source": [
    "# set the variables for your netid and xfile\n",
    "netid = \"MY_NETID\"\n",
    "xfile = \"MY_XFILE\""
   ]
  },
  {
   "cell_type": "code",
   "execution_count": null,
   "id": "75d388ce",
   "metadata": {},
   "outputs": [],
   "source": [
    "# Go into the working directory\n",
    "work_dir = \"/xdisk/bhurwitz/bh_class/\" + netid + \"/assignments/08_assembly\"\n",
    "%cd $work_dir"
   ]
  },
  {
   "cell_type": "code",
   "execution_count": null,
   "id": "d749a162",
   "metadata": {},
   "outputs": [],
   "source": [
    "# Set the fastq directory. This is where we have our fastq files with human contam removed.\n",
    "fastq_dir = \"/xdisk/bhurwitz/bh_class/\" + netid + \"/assignments/07_contam_removal\"\n",
    "xfile_dir = \"/xdisk/bhurwitz/bh_class/\" + netid + \"/assignments/05_getting_data\"\n",
    "out_dir = work_dir + \"/out_megahit\""
   ]
  },
  {
   "cell_type": "markdown",
   "id": "380dffed",
   "metadata": {},
   "source": [
    "## Creating a config file\n",
    "The scripts below executes code that requires certain variables to be set. So we don't need to edit the code in the script, we are going to use a config file that defines all of these variables for us. Then when we want to use these variables in the script, we will \"source\" the config file to set the variables."
   ]
  },
  {
   "cell_type": "code",
   "execution_count": null,
   "id": "0f0e24e8",
   "metadata": {},
   "outputs": [],
   "source": [
    "# create a config file with all of the variables you need\n",
    "# notice that we will assemble the reads that are both trimmed and have human removed.\n",
    "!echo \"export NETID=$netid\" > config.sh\n",
    "!echo \"export XFILE=$xfile\" >> config.sh\n",
    "!echo \"export XFILE_DIR=$xfile_dir\" >> config.sh\n",
    "!echo \"export FASTQ_DIR=$fastq_dir\" >> config.sh\n",
    "!echo \"export OUT_MEGA=$out_dir\" >> config.sh\n",
    "!echo \"export MEGAHIT=/contrib/singularity/shared/bhurwitz/megahit:1.2.9--h5b5514e_3.sif\" >> config.sh"
   ]
  },
  {
   "cell_type": "markdown",
   "id": "d0517df3",
   "metadata": {},
   "source": [
    "### Data Management\n",
    "\n",
    "We'll be creating an assembly based on the trimmed/human removed reads. Let's setup the output directory ahead of time."
   ]
  },
  {
   "cell_type": "code",
   "execution_count": null,
   "id": "bdcbf652",
   "metadata": {},
   "outputs": [],
   "source": [
    "!mkdir $work_dir/out_megahit"
   ]
  },
  {
   "cell_type": "markdown",
   "id": "738c6eed",
   "metadata": {},
   "source": [
    "## Step 1: Running Megahit to create contigs\n",
    "\n",
    "Let's create an assembly of all of the genomes in your microbiomes using megahit. This assembler is fast, and uses less resources than other metagenome assemblers. "
   ]
  },
  {
   "cell_type": "code",
   "execution_count": null,
   "id": "d0721664",
   "metadata": {},
   "outputs": [],
   "source": [
    "# Create a script to run megahit\n",
    "# A few important points:\n",
    "# 1. We are using the variables from the config file via the `source ./config.sh` command\n",
    "# 2. megahit runs on each of the fastq files in the trimmed $FASTQ_DIR\n",
    "# 3. The results will be written into our $OUT_MEGA directory\n",
    "# 4. Notice that we are asking for alot more resource (28 cores and 5G of memory per core), we are also asking for more time (24 hours)\n",
    "my_code = '''#!/bin/bash\n",
    "#SBATCH --output=08A_assembly-%a.out\n",
    "#SBATCH --account=bh_class\n",
    "#SBATCH --partition=standard\n",
    "#SBATCH --nodes=1\n",
    "#SBATCH --ntasks=1\n",
    "#SBATCH --time=24:00:00\n",
    "#SBATCH --cpus-per-task=28\n",
    "#SBATCH --mem-per-cpu=5gb\n",
    "#SBATCH --array=0-7\n",
    "\n",
    "pwd; hostname; date\n",
    "\n",
    "source ./config.sh\n",
    "names=($(cat $XFILE_DIR/$XFILE))\n",
    "\n",
    "SAMPLE_ID=${names[${SLURM_ARRAY_TASK_ID}]}\n",
    "\n",
    "PAIR1=${FASTQ_DIR}/${SAMPLE_ID}_1.fastq.gz\n",
    "PAIR2=${FASTQ_DIR}/${SAMPLE_ID}_2.fastq.gz\n",
    "\n",
    "apptainer run ${MEGAHIT} megahit \\\n",
    "   -1 ${PAIR1} \\\n",
    "   -2 ${PAIR2} \\\n",
    "   -o ${OUT_MEGA}/${names[${SLURM_ARRAY_TASK_ID}]}\n",
    "'''\n",
    "\n",
    "with open('08A_assembly.sh', mode='w') as file:\n",
    "    file.write(my_code)"
   ]
  },
  {
   "cell_type": "code",
   "execution_count": null,
   "id": "5331389a",
   "metadata": {},
   "outputs": [],
   "source": [
    "# you should be in your working directory when you run this script\n",
    "# do you see your config.sh file, and the 08A_assembly.sh script?\n",
    "!pwd\n",
    "!ls"
   ]
  },
  {
   "cell_type": "code",
   "execution_count": null,
   "id": "27d07384",
   "metadata": {},
   "outputs": [],
   "source": [
    "# Let's create the launcher script to kick off our pipeline.\n",
    "\n",
    "my_code = '''#! /bin/bash\n",
    "\n",
    "# 08A_assembly: first job - no dependencies\n",
    "job1=$(sbatch 08A_assembly.sh)\n",
    "jid1=$(echo $job1 | sed 's/^Submitted batch job //')\n",
    "echo $jid1\n",
    "\n",
    "'''\n",
    "\n",
    "with open('08_launch_pipeline.sh', mode='w') as file:\n",
    "    file.write(my_code)"
   ]
  },
  {
   "cell_type": "code",
   "execution_count": null,
   "id": "202c8302",
   "metadata": {},
   "outputs": [],
   "source": [
    "# Make the pipeline script executable\n",
    "!chmod +x *.sh"
   ]
  },
  {
   "cell_type": "code",
   "execution_count": null,
   "id": "7732b205",
   "metadata": {},
   "outputs": [],
   "source": [
    "# now let's run it!\n",
    "!./08_launch_pipeline.sh"
   ]
  },
  {
   "cell_type": "code",
   "execution_count": null,
   "id": "27a99f65",
   "metadata": {},
   "outputs": [],
   "source": [
    "# You can check if it is running using the squeue command\n",
    "# Check for all jobs under your netid\n",
    "# Note that this will take some time to run, so go get a coffee!\n",
    "!squeue --user=$netid"
   ]
  },
  {
   "cell_type": "markdown",
   "id": "83501ab5",
   "metadata": {},
   "source": [
    "## Final Step\n",
    "Copy your notebook to the current working directory"
   ]
  },
  {
   "cell_type": "code",
   "execution_count": null,
   "id": "b5b6190d",
   "metadata": {},
   "outputs": [],
   "source": [
    "!cp ~/be487-fall-2024/assignments/08_assembly/hw08_assembly.ipynb $work_dir"
   ]
  }
 ],
 "metadata": {
  "kernelspec": {
   "display_name": "Python 3 (ipykernel)",
   "language": "python",
   "name": "python3"
  },
  "language_info": {
   "codemirror_mode": {
    "name": "ipython",
    "version": 3
   },
   "file_extension": ".py",
   "mimetype": "text/x-python",
   "name": "python",
   "nbconvert_exporter": "python",
   "pygments_lexer": "ipython3",
   "version": "3.8.12"
  }
 },
 "nbformat": 4,
 "nbformat_minor": 5
}
