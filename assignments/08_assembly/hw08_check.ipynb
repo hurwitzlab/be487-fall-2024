{
 "cells": [
  {
   "cell_type": "markdown",
   "id": "5de7bac8",
   "metadata": {},
   "source": [
    "# HW08 check: Assembling reads into contigs\n"
   ]
  },
  {
   "cell_type": "markdown",
   "id": "07ebed36",
   "metadata": {},
   "source": [
    "## Getting Started\n",
    "\n",
    "Before we get started you will need to set several variables that we will use throughout this notebook. "
   ]
  },
  {
   "cell_type": "code",
   "execution_count": null,
   "id": "e7a46521",
   "metadata": {},
   "outputs": [],
   "source": [
    "# set the variables for your netid and xfile\n",
    "netid = \"MY_NETID\"\n",
    "xfile = \"MY_XFILE\""
   ]
  },
  {
   "cell_type": "code",
   "execution_count": null,
   "id": "75d388ce",
   "metadata": {},
   "outputs": [],
   "source": [
    "# Go into the working directory\n",
    "work_dir = \"/xdisk/bhurwitz/bh_class/\" + netid + \"/assignments/08_assembly\"\n",
    "%cd $work_dir"
   ]
  },
  {
   "cell_type": "markdown",
   "id": "d7b885fe",
   "metadata": {},
   "source": [
    "### Check the 08 jobs are complete.\n",
    "\n",
    "First, we need to check that the 08 jobs have finished running. You will need to wait to run the check on the data until this is finished"
   ]
  },
  {
   "cell_type": "code",
   "execution_count": null,
   "id": "e3841607",
   "metadata": {},
   "outputs": [],
   "source": [
    "# Check to be sure run is finished\n",
    "# Do you see any jobs running that started with 08?\n",
    "!squeue --user=$netid"
   ]
  },
  {
   "cell_type": "markdown",
   "id": "2fe48931",
   "metadata": {},
   "source": [
    "### Run the checks on the data\n",
    "\n",
    "Next, we will check our data and see how our assembly step went. Some questions we will answer:\n",
    "\n",
    "1. What percentage of reads mapped to the human genome, and were therefore removed?\n",
    "2. Are some samples more contaminated than others?\n",
    "3. Do we still have enough reads to moce forward with an assembly?"
   ]
  },
  {
   "cell_type": "code",
   "execution_count": null,
   "id": "f4e64a72",
   "metadata": {},
   "outputs": [],
   "source": [
    "# did you get the final contigs files?\n",
    "!ls -l out_megahit/ERR*/final.contigs.fa"
   ]
  },
  {
   "cell_type": "markdown",
   "id": "cdaaf2ef",
   "metadata": {},
   "source": [
    "### Get stats on the contigs for your assemblies\n",
    "\n",
    "Next, we will look at the log file to get stats on the assemblies you created"
   ]
  },
  {
   "cell_type": "code",
   "execution_count": null,
   "id": "99d42ce3",
   "metadata": {},
   "outputs": [],
   "source": [
    "!ls ./out_megahit/ > accessions\n",
    "!for accession in `cat accessions`; do echo $accession; tail -2 out_megahit/$accession/log | head -1; done"
   ]
  },
  {
   "cell_type": "markdown",
   "id": "3cf7ec51",
   "metadata": {},
   "source": [
    "### What data do you need to report on in your deep dive in Packback?\n",
    "\n",
    "The deep dive is a summary of all of your homeworks for this module (HW07 - HW09). Here are the guiding questions for this assignment that you will find/answer in Packback.\n",
    "\n",
    "1. What tool and version did you use to assemble your reads?\n",
    "2. What was the purpose of assembling the reads?\n",
    "3. Create a table showing the assembly data for each sample: number of contigs, total bp in the assembly, min contig size, max contig size, avg contig size, and N50.\n",
    "\n",
    "Note you are only going to report on 8 of the 56 total samples for your team project, in this report."
   ]
  },
  {
   "cell_type": "markdown",
   "id": "83501ab5",
   "metadata": {},
   "source": [
    "## Final Step\n",
    "Copy your notebook to the current working directory"
   ]
  },
  {
   "cell_type": "code",
   "execution_count": null,
   "id": "b5b6190d",
   "metadata": {},
   "outputs": [],
   "source": [
    "!cp ~/be487-fall-2024/assignments/08_assembly/hw08_check.ipynb $work_dir"
   ]
  }
 ],
 "metadata": {
  "kernelspec": {
   "display_name": "Python 3 (ipykernel)",
   "language": "python",
   "name": "python3"
  },
  "language_info": {
   "codemirror_mode": {
    "name": "ipython",
    "version": 3
   },
   "file_extension": ".py",
   "mimetype": "text/x-python",
   "name": "python",
   "nbconvert_exporter": "python",
   "pygments_lexer": "ipython3",
   "version": "3.8.12"
  }
 },
 "nbformat": 4,
 "nbformat_minor": 5
}
