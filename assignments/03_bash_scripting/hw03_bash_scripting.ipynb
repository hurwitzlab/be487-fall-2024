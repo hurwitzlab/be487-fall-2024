{
 "cells": [
  {
   "cell_type": "markdown",
   "metadata": {},
   "source": [
    "# Introduction to Bash Scripting\n",
    "\n",
    "Author: Ken Youens-Clark"
   ]
  },
  {
   "cell_type": "markdown",
   "metadata": {},
   "source": [
    "In this notebook, we are going to get started with some basic Bash scripting. Bash scripting is useful for bioinformatics because all scripts we submit to run jobs on the HPC are written in Bash. \n",
    "\n",
    "Here's an overview:\n",
    "- Learn how to write a basic script\n",
    "- Get data into your programs\n",
    "- Learn about For and While loops\n",
    "\n",
    "-----\n"
   ]
  },
  {
   "cell_type": "markdown",
   "metadata": {},
   "source": [
    "### Getting Started\n",
    "\n",
    "Before we get started you will need to set your netid and then go into the directory for this assignment under bh_class.\n",
    "\n",
    "You will need to rerun this section each time you come back to this notebook to reset the variables.\n",
    "\n",
    "Remember, our notebooks work in the current working directory -- and when you login to the HPC this automatically is your home directory. You will need to move to the project directory. The next two cells set your netid and the project directory (be sure to replace \"MY_NETID\" with your actual netid). Then we will change into that directory for our exercise."
   ]
  },
  {
   "cell_type": "code",
   "execution_count": null,
   "metadata": {
    "vscode": {
     "languageId": "shellscript"
    }
   },
   "outputs": [],
   "source": [
    "# Change \"MY_NETID\" to your netid below, and run this cell\n",
    "netid = \"MY_NETID\""
   ]
  },
  {
   "cell_type": "code",
   "execution_count": null,
   "metadata": {
    "vscode": {
     "languageId": "shellscript"
    }
   },
   "outputs": [],
   "source": [
    "# Set the working directory and change into this directory\n",
    "work_dir = \"/xdisk/bhurwitz/bh_class/\" + netid + \"/assignments/03_bash_scripting\"\n",
    "%cd $work_dir"
   ]
  },
  {
   "cell_type": "markdown",
   "metadata": {},
   "source": [
    "### Section 1: Hello World!"
   ]
  },
  {
   "cell_type": "markdown",
   "metadata": {},
   "source": [
    "#### Shebang\n",
    "\n",
    "Scripting languages \\(sh, bash, Perl, Python, Ruby, etc.\\) are generally distinguished by the fact that the \"program\" is a regular file containing plain text that is interpreted into machine code at the time you run it.  Basically a \"script\" is a plain text file that is often executable by virtue of having the executable bit\\(s\\) turned on \\(cf. \"Permissions\"\\).  It does not have to be executable, however.  It's acceptable to put some commands in a file and simply tell the appropriate program to interpret the file:"
   ]
  },
  {
   "cell_type": "code",
   "execution_count": null,
   "metadata": {
    "vscode": {
     "languageId": "shellscript"
    }
   },
   "outputs": [],
   "source": [
    "!echo \"echo Hello, World\" > hello.sh\n",
    "!sh hello.sh"
   ]
  },
  {
   "cell_type": "markdown",
   "metadata": {},
   "source": [
    "#### What do you get?\n",
    "\n",
    "You should get this:\n",
    "```\n",
    "Hello, World\n",
    "```\n",
    "\n",
    "But it looks cooler to have it run as a script by making it executable."
   ]
  },
  {
   "cell_type": "code",
   "execution_count": null,
   "metadata": {
    "vscode": {
     "languageId": "shellscript"
    }
   },
   "outputs": [],
   "source": [
    "# change the script so it is executable.\n",
    "!chmod +x hello.sh\n",
    "# run the script\n",
    "!./hello.sh"
   ]
  },
  {
   "cell_type": "markdown",
   "metadata": {},
   "source": [
    "#### What is a shebang line?\n",
    "\n",
    "The interesting thing about shell scripts is that you can often times run commands without telling the computer what you want to use to run the code. The reason is that the parent shell guesses that the script is written for the same shell. You can get into trouble is the code is written in another language, like python, or for a different shell. \n",
    "\n",
    "Therefore, it is always best practice to add a shebang line that will indicate the absolute path to a program like \"/bin/bash\" or \"/usr/local/bin/python3\". "
   ]
  },
  {
   "cell_type": "code",
   "execution_count": null,
   "metadata": {},
   "outputs": [],
   "source": [
    "# To find out where bash is installed you can type:\n",
    "!which bash"
   ]
  },
  {
   "cell_type": "markdown",
   "metadata": {},
   "source": [
    "#### Let's Make A Script!\n",
    "\n",
    "Let's make our script say \"Hello\" to some people. Let's write a script with the following lines of code, and output. Note that I included line numbers here for your reference, but the code you write should not have them, see the example below:\n",
    "\n",
    "```\n",
    "$ cat -n hello2.sh\n",
    "     1    #!/bin/bash\n",
    "     2\n",
    "     3    NAME=\"Newman\"\n",
    "     4    echo \"Hello,\" $NAME\n",
    "     5    NAME=\"Jerry\"\n",
    "     6    echo \"Hello, $NAME\"\n",
    "\n",
    "$ ./hello2.sh\n",
    "Hello, Newman\n",
    "Hello, Jerry\n",
    "```\n",
    "\n",
    "We can use python to print the code above into a file for us (see below). The three single quotes indicate the beginning and end of a code block, that we are putting into to a variable called code_for_script. We then open a file called hello2.sh and print that variable to the file. \n"
   ]
  },
  {
   "cell_type": "code",
   "execution_count": null,
   "metadata": {},
   "outputs": [],
   "source": [
    "my_code = '''#!/bin/bash\n",
    "\n",
    "NAME=\"Newman\"\n",
    "echo \"Hello,\" $NAME\n",
    "NAME=\"Jerry\"\n",
    "echo \"Hello, $NAME\"\n",
    "'''\n",
    "\n",
    "with open('hello2.sh', mode='w') as file:\n",
    "    file.write(my_code)"
   ]
  },
  {
   "cell_type": "code",
   "execution_count": null,
   "metadata": {},
   "outputs": [],
   "source": [
    "'''\n",
    "Type the command below, and run the cell\n",
    "1.1 write a command to make hello2.sh executable\n",
    "1.2 write a command to run the hello2.sh script\n",
    "'''"
   ]
  },
  {
   "cell_type": "markdown",
   "metadata": {},
   "source": [
    "#### What is this script doing?\n",
    "\n",
    "I've created a variable called `NAME` to hold the string \"Newman\" and print it.  Notice there is no `$` when assigning to the variable, only when you use it. The value of `NAME` can be changed at any time.  You can print it out like on line 4 as it's own argument to `echo` or inside of a string like on line 6.  Notice that the version on line 4 puts a space between the arguments to `echo`.\n",
    "\n",
    "Because all the variables from the environment \\(see `env`\\) are uppercase \\(e.g., `$HOME` and `$USER`\\), I tend to use all-caps myself, but this did lead to a problem once when I named a variable `PATH` and then overwrote the actual `PATH` and then my program stopped working entirely as it could no longer find any of the programs it needed.  Just remember that everything in Unix is case-sensitive, so `$Name` is an entirely different variable from `$name`.\n",
    "\n",
    "When assigning a variable, you can have NO SPACES around the `=` sign:\n",
    "\n",
    "```\n",
    "$ NAME1=\"Doge\"\n",
    "$ echo \"Such $NAME1\"\n",
    "Such Doge\n",
    "$ NAME2 = \"Doge\"\n",
    "-bash: NAME2: command not found\n",
    "$ echo \"Such $NAME2\"\n",
    "Such\n",
    "```"
   ]
  },
  {
   "cell_type": "markdown",
   "metadata": {},
   "source": [
    "### Section 2: Getting Data Into Your Program: Arguments\n",
    "\n",
    "We would like to get the NAME from the user rather than having it hardcoded in the script.  I'll show you three ways our script can take in data from outside:\n",
    "\n",
    "1. Command-line arguments, both positional \\(i.e., the first one, the second one, etc.\\) or named \\(e.g., `-n NAME`\\)\n",
    "2. The environment\n",
    "3. Reading a configuration file\n",
    "\n",
    "First we'll cover the command-line arguments which are available through a few variables:\n",
    "\n",
    "* `$#`: The number \\(think \"\\#\" == number\\) of arguments\n",
    "* `$@`: All the arguments in a single string\n",
    "* `$0`: The name of the script\n",
    "* `$1, $2`: The first argument, the second argument, etc.\n",
    "\n",
    "A la:\n",
    "\n",
    "```\n",
    "$ cat -n args.sh\n",
    "     1    #!/bin/bash\n",
    "     2\n",
    "     3    echo \"Num of args    : \\\"$#\\\"\"\n",
    "     4    echo \"String of args : \\\"$@\\\"\"\n",
    "     5    echo \"Name of program: \\\"$0\\\"\"\n",
    "     6    echo \"First arg      : \\\"$1\\\"\"\n",
    "     7    echo \"Second arg     : \\\"$2\\\"\"\n",
    "```"
   ]
  },
  {
   "cell_type": "code",
   "execution_count": null,
   "metadata": {},
   "outputs": [],
   "source": [
    "# Now you try. Create the script above by inputing the code into the code block below\n",
    "# 2.1\n",
    "code_for_script = '''#!/bin/bash\n",
    "  \n",
    "\n",
    "'''\n",
    "\n",
    "with open('args.sh', mode='w') as file:\n",
    "    file.write(code_for_script)"
   ]
  },
  {
   "cell_type": "code",
   "execution_count": null,
   "metadata": {},
   "outputs": [],
   "source": [
    "'''\n",
    "Type the command below, and run the cell\n",
    "2.2 write a command to make args.sh executable\n",
    "2.3 write a command to run the args.sh script\n",
    "'''"
   ]
  },
  {
   "cell_type": "code",
   "execution_count": null,
   "metadata": {
    "vscode": {
     "languageId": "shellscript"
    }
   },
   "outputs": [],
   "source": [
    "# Let's try running the script with no input\n",
    "!./args.sh"
   ]
  },
  {
   "cell_type": "code",
   "execution_count": null,
   "metadata": {
    "vscode": {
     "languageId": "shellscript"
    }
   },
   "outputs": [],
   "source": [
    "# Let's try running the script with the input \"foo\"\n",
    "!./args.sh foo"
   ]
  },
  {
   "cell_type": "code",
   "execution_count": null,
   "metadata": {
    "vscode": {
     "languageId": "shellscript"
    }
   },
   "outputs": [],
   "source": [
    "# Let's try running the script with the input \"foo bar\"\n",
    "!./args.sh foo bar"
   ]
  },
  {
   "cell_type": "markdown",
   "metadata": {},
   "source": [
    "#### What did you get?\n",
    "\n",
    "You should have seen something like this:\n",
    "\n",
    "```\n",
    "$ ./args.sh\n",
    "Num of args    : \"0\"\n",
    "String of args : \"\"\n",
    "Name of program: \"./args.sh\"\n",
    "First arg      : \"\"\n",
    "Second arg     : \"\"\n",
    "\n",
    "$ ./args.sh foo\n",
    "Num of args    : \"1\"\n",
    "String of args : \"foo\"\n",
    "Name of program: \"./args.sh\"\n",
    "First arg      : \"foo\"\n",
    "Second arg     : \"\"\n",
    "\n",
    "$ ./args.sh foo bar\n",
    "Num of args    : \"2\"\n",
    "String of args : \"foo bar\"\n",
    "Name of program: \"./args.sh\"\n",
    "First arg      : \"foo\"\n",
    "Second arg     : \"bar\"\n",
    "```"
   ]
  },
  {
   "cell_type": "markdown",
   "metadata": {},
   "source": [
    "### Section 3: Iterating through arguments on the command line\n",
    "\n",
    "If you would like to iterate over all the arguments, you can use `$@` like so:\n",
    "\n",
    "```\n",
    "$ cat -n args2.sh\n",
    "     1    #!/bin/bash\n",
    "     2\n",
    "     3    if [[ $# -lt 1 ]]; then\n",
    "     4        echo \"There are no arguments\"\n",
    "     5    else\n",
    "     6        i=0\n",
    "     7        for ARG in \"$@\"; do\n",
    "     8            let i++\n",
    "     9            echo \"$i: $ARG\"\n",
    "    10        done\n",
    "    11    fi\n",
    "```\n",
    "\n",
    "Here I'm using a conditional at line 3 to check if the script has any arguments. If the number of arguments \\(`$#`\\) is less than \\(`-lt`\\) 1, then let the user know there is nothing to show; otherwise \\(`else`\\) do the next block of code.  \n",
    "\n",
    "The `for` loop on line 7 works by splitting the argument string \\(`$@`\\) on spaces just like the command line does.  Both `for` and `while` loops require the `do/done` pair to delineate the block of code \\(some languages use `{}`).  Along those lines, line 11 is the close of the `if` -- \"if\" spell backwards.\n",
    "\n",
    "The other bit of magic I threw in was a counter variable \\(which I always use lowercase `i` \\[\"integer\"\\], `j` if I needed an inner-counter and so on\\) which is initialized to \"0\" on line 6.  I increment it, I could have written `$i=$(($i + 1))`, but it's easier to use the `let i++` shorthand.  "
   ]
  },
  {
   "cell_type": "code",
   "execution_count": null,
   "metadata": {
    "vscode": {
     "languageId": "shellscript"
    }
   },
   "outputs": [],
   "source": [
    "# Now you try. Create the script above by inputting the code into the code block below\n",
    "# 2.4\n",
    "code_for_script = '''#!/bin/bash\n",
    "  \n",
    "\n",
    "'''\n",
    "\n",
    "with open('args2.sh', mode='w') as file:\n",
    "    file.write(code_for_script)"
   ]
  },
  {
   "cell_type": "code",
   "execution_count": null,
   "metadata": {
    "vscode": {
     "languageId": "shellscript"
    }
   },
   "outputs": [],
   "source": [
    "# Now run the args2.sh script to test it.\n",
    "!chmod +x args2.sh\n",
    "!./args2.sh\n",
    "!./args2.sh foo\n",
    "!./args2.sh foo bar \"baz quux\""
   ]
  },
  {
   "cell_type": "markdown",
   "metadata": {},
   "source": [
    "#### What do you see?\n",
    "\n",
    "Notice that \"baz quux\" seen as a single argument because it was placed in quotes; otherwise arguments are separated by spaces."
   ]
  },
  {
   "cell_type": "markdown",
   "metadata": {},
   "source": [
    "#### Sidebar: Make It Pretty \\(or else\\)\n",
    "\n",
    "Note that indentation doesn't matter as the program below works, but, honestly, which one is easier for you to read?\n",
    "\n",
    "```\n",
    "$ cat -n args3.sh\n",
    "     1    #!/bin/bash\n",
    "     2\n",
    "     3    if [[ $# -lt 1 ]]; then\n",
    "     4    echo \"There are no arguments\"\n",
    "     5    else\n",
    "     6    i=0\n",
    "     7    for ARG in \"$@\"; do\n",
    "     8    let i++\n",
    "     9    echo \"$i: $ARG\"\n",
    "    10    done\n",
    "    11    fi\n",
    "$ ./args3.sh foo bar\n",
    "1: foo\n",
    "2: bar\n",
    "```"
   ]
  },
  {
   "cell_type": "markdown",
   "metadata": {},
   "source": [
    "#### Sidebar: Catching Common Errors \\(set -u\\)\n",
    "\n",
    "bash is a notoriously easy language to write incorrectly.  One step you can take to ensure you don't misspell variables is to add `set -u` at the top of your script.  E.g., if you type `echo $HOEM` on the command line, you'll get no output or warning that you misspelled the `$HOME` variable unless you `set -u`:\n",
    "\n",
    "```\n",
    "$ echo $HOEM\n",
    "\n",
    "$ set -u\n",
    "$ echo $HOEM\n",
    "-bash: HOEM: unbound variable\n",
    "```"
   ]
  },
  {
   "cell_type": "markdown",
   "metadata": {},
   "source": [
    "#### You can avoid bugs with set -u, but there are other gotchas...\n",
    "\n",
    "set -u tells bash to complain when you use a variable that was never initialized to some value. This is like putting on your helmet.  It's not a requirement \\(depending on which state you live in\\), but you absolutely should do this because there might come a day when you misspell a variable.  Note that this will not save you from as error like this:\n",
    "\n",
    "```\n",
    "$ cat -n set-u-bug1.sh\n",
    "     1    #!/bin/bash\n",
    "     2\n",
    "     3    set -u\n",
    "     4\n",
    "     5    if [[ $# -gt 0 ]]; then\n",
    "     6      echo $THIS_IS_A_BUG; # never initialized\n",
    "     7    fi\n",
    "     8\n",
    "     9    echo \"OK\";\n",
    "\n",
    "$ ./set-u-bug1.sh\n",
    "OK\n",
    "\n",
    "$ ./set-u-bug1.sh foo\n",
    "./set-u-bug1.sh: line 6: THIS_IS_A_BUG: unbound variable\n",
    "```\n",
    "\n",
    "You can see that the first execution of the script ran just fine. There is a bug on line 6, but bash didn't catch it because that line did not execute.  On the second run, the error occurred, and the script blew up.  \\(FWIW, this is a problem in Python, too.\\)\n"
   ]
  },
  {
   "cell_type": "markdown",
   "metadata": {},
   "source": [
    "#### Here's another pernicious error:\n",
    "\n",
    "```\n",
    "$ cat -n set-u-bug2.sh\n",
    "     1    #!/bin/bash\n",
    "     2\n",
    "     3    set -u\n",
    "     4\n",
    "     5    GREETING=\"Hi\"\n",
    "     6    if [[ $# -gt 0 ]]; then\n",
    "     7      GRETING=$1 # misspelled\n",
    "     8    fi\n",
    "     9\n",
    "    10    echo $GREETING\n",
    "$ ./set-u-bug2.sh\n",
    "Hi\n",
    "$ ./set-u-bug2.sh Hello\n",
    "Hi\n",
    "```\n",
    "\n",
    "Did `set -u` help us? Tell me why or why not by creating a README1.txt file about this.\n",
    "\n",
    "NB: I highly recommend you use the program `shellcheck` \\([https://www.shellcheck.net/\\](https://www.shellcheck.net/%29\\) to find errors in your bash code."
   ]
  },
  {
   "cell_type": "code",
   "execution_count": null,
   "metadata": {
    "vscode": {
     "languageId": "shellscript"
    }
   },
   "outputs": [],
   "source": [
    "# Write a README1.txt file about the error above, did set -u help? why or why not?\n",
    "# 2.5\n",
    "!echo \"Describe the error here\" > README1.txt"
   ]
  },
  {
   "cell_type": "markdown",
   "metadata": {},
   "source": [
    "### Section 3: Our First Argument\n",
    "\n",
    "AT LAST, let's return to our \"hello\" script!\n",
    "\n",
    "```\n",
    "$ cat -n hello3.sh\n",
    "     1    #!/bin/bash\n",
    "     2\n",
    "     3    echo \"Hello, $1!\"\n",
    "$ ./hello3.sh Captain\n",
    "Hello, Captain!\n",
    "```\n",
    "\n",
    "This should make perfect sense now.  We are simply saying \"hello\" to the first argument, but what happens if we provide no arguments?"
   ]
  },
  {
   "cell_type": "code",
   "execution_count": null,
   "metadata": {
    "vscode": {
     "languageId": "shellscript"
    }
   },
   "outputs": [],
   "source": [
    "# Now you try. Create the script above by inputting the code into the code block below\n",
    "# 3.1\n",
    "code_for_script = '''#!/bin/bash\n",
    "  \n",
    "\n",
    "'''\n",
    "\n",
    "with open('hello3.sh', mode='w') as file:\n",
    "    file.write(code_for_script)"
   ]
  },
  {
   "cell_type": "markdown",
   "metadata": {},
   "source": []
  },
  {
   "cell_type": "code",
   "execution_count": null,
   "metadata": {
    "vscode": {
     "languageId": "shellscript"
    }
   },
   "outputs": [],
   "source": [
    "'''\n",
    "Type the command below, and run the cell\n",
    "3.2 write a command to make hello3.sh executable\n",
    "3.3 run hello.sh with no arguments\n",
    "'''\n"
   ]
  },
  {
   "cell_type": "markdown",
   "metadata": {},
   "source": [
    "#### Checking the Number of Arguments\n",
    "\n",
    "Well, that looks bad.  We should check that the script has the proper number of arguments which is 1:\n",
    "\n",
    "```\n",
    "$ cat -n hello4.sh\n",
    "     1    #!/bin/bash\n",
    "     2\n",
    "     3    if [[ $# -ne 1 ]]; then\n",
    "     4        printf \"Usage: %s NAME\\n\" \"$(basename \"$0\")\"\n",
    "     5        exit 1\n",
    "     6    fi\n",
    "     7\n",
    "     8    echo \"Hello, $1!\"\n",
    "\n",
    "$ ./hello4.sh\n",
    "Usage: hello4.sh NAME\n",
    "\n",
    "$ ./hello4.sh Captain\n",
    "Hello, Captain!\n",
    "\n",
    "$ ./hello4.sh Captain Picard\n",
    "Usage: hello4.sh NAME\n",
    "```"
   ]
  },
  {
   "cell_type": "code",
   "execution_count": null,
   "metadata": {
    "vscode": {
     "languageId": "shellscript"
    }
   },
   "outputs": [],
   "source": [
    "# Now you try. Create the script above by inputting the code into the code block below\n",
    "# 3.4\n",
    "code_for_script = '''#!/bin/bash\n",
    "  \n",
    "\n",
    "'''\n",
    "\n",
    "with open('hello4.sh', mode='w') as file:\n",
    "    file.write(code_for_script)"
   ]
  },
  {
   "cell_type": "code",
   "execution_count": null,
   "metadata": {},
   "outputs": [],
   "source": [
    "'''\n",
    "Type the commands below, and run the cell\n",
    "3.5 write a command to make hello4.sh executable\n",
    "3.6 run hello4.sh with the example arguments above\n",
    "'''"
   ]
  },
  {
   "cell_type": "code",
   "execution_count": null,
   "metadata": {
    "vscode": {
     "languageId": "shellscript"
    }
   },
   "outputs": [],
   "source": [
    "# Now, tell me line by line what the hello4.sh script is doing. Create a README2.txt file with your explaination.\n",
    "!echo \"This is my explaination.\" > README2.txt"
   ]
  },
  {
   "cell_type": "markdown",
   "metadata": {},
   "source": [
    "#### What else can we do?\n",
    "\n",
    "Here is an alternate way to write this script:\n",
    "\n",
    "```\n",
    "$ cat -n hello5.sh\n",
    "     1    #!/bin/bash\n",
    "     2\n",
    "     3    if [[ $# -eq 1 ]]; then\n",
    "     4        NAME=$1\n",
    "     5        echo \"Hello, $NAME!\"\n",
    "     6    else\n",
    "     7        printf \"Usage: %s NAME\\n\" \"$(basename \"$0\")\"\n",
    "     8        exit 1\n",
    "     9    fi\n",
    "```\n",
    "\n",
    "Here I check on line 3 if there is just one argument, and the `else` is devoted to handling the error; however, I prefer to check for all possible errors at the beginning and `exit` the program quickly. This also has the effect of keeping my code as far left on the page as possible."
   ]
  },
  {
   "cell_type": "code",
   "execution_count": null,
   "metadata": {
    "vscode": {
     "languageId": "shellscript"
    }
   },
   "outputs": [],
   "source": [
    "# Now you try. Create the script above by inputting the code into the code block below\n",
    "# 3.7\n",
    "code_for_script = '''#!/bin/bash\n",
    "  \n",
    "\n",
    "'''\n",
    "\n",
    "with open('hello5.sh', mode='w') as file:\n",
    "    file.write(code_for_script)"
   ]
  },
  {
   "cell_type": "code",
   "execution_count": null,
   "metadata": {},
   "outputs": [],
   "source": [
    "'''\n",
    "Type the commands below, and run the cell\n",
    "3.7 write a command to make hello5.sh executable\n",
    "3.8 run hello5.sh with the example arguments above\n",
    "'''"
   ]
  },
  {
   "cell_type": "markdown",
   "metadata": {},
   "source": [
    "#### Sidebar: Saving Function Results\n",
    "\n",
    "In the previous script, you may have noticed `$(basename \"$0\")`.  I was passing the script name \\(`$0`\\) to the function `basename` and then passing that to the `printf` function.  \n",
    "\n",
    "To call a function in bash and save the results into a variable or use the results as an argument, we can use either backticks \\(\\`\\`\\) \\(under the `~` on a US keyboard\\) or `$()`.  I find backticks to be too similar to single quotes, so I prefer the latter.  To demonstrate:\n",
    "\n",
    "    $ ls | head\n",
    "    args.sh*\n",
    "    args2.sh*\n",
    "    args3.sh*\n",
    "    basic.sh*\n",
    "    hello.sh*\n",
    "    hello2.sh*\n",
    "    hello3.sh*\n",
    "    hello4.sh*\n",
    "    hello5.sh*\n",
    "\n",
    "    $ FILES=`ls | head`\n",
    "    $ echo $FILES\n",
    "    \n",
    "    args.sh args2.sh args3.sh basic.sh hello.sh hello2.sh hello3.sh hello4.sh hello5.sh\n"
   ]
  },
  {
   "cell_type": "markdown",
   "metadata": {},
   "source": [
    "### Section 4: Providing Default Argument Values\n",
    "\n",
    "Here is how you can provide a default value for an argument with `:-`:\n",
    "\n",
    "```\n",
    "$ cat -n hello6.sh\n",
    "     1    #!/bin/bash\n",
    "     2\n",
    "     3    echo \"Hello, ${1:-Stranger}!\"\n",
    "\n",
    "$ ./hello6.sh\n",
    "Hello, Stranger!\n",
    "\n",
    "$ ./hello6.sh Govnuh\n",
    "Hello, Govnuh!\n",
    "```"
   ]
  },
  {
   "cell_type": "code",
   "execution_count": null,
   "metadata": {
    "vscode": {
     "languageId": "shellscript"
    }
   },
   "outputs": [],
   "source": [
    "# Now you try. Create the script above by inputting the code into the code block below\n",
    "# 4.1\n",
    "code_for_script = '''#!/bin/bash\n",
    "  \n",
    "\n",
    "'''\n",
    "\n",
    "with open('hello6.sh', mode='w') as file:\n",
    "    file.write(code_for_script)"
   ]
  },
  {
   "cell_type": "code",
   "execution_count": null,
   "metadata": {},
   "outputs": [],
   "source": [
    "'''\n",
    "Type the commands below, and run the cell\n",
    "4.2 write a command to make hello6.sh executable\n",
    "4.3 run hello6.sh with the example arguments above\n",
    "'''"
   ]
  },
  {
   "cell_type": "markdown",
   "metadata": {},
   "source": [
    "### Section 5: Arguments from the Environment\n",
    "\n",
    "You can also use look in the environment for argument values.  For instance, we could accept the `NAME` as either the first argument to the script \\(`$1`\\) or the `$USER` from the environment:\n",
    "\n",
    "```\n",
    "$ cat -n hello7.sh\n",
    "     1    #!/bin/bash\n",
    "     2\n",
    "     3    NAME=${1:-$USER}\n",
    "     4    [[ -z \"$NAME\" ]] && NAME='Stranger'\n",
    "     5    echo \"Hello, $NAME\n",
    "$ ./hello7.sh\n",
    "Hello, bhurwitz\n",
    "$ ./hello7.sh Barbara\n",
    "Hello, Barbara\n",
    "```"
   ]
  },
  {
   "cell_type": "code",
   "execution_count": null,
   "metadata": {
    "vscode": {
     "languageId": "shellscript"
    }
   },
   "outputs": [],
   "source": [
    "# Now you try. Create the script above by inputting the code into the code block below\n",
    "# 5.1\n",
    "code_for_script = '''#!/bin/bash\n",
    "  \n",
    "\n",
    "'''\n",
    "\n",
    "with open('hello7.sh', mode='w') as file:\n",
    "    file.write(code_for_script)"
   ]
  },
  {
   "cell_type": "code",
   "execution_count": null,
   "metadata": {},
   "outputs": [],
   "source": [
    "'''\n",
    "Type the commands below, and run the cell\n",
    "5.2 write a command to make hello7.sh executable\n",
    "5.3 run hello7.sh with the example arguments above (or try your own!)\n",
    "'''"
   ]
  },
  {
   "cell_type": "markdown",
   "metadata": {},
   "source": [
    "#### Let's play around with this...\n",
    "\n",
    "What happens when you override a variable like so?\n",
    "\n",
    "```\n",
    "$ USER=Bart ./hello7.sh\n",
    "Hello, Bart\n",
    "$ ./hello7.sh\n",
    "Hello, bhurwitz\n",
    "```"
   ]
  },
  {
   "cell_type": "code",
   "execution_count": null,
   "metadata": {
    "vscode": {
     "languageId": "shellscript"
    }
   },
   "outputs": [],
   "source": [
    "# Write a README file that describes what is happening above.\n",
    "# 5.4\n",
    "!echo \"This is my explaination.\" > README3.txt"
   ]
  },
  {
   "cell_type": "markdown",
   "metadata": {},
   "source": [
    "### Section 6: Exporting Values to the Environment\n",
    "\n",
    "Notice that I can set `USER` for the first run to \"Bart,\" but the value returns to \"bhurwitz\" on the next run.  I can permanently set a value in the environment by using the `export` command.  Here is a version of the script that looks for an environmental variable called `WHOM` \\(please do not override your `$USER` name in the environment as things will break\\):\n",
    "\n",
    "```\n",
    "$ cat -n hello8.sh\n",
    "     1    #!/bin/bash\n",
    "     2\n",
    "     3    echo \"Hello, ${WHOM:-Marie}\"\n",
    "$ ./hello8.sh\n",
    "Hello, Marie\n",
    "```\n",
    "\n",
    "As before I can set it temporarily:\n",
    "\n",
    "```\n",
    "$ WHOM=Doris ./hello8.sh\n",
    "Hello, Doris\n",
    "$ ./hello8.sh\n",
    "Hello, Marie\n",
    "```\n",
    "\n",
    "Now I will `export WHOM` so that it persists:\n",
    "\n",
    "```\n",
    "$ WHOM=Doris\n",
    "$ export WHOM\n",
    "$ ./hello8.sh\n",
    "Hello, Doris\n",
    "$ ./hello8.sh\n",
    "Hello, Doris\n",
    "```\n",
    "\n",
    "To remove `WHOM` from the environment, use `unset`:\n",
    "\n",
    "```\n",
    "$ unset WHOM\n",
    "$ ./hello8.sh\n",
    "Hello, Marie\n",
    "```"
   ]
  },
  {
   "cell_type": "markdown",
   "metadata": {},
   "source": [
    "#### Let's try working with environmental variables\n",
    "\n",
    "Some programs rely heavily on environmental variables \\(e.g., bioinformatics programs like Centrifuge\\) for arguments.  Here is a short script to illustrate how you would use such a program:\n",
    "\n",
    "```\n",
    "$ cat -n hello9.sh\n",
    "     1    #!/bin/bash\n",
    "     2\n",
    "     3    WHOM=\"Who's on first\" ./hello8.sh\n",
    "     4    WHOM=\"What's on second\"\n",
    "     5    export WHOM\n",
    "     6    ./hello8.sh\n",
    "     7    WHOM=\"I don't know's on third\" ./hello8.sh\n",
    "\n",
    "$ ./hello9.sh\n",
    "Hello, Who's on first\n",
    "Hello, What's on second\n",
    "Hello, I don't know's on third\n",
    "```"
   ]
  },
  {
   "cell_type": "markdown",
   "metadata": {},
   "source": [
    "#### Required and Optional Arguments\n",
    "\n",
    "Now we're going to accept two arguments, \"GREETING\" and \"NAME\" while providing defaults for both:\n",
    "\n",
    "```\n",
    "$ cat -n positional.sh\n",
    "     1    #!/bin/bash\n",
    "     2\n",
    "     3    set -u\n",
    "     4\n",
    "     5    GREETING=${1:-Hello}\n",
    "     6    NAME=${2:-Stranger}\n",
    "     7\n",
    "     8    echo \"$GREETING, $NAME\"\n",
    "\n",
    "```"
   ]
  },
  {
   "cell_type": "code",
   "execution_count": null,
   "metadata": {},
   "outputs": [],
   "source": [
    "# Now you try. Create the script above by inputting the code into the code block below\n",
    "# 6.1 \n",
    "code_for_script = '''#!/bin/bash\n",
    "  \n",
    "\n",
    "'''\n",
    "\n",
    "with open('positional.sh', mode='w') as file:\n",
    "    file.write(code_for_script)"
   ]
  },
  {
   "cell_type": "code",
   "execution_count": null,
   "metadata": {
    "vscode": {
     "languageId": "shellscript"
    }
   },
   "outputs": [],
   "source": [
    "# Test the script with the following arguments\n",
    "!chmod +x positional.sh\n",
    "!./positional.sh\n",
    "!./positional.sh Howdy\n",
    "!./positional.sh Howdy Padnuh\n",
    "!./positional.sh \"\" Pahnuh"
   ]
  },
  {
   "cell_type": "markdown",
   "metadata": {},
   "source": [
    "#### You should get something like this. Did it work?\n",
    "\n",
    "```\n",
    "$ ./positional.sh\n",
    "Hello, Stranger\n",
    "$ ./positional.sh Howdy\n",
    "Howdy, Stranger\n",
    "$ ./positional.sh Howdy Padnuh\n",
    "Howdy, Padnuh\n",
    "$ ./positional.sh \"\" Pahnuh\n",
    "Hello, Pahnuh\n",
    "```\n",
    "\n",
    "You'll notice that if I want to use the default argument for the greeting, I have to pass an empty string `\"\"`."
   ]
  },
  {
   "cell_type": "markdown",
   "metadata": {},
   "source": [
    "#### What if I want to require at least one argument?\n",
    "\n",
    "```\n",
    "$ cat -n positional2.sh\n",
    "     1    #!/bin/bash\n",
    "     2\n",
    "     3    set -u\n",
    "     4\n",
    "     5    if [[ $# -lt 1 ]]; then\n",
    "     6        printf \"Usage: %s GREETING [NAME]\\n\" \"$(basename \"$0\")\"\n",
    "     7        exit 1\n",
    "     8    fi\n",
    "     9\n",
    "    10    GREETING=$1\n",
    "    11    NAME=${2:-Stranger}\n",
    "    12\n",
    "    13    echo \"$GREETING, $NAME\"\n",
    "```\n"
   ]
  },
  {
   "cell_type": "code",
   "execution_count": null,
   "metadata": {},
   "outputs": [],
   "source": [
    "# Now you try. Create the script above by inputting the code into the code block below\n",
    "# 6.2\n",
    "code_for_script = '''#!/bin/bash\n",
    "set -u\n",
    "    \n",
    "'''\n",
    "\n",
    "with open('positional2.sh', mode='w') as file:\n",
    "    file.write(code_for_script)"
   ]
  },
  {
   "cell_type": "code",
   "execution_count": null,
   "metadata": {
    "vscode": {
     "languageId": "shellscript"
    }
   },
   "outputs": [],
   "source": [
    "# Try it out\n",
    "!chmod +x positional2.sh\n",
    "!./positional2.sh \"Good Day\"\n",
    "!./positional2.sh \"Good Day\" \"Kind Sir\""
   ]
  },
  {
   "cell_type": "markdown",
   "metadata": {},
   "source": [
    "#### Did you get something like this?\n",
    "\n",
    "```\n",
    "$ ./positional2.sh \"Good Day\"\n",
    "Good Day, Stranger\n",
    "$ ./positional2.sh \"Good Day\" \"Kind Sir\"\n",
    "Good Day, Kind Sir\n",
    "```\n",
    "\n",
    "It's also important to note the subtle hints given to the user in the \"Usage\" statement.  `[NAME]` has square brackets to indicate that it is an option, but `GREETING` does not to say it is required.  As noted before I wanted to use the GREETING \"Good Day,\" so I had to put it in quotes so that the shell would not interpret them as two arguments.  Same with the NAME \"Kind Sir.\""
   ]
  },
  {
   "cell_type": "code",
   "execution_count": null,
   "metadata": {
    "vscode": {
     "languageId": "shellscript"
    }
   },
   "outputs": [],
   "source": [
    "!./positional2.sh Good Day Kind Sir"
   ]
  },
  {
   "cell_type": "code",
   "execution_count": null,
   "metadata": {},
   "outputs": [],
   "source": [
    "# Write a README file below that explains the output for the command above.\n",
    "# 6.3\n",
    "!echo \"This is my explaination.\" > README4.txt"
   ]
  },
  {
   "cell_type": "markdown",
   "metadata": {},
   "source": [
    "#### Not Too Few, Not Too Many \\(Goldilocks\\)\n",
    "\n",
    "Hmm, maybe we should detect that the script had too many arguments?\n",
    "\n",
    "```\n",
    "$ cat -n positional3.sh\n",
    "     1    #!/bin/bash\n",
    "     2\n",
    "     3    set -u\n",
    "     4\n",
    "     5    if [[ $# -lt 1 ]] || [[ $# -gt 2 ]]; then\n",
    "     6        printf \"Usage: %s GREETING [NAME]\\n\" \"$(basename \"$0\")\"\n",
    "     7        exit 1\n",
    "     8    fi\n",
    "     9\n",
    "    10    GREETING=$1\n",
    "    11    NAME=${2:-Stranger}\n",
    "    12\n",
    "    13    printf \"%s, %s\\n\" \"$GREETING\" \"$NAME\"\n",
    "```"
   ]
  },
  {
   "cell_type": "code",
   "execution_count": null,
   "metadata": {},
   "outputs": [],
   "source": [
    "# Now you try. Create the script above by inputting the code into the code block below\n",
    "# 6.4\n",
    "code_for_script = '''#!/bin/bash\n",
    "  \n",
    "\n",
    "'''\n",
    "\n",
    "with open('positional3.sh', mode='w') as file:\n",
    "    file.write(code_for_script)"
   ]
  },
  {
   "cell_type": "code",
   "execution_count": null,
   "metadata": {
    "vscode": {
     "languageId": "shellscript"
    }
   },
   "outputs": [],
   "source": [
    "# Test with the following arguments\n",
    "!chmod +x positional3.sh\n",
    "!./positional3.sh Good Day Kind Sir\n",
    "!./positional3.sh \"Good Day\" \"Kind Sir\""
   ]
  },
  {
   "cell_type": "markdown",
   "metadata": {},
   "source": [
    "#### Did you see something like this:\n",
    "\n",
    "```\n",
    "$ ./positional3.sh Good Day Kind Sir\n",
    "Usage: positional3.sh GREETING [NAME]\n",
    "$ ./positional3.sh \"Good Day\" \"Kind Sir\"\n",
    "Good Day, Kind Sir\n",
    "```\n",
    "\n",
    "To check for too many arguments, I added an \"OR\" \\(the double pipes `||`\\) and another conditional \\(\"AND\" is `&&`\\).  I also changed line 13 to use a `printf` command to highlight the importance of quoting the arguments _inside the script_ so that bash won't get confused.  Try it without those quotes and try to figure out why it's doing what it's doing.  I highly recommend using the program \"shellcheck\" \\([https://github.com/koalaman/shellcheck](https://github.com/koalaman/shellcheck)\\) to find mistakes like this.\n"
   ]
  },
  {
   "cell_type": "markdown",
   "metadata": {},
   "source": [
    "### Section 7: Named Arguments To The Rescue\n",
    "\n",
    "I hope maybe by this point you're thinking that the script is getting awfully complicated just to allow for a combination of required an optional arguments all given in a particular order.  You can manage with 1-3 positional arguments, but, after that, we really need to have named arguments and/or flags to indicate how we want to run the program.  A named argument might be `-f mouse.fa` to indicate the value for the `-f` \\(\"file,\" probably\\) argument is \"mouse.fa,\" whereas a flag like `-v` might be a yes/no \\(\"Boolean,\" if you like\\) indicator that we do or do not want \"verbose\" mode.  You've encountered these with programs like `ls -l` to indicate you want the \"long\" directory listing or `ps -u $USER` to indicate the value for `-u` is the `$USER`.\n",
    "\n",
    "The best thing about named arguments is that they can be provided in any order:\n",
    "\n",
    "```\n",
    "$ ./named.sh -n Patch -g \"Good Boy\"\n",
    "Good Boy, Patch!\n",
    "```\n",
    "\n",
    "Some may have values, some may be flags, and you can easily provide good defaults to make it easy for the user to provide the bare minimum information to run your program. Here is a version that has named arguments:\n",
    "\n",
    "```\n",
    "$ cat -n named.sh\n",
    "     1\t#!/bin/bash\n",
    "     2\t\n",
    "     3\tset -u\n",
    "     4\t\n",
    "     5\tGREETING=\"\"\n",
    "     6\tNAME=\"Stranger\"\n",
    "     7\tEXCITED=0\n",
    "     8\t\n",
    "     9\tfunction USAGE() {\n",
    "    10\t    printf \"Usage:\\n  %s -g GREETING [-e] [-n NAME]\\n\\n\" $(basename $0)\n",
    "    11\t    echo \"Required arguments:\"\n",
    "    12\t    echo \" -g GREETING\"\n",
    "    13\t    echo\n",
    "    14\t    echo \"Options:\"\n",
    "    15\t    echo \" -n NAME ($NAME)\"\n",
    "    16\t    echo \" -e Print exclamation mark (default yes)\"\n",
    "    17\t    echo \n",
    "    18\t    exit ${1:-0}\n",
    "    19\t}\n",
    "    20\t\n",
    "    21\t[[ $# -eq 0 ]] && USAGE 1\n",
    "    22\t\n",
    "    23\twhile getopts :g:n:eh OPT; do\n",
    "    24\t  case $OPT in\n",
    "    25\t    h)\n",
    "    26\t      USAGE\n",
    "    27\t      ;;\n",
    "    28\t    e)\n",
    "    29\t      EXCITED=1\n",
    "    30\t      ;;\n",
    "    31\t    g)\n",
    "    32\t      GREETING=\"$OPTARG\"\n",
    "    33\t      ;;\n",
    "    34\t    n)\n",
    "    35\t      NAME=\"$OPTARG\"\n",
    "    36\t      ;;\n",
    "    37\t    :)\n",
    "    38\t      echo \"Error: Option -$OPTARG requires an argument.\"\n",
    "    39\t      exit 1\n",
    "    40\t      ;;\n",
    "    41\t    \\?)\n",
    "    42\t      echo \"Error: Invalid option: -${OPTARG:-\"\"}\"\n",
    "    43\t      exit 1\n",
    "    44\t  esac\n",
    "    45\tdone\n",
    "    46\t\n",
    "    47\t[[ -z \"$GREETING\" ]] && USAGE 1\n",
    "    48\tPUNCTUATION=\".\"\n",
    "    49\t[[ $EXCITED -ne 0 ]] && PUNCTUATION=\"!\"\n",
    "    50\t\n",
    "    51\techo \"$GREETING, $NAME$PUNCTUATION\"\n",
    "\n",
    "```"
   ]
  },
  {
   "cell_type": "code",
   "execution_count": null,
   "metadata": {
    "vscode": {
     "languageId": "shellscript"
    }
   },
   "outputs": [],
   "source": [
    "# Now you try. Create the script above by inputting the code into the code block below\n",
    "# 7.1\n",
    "code_for_script = '''#!/bin/bash\n",
    "  \n",
    "\n",
    "'''\n",
    "\n",
    "with open('named.sh', mode='w') as file:\n",
    "    file.write(code_for_script)"
   ]
  },
  {
   "cell_type": "code",
   "execution_count": null,
   "metadata": {},
   "outputs": [],
   "source": [
    "# try to run it without arguments:\n",
    "!chmod +x named.sh\n",
    "!./named.sh"
   ]
  },
  {
   "cell_type": "code",
   "execution_count": null,
   "metadata": {},
   "outputs": [],
   "source": [
    "# Test the code using the examples above"
   ]
  },
  {
   "cell_type": "markdown",
   "metadata": {},
   "source": [
    "#### When run without arguments or with the `-h` flag, it produces a help message. \n",
    "\n",
    "```\n",
    "$ ./named.sh\n",
    "Usage:\n",
    "  named.sh -g GREETING [-e] [-n NAME]\n",
    "\n",
    "Required arguments:\n",
    " -g GREETING\n",
    "\n",
    "Options:\n",
    " -n NAME (Stranger)\n",
    " -e Print exclamation mark (default yes)\n",
    "```\n",
    "\n",
    "Our script just got much longer but also more flexible.  I've written a hundred shell scripts with just this as the template, so you can, too.  Go search for how `getopt` works and copy-paste this for your bash scripts, but the important thing to understand about `getopt` is that flags that take arguments have a `:` after them \\(`g:` == \"-g something\"\\) and ones that do not, well, do not \\(`h` == \"-h\" == \"please show me the help page\\).  Both the \"h\" and \"e\" arguments are flags:\n",
    "\n",
    "```\n",
    "$ ./named.sh -n Patch -g \"Good Boy\"\n",
    "Good Boy, Patch.\n",
    "$ ./named.sh -n Patch -g \"Good Boy\" -e\n",
    "Good Boy, Patch!\n",
    "```\n",
    "\n",
    "I've introduced a new function called `USAGE` that prints out the \"Usage\" statement so that it can be called when:\n",
    "\n",
    "* the script is run with no arguments \\(line 21\\)\n",
    "* the script is run with the \"-h\" flag \\(lines 25-26\\)\n",
    "* the script is run with bad input \\(line 47\\)\n",
    "\n",
    "I initialized the NAME to \"Stranger\" \\(line 6\\) and then let the user know in the \"Usage\" what the default value will be.  When checking the GREETING in line 44, I'm actually checking that the length of the value is greater than zero because it's possible to run the script like this:\n",
    "\n",
    "```\n",
    "$ ./named01.sh -g \"\"\n",
    "```\n",
    "\n",
    "Which would technically pass muster but does not actually meet our requirements."
   ]
  },
  {
   "cell_type": "markdown",
   "metadata": {},
   "source": [
    "### Section 8:  Reading a Configuration File\n",
    "\n",
    "The last way I'll show you to get data into your program is to read a configuration file.  This builds on the earlier example of using `export` to put values into the environment:\n",
    "\n",
    "```\n",
    "$ cat -n config1.sh\n",
    "     1\texport NAME=\"Merry Boy\"\n",
    "     2\texport GREETING=\"Good morning\"\n",
    "$ cat -n read-config.sh\n",
    "     1\t#!/bin/bash\n",
    "     2\n",
    "     3\tsource config1.sh\n",
    "     4\techo \"$GREETING, $NAME!\"\n",
    "$ ./read-config.sh\n",
    "Good morning, Merry Boy!\n",
    "```"
   ]
  },
  {
   "cell_type": "code",
   "execution_count": null,
   "metadata": {
    "vscode": {
     "languageId": "shellscript"
    }
   },
   "outputs": [],
   "source": [
    "# Now you try. Create the script above by inputting the code into the code block below\n",
    "# 8.1\n",
    "code_for_script = '''\n",
    "  \n",
    "\n",
    "'''\n",
    "\n",
    "with open('config1.sh', mode='w') as file:\n",
    "    file.write(code_for_script)"
   ]
  },
  {
   "cell_type": "code",
   "execution_count": null,
   "metadata": {},
   "outputs": [],
   "source": [
    "# now write the read-config.sh file above that reads the config file \n",
    "# 8.2\n",
    "code_for_script = '''#!/bin/bash\n",
    "  \n",
    "\n",
    "'''\n",
    "\n",
    "with open('read-config.sh', mode='w') as file:\n",
    "    file.write(code_for_script)\n"
   ]
  },
  {
   "cell_type": "code",
   "execution_count": null,
   "metadata": {},
   "outputs": [],
   "source": [
    "!chmod +x config1.sh\n",
    "!chmod +x read-config.sh"
   ]
  },
  {
   "cell_type": "code",
   "execution_count": null,
   "metadata": {},
   "outputs": [],
   "source": [
    "# Test the code using the examples above"
   ]
  },
  {
   "cell_type": "markdown",
   "metadata": {},
   "source": [
    "#### To make this more flexible, let's pass the config file as an argument:\n",
    "\n",
    "```\n",
    "$ cat -n read-config2.sh\n",
    "     1\t#!/bin/bash\n",
    "     2\n",
    "     3\tCONFIG=${1:-config1.sh}\n",
    "     4\tif [[ ! -f \"$CONFIG\" ]]; then\n",
    "     5\t    echo \"Bad config \\\"$CONFIG\\\"\"\n",
    "     6\t    exit 1\n",
    "     7\tfi\n",
    "     8\n",
    "     9\tsource $CONFIG\n",
    "    10\techo \"$GREETING, $NAME!\"\n",
    "```"
   ]
  },
  {
   "cell_type": "code",
   "execution_count": null,
   "metadata": {},
   "outputs": [],
   "source": [
    "# now write the read-config2.sh file above that reads the config file\n",
    "# 8.3 \n",
    "code_for_script = '''#!/bin/bash\n",
    "  \n",
    "\n",
    "'''\n",
    "\n",
    "with open('read-config2.sh', mode='w') as file:\n",
    "    file.write(code_for_script)\n"
   ]
  },
  {
   "cell_type": "code",
   "execution_count": null,
   "metadata": {
    "vscode": {
     "languageId": "shellscript"
    }
   },
   "outputs": [],
   "source": [
    "# create a config2.sh file with the following:\n",
    "# export NAME=\"Francis\"\n",
    "# export GREETING=\"Salut\"\n",
    "# 8.4\n",
    "code_for_script = '''\n",
    "  \n",
    "\n",
    "'''\n",
    "\n",
    "with open('config2.sh', mode='w') as file:\n",
    "    file.write(code_for_script)"
   ]
  },
  {
   "cell_type": "code",
   "execution_count": null,
   "metadata": {},
   "outputs": [],
   "source": [
    "# Try it out with the following tests\n",
    "!chmod +x read-config2.sh\n",
    "!chmod +x config2.sh\n",
    "!./read-config2.sh\n",
    "!./read-config2.sh config2.sh\n",
    "!./read-config2.sh foo"
   ]
  },
  {
   "cell_type": "markdown",
   "metadata": {},
   "source": [
    "#### You should see something like the following:\n",
    "\n",
    "```\n",
    "$ ./read-config2.sh\n",
    "Good morning, Merry Boy!\n",
    "$ cat -n config2.sh\n",
    "     1\texport NAME=\"François\"\n",
    "     2\texport GREETING=\"Salut\"\n",
    "$ ./read-config2.sh config2.sh\n",
    "Salut, François!\n",
    "$ ./read-config2.sh foo\n",
    "Bad config \"foo\"\n",
    "```"
   ]
  },
  {
   "cell_type": "markdown",
   "metadata": {},
   "source": [
    "### Section 9: For Loops\n",
    "\n",
    "Often we want to do some set of actions for all the files in a directory or all the identifiers in a file.  You can use a `for` loop to iterate over the values in some command that returns a list of results:\n",
    "\n",
    "```\n",
    "$ for FILE in *.sh; do echo \"FILE = $FILE\"; done\n",
    "FILE = args.sh\n",
    "FILE = args2.sh\n",
    "FILE = args3.sh\n",
    "FILE = basic.sh\n",
    "FILE = hello.sh\n",
    "FILE = hello2.sh\n",
    "FILE = hello3.sh\n",
    "FILE = hello4.sh\n",
    "FILE = hello5.sh\n",
    "FILE = hello6.sh\n",
    "FILE = named.sh\n",
    "FILE = positional.sh\n",
    "FILE = positional2.sh\n",
    "FILE = positional3.sh\n",
    "FILE = set-u-bug1.sh\n",
    "FILE = set-u-bug2.sh\n",
    "```\n",
    "\n",
    "Here it is in a script:\n",
    "\n",
    "```\n",
    "$ cat -n for.sh\n",
    "     1    #!/bin/bash\n",
    "     2\n",
    "     3    set -u\n",
    "     4\n",
    "     5    DIR=${1:-$PWD}\n",
    "     6\n",
    "     7    if [[ ! -d \"$DIR\" ]]; then\n",
    "     8        echo \"$DIR is not a directory\"\n",
    "     9        exit 1\n",
    "    10    fi\n",
    "    11\n",
    "    12    i=0\n",
    "    13    for FILE in $DIR/*; do\n",
    "    14        let i++\n",
    "    15        printf \"%3d: %s\\n\" $i \"$FILE\"\n",
    "    16    done\n",
    "```\n",
    "\n",
    "On line 5, I default `DIR` to the current working directory which I can find with the environmental variable `$PWD` \\(print working directory\\).  I check on line 7 that the argument is actually a directory with the `-d` test \\(`man test`\\).  The rest should look familiar."
   ]
  },
  {
   "cell_type": "code",
   "execution_count": null,
   "metadata": {
    "vscode": {
     "languageId": "shellscript"
    }
   },
   "outputs": [],
   "source": [
    "# now write the for.sh script.\n",
    "# 9.1\n",
    "code_for_script = '''#!/bin/bash\n",
    "  \n",
    "\n",
    "'''\n",
    "\n",
    "with open('for.sh', mode='w') as file:\n",
    "    file.write(code_for_script)"
   ]
  },
  {
   "cell_type": "code",
   "execution_count": null,
   "metadata": {},
   "outputs": [],
   "source": [
    "!chmod +x for.sh\n",
    "!./for.sh | head"
   ]
  },
  {
   "cell_type": "markdown",
   "metadata": {},
   "source": [
    "### Section 10: While Loops\n",
    "\n",
    "The proper way to read a file line-by-line is with `while`:\n",
    "\n",
    "```\n",
    "$ cat -n while.sh\n",
    "     1    #!/bin/bash\n",
    "     2\n",
    "     3    FILE=${1:-'srr.txt'}\n",
    "     4    while read -r LINE; do\n",
    "     5        echo \"LINE \\\"$LINE\\\"\"\n",
    "     6    done < \"$FILE\"\n",
    "```"
   ]
  },
  {
   "cell_type": "code",
   "execution_count": null,
   "metadata": {},
   "outputs": [],
   "source": [
    "# now write the while.sh script.\n",
    "# 10.1\n",
    "code_for_script = '''#!/bin/bash\n",
    "  \n",
    "\n",
    "'''\n",
    "\n",
    "with open('while.sh', mode='w') as file:\n",
    "    file.write(code_for_script)"
   ]
  },
  {
   "cell_type": "code",
   "execution_count": null,
   "metadata": {
    "vscode": {
     "languageId": "shellscript"
    }
   },
   "outputs": [],
   "source": [
    "# create a file with a few SRR ids (identifiers from the sequence read archive)\n",
    "!echo -e \"SRR311596\\nSRR516222\\nSRR919365\" > srr.txt\n",
    "!chmod +x while.sh\n",
    "!./while.sh srr.txt"
   ]
  },
  {
   "cell_type": "code",
   "execution_count": null,
   "metadata": {},
   "outputs": [],
   "source": [
    "# now create a metadata.txt file\n",
    "!echo \"GD.Spr.C.8m.fa -17.92522,146.14295\" >> metadata.txt\n",
    "!echo \"GF.Spr.C.9m.fa -16.9207,145.9965833\" >> metadata.txt\n",
    "!./while.sh metadata.txt"
   ]
  },
  {
   "cell_type": "markdown",
   "metadata": {},
   "source": [
    "#### Another advantage is that `while` can break the line into fields:\n",
    "\n",
    "```\n",
    "$ cat -n while2.sh\n",
    "     1    #!/bin/bash\n",
    "     2\n",
    "     3    FILE='metadata.txt'\n",
    "     4    while read -r SITE LOC; do\n",
    "     5        echo \"$SITE is located at \\\"$LOC\\\"\"\n",
    "     6    done < \"$FILE\"\n",
    "```"
   ]
  },
  {
   "cell_type": "code",
   "execution_count": null,
   "metadata": {
    "vscode": {
     "languageId": "shellscript"
    }
   },
   "outputs": [],
   "source": [
    "# now write the while2.sh script.\n",
    "# 10.2\n",
    "code_for_script = '''#!/bin/bash\n",
    "\n",
    "\n",
    "'''\n",
    "\n",
    "with open('while2.sh', mode='w') as file:\n",
    "    file.write(code_for_script)"
   ]
  },
  {
   "cell_type": "code",
   "execution_count": null,
   "metadata": {},
   "outputs": [],
   "source": [
    "# Try it out\n",
    "!chmod +x while2.sh\n",
    "!./while2.sh\n",
    "!./while2.sh metadata.txt"
   ]
  },
  {
   "cell_type": "markdown",
   "metadata": {},
   "source": [
    "#### Do you see something like this?\n",
    "\n",
    "```\n",
    "$ ./while2.sh metadata.txt\n",
    "GD.Spr.C.8m.fa is located at \"-17.92522,146.14295\"\n",
    "GF.Spr.C.9m.fa is located at \"-16.9207,145.9965833\"\n",
    "```\n"
   ]
  },
  {
   "cell_type": "markdown",
   "metadata": {},
   "source": [
    "### The End!\n",
    "\n",
    "Last step, copy your completed Jupyter notebook into your assignments directory. Be sure to save your notebook first."
   ]
  },
  {
   "cell_type": "code",
   "execution_count": null,
   "metadata": {},
   "outputs": [],
   "source": [
    "!cp ~/hw03_bash_scripting.ipynb /xdisk/bhurwitz/bh_class/$netid/assignments/hw03_bash_scripting.ipynb"
   ]
  }
 ],
 "metadata": {
  "kernelspec": {
   "display_name": "Python 3 (ipykernel)",
   "language": "python",
   "name": "python3"
  },
  "language_info": {
   "codemirror_mode": {
    "name": "ipython",
    "version": 3
   },
   "file_extension": ".py",
   "mimetype": "text/x-python",
   "name": "python",
   "nbconvert_exporter": "python",
   "pygments_lexer": "ipython3",
   "version": "3.9.6"
  },
  "vscode": {
   "interpreter": {
    "hash": "1a1af0ee75eeea9e2e1ee996c87e7a2b11a0bebd85af04bb136d915cefc0abce"
   }
  }
 },
 "nbformat": 4,
 "nbformat_minor": 2
}
