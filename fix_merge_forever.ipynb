{
 "cells": [
  {
   "cell_type": "markdown",
   "metadata": {},
   "source": [
    "# Fixing Merge Conflicts\n",
    "\n",
    "Author: Bonnie Hurwitz\n",
    "\n",
    "Are you tired of merge conflicts? It's time to get rid of them once and for all!"
   ]
  },
  {
   "cell_type": "markdown",
   "metadata": {},
   "source": [
    "### Getting Started"
   ]
  },
  {
   "cell_type": "code",
   "execution_count": null,
   "metadata": {
    "vscode": {
     "languageId": "shellscript"
    }
   },
   "outputs": [],
   "source": [
    "# set the variable for your netid\n",
    "netid = \"MY_NETID\""
   ]
  },
  {
   "cell_type": "markdown",
   "metadata": {},
   "source": [
    "### Step 1: Run this step just one time."
   ]
  },
  {
   "cell_type": "code",
   "execution_count": null,
   "metadata": {
    "vscode": {
     "languageId": "shellscript"
    }
   },
   "outputs": [],
   "source": [
    "# For running the first time\n",
    "!mkdir ~/copy_be487-fall-2024\n",
    "!mv ~/be487-fall-2024 ~/copy_be487-fall-2024"
   ]
  },
  {
   "cell_type": "code",
   "execution_count": null,
   "metadata": {},
   "outputs": [],
   "source": [
    "# for running this again... (only if you have to)\n",
    "!rm -rf ~/be487-fall-2024"
   ]
  },
  {
   "cell_type": "code",
   "execution_count": null,
   "metadata": {
    "vscode": {
     "languageId": "shellscript"
    }
   },
   "outputs": [],
   "source": [
    "# clone a new version of the repository into your home directory\n",
    "%cd ~\n",
    "!git clone https://github.com/hurwitzlab/be487-fall-2024.git"
   ]
  },
  {
   "cell_type": "code",
   "execution_count": null,
   "metadata": {},
   "outputs": [],
   "source": [
    "# Got into your former directory, to copy your prior work over\n",
    "%cd ~/copy_be487-fall-2024/be487-fall-2024"
   ]
  },
  {
   "cell_type": "code",
   "execution_count": null,
   "metadata": {
    "vscode": {
     "languageId": "shellscript"
    }
   },
   "outputs": [],
   "source": [
    "%%bash\n",
    "cd assignments\n",
    "for dir in `ls`; do for file in `ls $dir`; do if [[ $file == *ipynb ]]; then cp $dir/$file ~/be487-fall-2024/assignments/$dir; fi done; done\n",
    "cd ../exercises\n",
    "for dir in `ls`; do for file in `ls $dir`; do if [[ $file == *ipynb ]]; then cp $dir/$file ~/be487-fall-2024/exercises/$dir; fi done; done\n"
   ]
  },
  {
   "cell_type": "markdown",
   "metadata": {},
   "source": [
    "### Step 2: Copy the new assignment\n",
    "\n",
    "Now we are only going to copy the new assignments over from the class respository."
   ]
  },
  {
   "cell_type": "markdown",
   "metadata": {},
   "source": [
    "### Here is a list of the assignments you can select from to add to the command below:\n",
    "\n",
    "01_getting_started\n",
    "02_intro_unix\n",
    "03_bash_scripting\n",
    "04_metadata\n",
    "05_getting_data\n",
    "06_qc_trimming\n",
    "07_contam_removal\n",
    "08_assembly\n",
    "09_binning_quality\n",
    "10_taxonomy\n",
    "11_data_filter\n",
    "12_taxa_profiles\n",
    "13_diversity\n",
    "14_clustering\n",
    "15_comparisons\n",
    "16_function\n",
    "17_pathways\n",
    "18_func_profiles\n",
    "19_func_biomarkers\n",
    "20_taxon_set"
   ]
  },
  {
   "cell_type": "code",
   "execution_count": null,
   "metadata": {
    "vscode": {
     "languageId": "shellscript"
    }
   },
   "outputs": [],
   "source": [
    "%%bash\n",
    "# If you need to get a new version of a notebook run a command like the following:\n",
    "assignment=\"My_Assignment\"\n",
    "cp -r /xdisk/bhurwitz/bh_class/be487-fall-2024/exercises/$assignment ~/be487-fall-2024/exercises\n",
    "cp -r /xdisk/bhurwitz/bh_class/be487-fall-2024/assignments/$assignment ~/be487-fall-2024/assignments"
   ]
  },
  {
   "cell_type": "code",
   "execution_count": null,
   "metadata": {},
   "outputs": [],
   "source": [
    "!ls ~/be487-fall-2024/assignments\n",
    "!ls ~/be487-fall-2024/exercises"
   ]
  },
  {
   "cell_type": "markdown",
   "metadata": {},
   "source": [
    "The End"
   ]
  }
 ],
 "metadata": {
  "kernelspec": {
   "display_name": "Python 3 (ipykernel)",
   "language": "python",
   "name": "python3"
  },
  "language_info": {
   "codemirror_mode": {
    "name": "ipython",
    "version": 3
   },
   "file_extension": ".py",
   "mimetype": "text/x-python",
   "name": "python",
   "nbconvert_exporter": "python",
   "pygments_lexer": "ipython3",
   "version": "3.8.12"
  },
  "vscode": {
   "interpreter": {
    "hash": "1a1af0ee75eeea9e2e1ee996c87e7a2b11a0bebd85af04bb136d915cefc0abce"
   }
  }
 },
 "nbformat": 4,
 "nbformat_minor": 2
}
